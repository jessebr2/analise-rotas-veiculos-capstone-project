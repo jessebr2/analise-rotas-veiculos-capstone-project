{
 "cells": [
  {
   "cell_type": "markdown",
   "metadata": {},
   "source": [
    "# Nanodegree Engenheiro de Machine Learning\n",
    "## Projeto de Conclusão de Curso\n",
    "## Project 5: Análise de padrões de rotas de veículos"
   ]
  },
  {
   "cell_type": "markdown",
   "metadata": {},
   "source": [
    "## Introdução\n",
    "\n",
    "Neste projeto será analisado o conjunto de dados de passagens de veículos por pontos de uma cidade. A base de dados contém a placa do veículo e a latitude e longitude do ponto de monitoramento. Esses dados se referem aos dias 14 e 15 de setembro de 2017. O objetivo deste projeto é identificar padrões de rotas de veículos, considerando para isso, a quantidade de vezes que cada veículo passou pelo ponto de controle em durante dois dias. "
   ]
  },
  {
   "cell_type": "markdown",
   "metadata": {},
   "source": [
    "**Política de privacidade e confidencialidade das informações**\n",
    "\n",
    "Para que não seja infligida a privacidade dos donos dos veículos e a confidencialidade dos dados, tanto as placas quanto os dados dos pontos de controle foram cifrados para que se tornassem ininteligíveis. "
   ]
  },
  {
   "cell_type": "markdown",
   "metadata": {},
   "source": [
    "## Preparação dos dados\n",
    "Aqui serão importados os dados e preparada a tabela de pontos por características (placa por locais)."
   ]
  },
  {
   "cell_type": "code",
   "execution_count": 1,
   "metadata": {},
   "outputs": [
    {
     "name": "stdout",
     "output_type": "stream",
     "text": [
      "Base de dados contém 2455348 passagens com 5 características cada.\n"
     ]
    }
   ],
   "source": [
    "# Bibliotecas necessárias para este projeto\n",
    "import numpy as np\n",
    "import pandas as pd\n",
    "import renders as rs\n",
    "from IPython.display import display # Allows the use of display() for DataFrames\n",
    "\n",
    "# Mostre matplotlib no corpo do texto (bem formatado no Notebook)\n",
    "%matplotlib inline\n",
    "\n",
    "# Carregamento do conjunto de dados dos veículos\n",
    "try:\n",
    "    data_csv = pd.read_csv(\"veiculos_14e15set_trans.csv\")\n",
    "    print \"Base de dados contém {} passagens com {} características cada.\".format(*data_csv.shape)\n",
    "except:\n",
    "    print \"Dataset could not be loaded. Is the dataset missing??\""
   ]
  },
  {
   "cell_type": "markdown",
   "metadata": {},
   "source": [
    "- Verificando quais colunas foram importadas, a coluna 'count' conta quantas vezes o veículo passou no ponto; \n",
    "- Removendo linhas que contenham latitude igual a zero, pois trata-se de um erro nos dados;\n",
    "- Verificando quantas linhas e colunas possui a base de dados"
   ]
  },
  {
   "cell_type": "code",
   "execution_count": 2,
   "metadata": {},
   "outputs": [
    {
     "data": {
      "text/plain": [
       "Index([u'Unnamed: 0', u'loc_placa', u'loc_latitude', u'loc_longitude',\n",
       "       u'count'],\n",
       "      dtype='object')"
      ]
     },
     "metadata": {},
     "output_type": "display_data"
    },
    {
     "name": "stdout",
     "output_type": "stream",
     "text": [
      "(2455346, 5)\n"
     ]
    }
   ],
   "source": [
    "display(data_csv.columns)\n",
    "data_csv.drop(data_csv.loc_latitude == 0, inplace=True)\n",
    "print data_csv.shape"
   ]
  },
  {
   "cell_type": "markdown",
   "metadata": {},
   "source": [
    "Concatenando as colunas latitude e longitude em apenas uma coluna denominada \"local\":"
   ]
  },
  {
   "cell_type": "code",
   "execution_count": 3,
   "metadata": {},
   "outputs": [
    {
     "name": "stdout",
     "output_type": "stream",
     "text": [
      "Foram encontrados 618757 veículos passando por 135 pontos.\n"
     ]
    }
   ],
   "source": [
    "data_csv['local'] = data_csv['loc_latitude'].map(str) + \" \" + data_csv['loc_longitude'].map(str) #cria coluna concatenando latitude e longitude\n",
    "data_csv.drop(['loc_latitude', 'loc_longitude'], axis = 1, inplace = True)\n",
    "lista_veiculos = set(data_csv['loc_placa'])\n",
    "lista_locais = set(data_csv['local'])\n",
    "print \"Foram encontrados {} veículos passando por {} pontos.\" .format(len(lista_veiculos), len(lista_locais))"
   ]
  },
  {
   "cell_type": "code",
   "execution_count": 4,
   "metadata": {},
   "outputs": [
    {
     "data": {
      "text/html": [
       "<div>\n",
       "<style>\n",
       "    .dataframe thead tr:only-child th {\n",
       "        text-align: right;\n",
       "    }\n",
       "\n",
       "    .dataframe thead th {\n",
       "        text-align: left;\n",
       "    }\n",
       "\n",
       "    .dataframe tbody tr th {\n",
       "        vertical-align: top;\n",
       "    }\n",
       "</style>\n",
       "<table border=\"1\" class=\"dataframe\">\n",
       "  <thead>\n",
       "    <tr style=\"text-align: right;\">\n",
       "      <th></th>\n",
       "      <th>Unnamed: 0</th>\n",
       "      <th>count</th>\n",
       "      <th>local</th>\n",
       "    </tr>\n",
       "    <tr>\n",
       "      <th>loc_placa</th>\n",
       "      <th></th>\n",
       "      <th></th>\n",
       "      <th></th>\n",
       "    </tr>\n",
       "  </thead>\n",
       "  <tbody>\n",
       "    <tr>\n",
       "      <th>OTS5855</th>\n",
       "      <td>4</td>\n",
       "      <td>1</td>\n",
       "      <td>1412 9134</td>\n",
       "    </tr>\n",
       "    <tr>\n",
       "      <th>APS9101</th>\n",
       "      <td>5</td>\n",
       "      <td>1</td>\n",
       "      <td>5825 9794</td>\n",
       "    </tr>\n",
       "    <tr>\n",
       "      <th>HRN6599</th>\n",
       "      <td>6</td>\n",
       "      <td>2</td>\n",
       "      <td>9222 5020</td>\n",
       "    </tr>\n",
       "    <tr>\n",
       "      <th>OFI2494</th>\n",
       "      <td>7</td>\n",
       "      <td>1</td>\n",
       "      <td>2324 8727</td>\n",
       "    </tr>\n",
       "    <tr>\n",
       "      <th>PAM3495</th>\n",
       "      <td>8</td>\n",
       "      <td>1</td>\n",
       "      <td>3444 967</td>\n",
       "    </tr>\n",
       "  </tbody>\n",
       "</table>\n",
       "</div>"
      ],
      "text/plain": [
       "           Unnamed: 0  count      local\n",
       "loc_placa                              \n",
       "OTS5855             4      1  1412 9134\n",
       "APS9101             5      1  5825 9794\n",
       "HRN6599             6      2  9222 5020\n",
       "OFI2494             7      1  2324 8727\n",
       "PAM3495             8      1   3444 967"
      ]
     },
     "metadata": {},
     "output_type": "display_data"
    }
   ],
   "source": [
    "#indexa o DataFrame pelo campo 'loc_placa'\n",
    "data_csv.set_index(['loc_placa'], inplace = True)\n",
    "display(data_csv.head(n=5))"
   ]
  },
  {
   "cell_type": "code",
   "execution_count": 100,
   "metadata": {},
   "outputs": [
    {
     "data": {
      "text/plain": [
       "3196578L"
      ]
     },
     "execution_count": 100,
     "metadata": {},
     "output_type": "execute_result"
    }
   ],
   "source": [
    "data_csv['count'].sum()"
   ]
  },
  {
   "cell_type": "markdown",
   "metadata": {},
   "source": [
    "O próximo passo é criar uma tabela em que cada linha contenha um veículo e cada coluna a latitude e longitude de um ponto de controle."
   ]
  },
  {
   "cell_type": "code",
   "execution_count": 5,
   "metadata": {
    "collapsed": true
   },
   "outputs": [],
   "source": [
    "def create_df_placaporpontos(data_csv, local_column):\n",
    "    lista_veiculos = set(data_csv.index)\n",
    "    lista_locais = set(data_csv[local_column])\n",
    "    data = pd.DataFrame(index = lista_veiculos, columns = lista_locais)\n",
    "    data.fillna(0, inplace=True)\n",
    "    for local in lista_locais:\n",
    "        try:\n",
    "            data_temp = pd.DataFrame(data_csv[data_csv[local_column] == local])\n",
    "            data[local]=data[local].add(data_temp['count'], fill_value = 0)\n",
    "        except:\n",
    "            display(data_temp)\n",
    "            data_temp.to_csv('data_temp.csv')\n",
    "    return data"
   ]
  },
  {
   "cell_type": "code",
   "execution_count": 6,
   "metadata": {},
   "outputs": [
    {
     "name": "stdout",
     "output_type": "stream",
     "text": [
      "tabela criada com sucesso\n"
     ]
    }
   ],
   "source": [
    "data = create_df_placaporpontos(data_csv, 'local')\n",
    "print \"tabela criada com sucesso\""
   ]
  },
  {
   "cell_type": "markdown",
   "metadata": {},
   "source": [
    "Salvando o dataframe em arquivo:"
   ]
  },
  {
   "cell_type": "code",
   "execution_count": 7,
   "metadata": {},
   "outputs": [
    {
     "name": "stdout",
     "output_type": "stream",
     "text": [
      "arquivo salvo com sucesso\n"
     ]
    }
   ],
   "source": [
    "try:\n",
    "    data.to_csv('placas_por_pontos_geral.csv')\n",
    "    print \"arquivo salvo com sucesso\"\n",
    "except:\n",
    "    print \"erro ao salvar arquivo\""
   ]
  },
  {
   "cell_type": "markdown",
   "metadata": {},
   "source": [
    "### Apresentando a tabela\n",
    "A tabela abaixo é a tabela que será utilizada para desenvolvimento do projeto, cada linha contém um veículo e em cada coluna a quantidade de vezes que o veículo passou por cada ponto de controle, as colunas serão tratadas como características de cada veículo. "
   ]
  },
  {
   "cell_type": "code",
   "execution_count": 8,
   "metadata": {
    "scrolled": true
   },
   "outputs": [
    {
     "data": {
      "text/html": [
       "<div>\n",
       "<style>\n",
       "    .dataframe thead tr:only-child th {\n",
       "        text-align: right;\n",
       "    }\n",
       "\n",
       "    .dataframe thead th {\n",
       "        text-align: left;\n",
       "    }\n",
       "\n",
       "    .dataframe tbody tr th {\n",
       "        vertical-align: top;\n",
       "    }\n",
       "</style>\n",
       "<table border=\"1\" class=\"dataframe\">\n",
       "  <thead>\n",
       "    <tr style=\"text-align: right;\">\n",
       "      <th></th>\n",
       "      <th>5613 8278</th>\n",
       "      <th>4738 6727</th>\n",
       "      <th>4332 2860</th>\n",
       "      <th>8053 4258</th>\n",
       "      <th>3444 967</th>\n",
       "      <th>1412 9134</th>\n",
       "      <th>5880 8554</th>\n",
       "      <th>2833 1278</th>\n",
       "      <th>3416 1233</th>\n",
       "      <th>2374 6763</th>\n",
       "      <th>...</th>\n",
       "      <th>5000 4778</th>\n",
       "      <th>4162 7589</th>\n",
       "      <th>472 5552</th>\n",
       "      <th>1382 4248</th>\n",
       "      <th>4853 8470</th>\n",
       "      <th>9430 4736</th>\n",
       "      <th>5303 7658</th>\n",
       "      <th>7723 5667</th>\n",
       "      <th>9666 833</th>\n",
       "      <th>7272 1070</th>\n",
       "    </tr>\n",
       "  </thead>\n",
       "  <tbody>\n",
       "    <tr>\n",
       "      <th>PIX8731</th>\n",
       "      <td>0.0</td>\n",
       "      <td>0.0</td>\n",
       "      <td>0.0</td>\n",
       "      <td>0.0</td>\n",
       "      <td>0.0</td>\n",
       "      <td>0.0</td>\n",
       "      <td>0.0</td>\n",
       "      <td>0.0</td>\n",
       "      <td>0.0</td>\n",
       "      <td>0.0</td>\n",
       "      <td>...</td>\n",
       "      <td>0.0</td>\n",
       "      <td>0.0</td>\n",
       "      <td>0.0</td>\n",
       "      <td>0.0</td>\n",
       "      <td>0.0</td>\n",
       "      <td>0.0</td>\n",
       "      <td>0.0</td>\n",
       "      <td>0.0</td>\n",
       "      <td>0.0</td>\n",
       "      <td>0.0</td>\n",
       "    </tr>\n",
       "    <tr>\n",
       "      <th>HXX6311</th>\n",
       "      <td>0.0</td>\n",
       "      <td>0.0</td>\n",
       "      <td>1.0</td>\n",
       "      <td>0.0</td>\n",
       "      <td>0.0</td>\n",
       "      <td>0.0</td>\n",
       "      <td>0.0</td>\n",
       "      <td>0.0</td>\n",
       "      <td>0.0</td>\n",
       "      <td>0.0</td>\n",
       "      <td>...</td>\n",
       "      <td>0.0</td>\n",
       "      <td>0.0</td>\n",
       "      <td>0.0</td>\n",
       "      <td>0.0</td>\n",
       "      <td>0.0</td>\n",
       "      <td>0.0</td>\n",
       "      <td>0.0</td>\n",
       "      <td>0.0</td>\n",
       "      <td>0.0</td>\n",
       "      <td>0.0</td>\n",
       "    </tr>\n",
       "    <tr>\n",
       "      <th>OES0945</th>\n",
       "      <td>0.0</td>\n",
       "      <td>0.0</td>\n",
       "      <td>0.0</td>\n",
       "      <td>0.0</td>\n",
       "      <td>0.0</td>\n",
       "      <td>0.0</td>\n",
       "      <td>0.0</td>\n",
       "      <td>0.0</td>\n",
       "      <td>0.0</td>\n",
       "      <td>0.0</td>\n",
       "      <td>...</td>\n",
       "      <td>0.0</td>\n",
       "      <td>0.0</td>\n",
       "      <td>0.0</td>\n",
       "      <td>0.0</td>\n",
       "      <td>0.0</td>\n",
       "      <td>0.0</td>\n",
       "      <td>0.0</td>\n",
       "      <td>0.0</td>\n",
       "      <td>0.0</td>\n",
       "      <td>0.0</td>\n",
       "    </tr>\n",
       "    <tr>\n",
       "      <th>HWC4722</th>\n",
       "      <td>0.0</td>\n",
       "      <td>0.0</td>\n",
       "      <td>0.0</td>\n",
       "      <td>0.0</td>\n",
       "      <td>0.0</td>\n",
       "      <td>0.0</td>\n",
       "      <td>0.0</td>\n",
       "      <td>0.0</td>\n",
       "      <td>0.0</td>\n",
       "      <td>0.0</td>\n",
       "      <td>...</td>\n",
       "      <td>0.0</td>\n",
       "      <td>0.0</td>\n",
       "      <td>0.0</td>\n",
       "      <td>0.0</td>\n",
       "      <td>0.0</td>\n",
       "      <td>0.0</td>\n",
       "      <td>0.0</td>\n",
       "      <td>0.0</td>\n",
       "      <td>0.0</td>\n",
       "      <td>0.0</td>\n",
       "    </tr>\n",
       "    <tr>\n",
       "      <th>HXX6312</th>\n",
       "      <td>0.0</td>\n",
       "      <td>0.0</td>\n",
       "      <td>0.0</td>\n",
       "      <td>0.0</td>\n",
       "      <td>0.0</td>\n",
       "      <td>0.0</td>\n",
       "      <td>0.0</td>\n",
       "      <td>0.0</td>\n",
       "      <td>0.0</td>\n",
       "      <td>0.0</td>\n",
       "      <td>...</td>\n",
       "      <td>0.0</td>\n",
       "      <td>0.0</td>\n",
       "      <td>0.0</td>\n",
       "      <td>0.0</td>\n",
       "      <td>1.0</td>\n",
       "      <td>0.0</td>\n",
       "      <td>0.0</td>\n",
       "      <td>0.0</td>\n",
       "      <td>1.0</td>\n",
       "      <td>0.0</td>\n",
       "    </tr>\n",
       "    <tr>\n",
       "      <th>NMQ8671</th>\n",
       "      <td>0.0</td>\n",
       "      <td>0.0</td>\n",
       "      <td>0.0</td>\n",
       "      <td>0.0</td>\n",
       "      <td>0.0</td>\n",
       "      <td>0.0</td>\n",
       "      <td>0.0</td>\n",
       "      <td>0.0</td>\n",
       "      <td>0.0</td>\n",
       "      <td>0.0</td>\n",
       "      <td>...</td>\n",
       "      <td>0.0</td>\n",
       "      <td>0.0</td>\n",
       "      <td>0.0</td>\n",
       "      <td>0.0</td>\n",
       "      <td>0.0</td>\n",
       "      <td>0.0</td>\n",
       "      <td>0.0</td>\n",
       "      <td>0.0</td>\n",
       "      <td>0.0</td>\n",
       "      <td>0.0</td>\n",
       "    </tr>\n",
       "    <tr>\n",
       "      <th>NTM2610</th>\n",
       "      <td>0.0</td>\n",
       "      <td>0.0</td>\n",
       "      <td>0.0</td>\n",
       "      <td>0.0</td>\n",
       "      <td>0.0</td>\n",
       "      <td>0.0</td>\n",
       "      <td>0.0</td>\n",
       "      <td>0.0</td>\n",
       "      <td>0.0</td>\n",
       "      <td>0.0</td>\n",
       "      <td>...</td>\n",
       "      <td>0.0</td>\n",
       "      <td>0.0</td>\n",
       "      <td>0.0</td>\n",
       "      <td>0.0</td>\n",
       "      <td>0.0</td>\n",
       "      <td>0.0</td>\n",
       "      <td>0.0</td>\n",
       "      <td>0.0</td>\n",
       "      <td>0.0</td>\n",
       "      <td>0.0</td>\n",
       "    </tr>\n",
       "    <tr>\n",
       "      <th>ODI1168</th>\n",
       "      <td>0.0</td>\n",
       "      <td>0.0</td>\n",
       "      <td>0.0</td>\n",
       "      <td>0.0</td>\n",
       "      <td>0.0</td>\n",
       "      <td>0.0</td>\n",
       "      <td>0.0</td>\n",
       "      <td>0.0</td>\n",
       "      <td>0.0</td>\n",
       "      <td>0.0</td>\n",
       "      <td>...</td>\n",
       "      <td>0.0</td>\n",
       "      <td>0.0</td>\n",
       "      <td>0.0</td>\n",
       "      <td>0.0</td>\n",
       "      <td>0.0</td>\n",
       "      <td>0.0</td>\n",
       "      <td>0.0</td>\n",
       "      <td>0.0</td>\n",
       "      <td>0.0</td>\n",
       "      <td>0.0</td>\n",
       "    </tr>\n",
       "    <tr>\n",
       "      <th>OES0947</th>\n",
       "      <td>0.0</td>\n",
       "      <td>0.0</td>\n",
       "      <td>0.0</td>\n",
       "      <td>0.0</td>\n",
       "      <td>0.0</td>\n",
       "      <td>0.0</td>\n",
       "      <td>0.0</td>\n",
       "      <td>0.0</td>\n",
       "      <td>0.0</td>\n",
       "      <td>0.0</td>\n",
       "      <td>...</td>\n",
       "      <td>0.0</td>\n",
       "      <td>0.0</td>\n",
       "      <td>0.0</td>\n",
       "      <td>0.0</td>\n",
       "      <td>0.0</td>\n",
       "      <td>0.0</td>\n",
       "      <td>0.0</td>\n",
       "      <td>0.0</td>\n",
       "      <td>0.0</td>\n",
       "      <td>0.0</td>\n",
       "    </tr>\n",
       "    <tr>\n",
       "      <th>NTQ9976</th>\n",
       "      <td>0.0</td>\n",
       "      <td>0.0</td>\n",
       "      <td>0.0</td>\n",
       "      <td>0.0</td>\n",
       "      <td>0.0</td>\n",
       "      <td>0.0</td>\n",
       "      <td>0.0</td>\n",
       "      <td>0.0</td>\n",
       "      <td>0.0</td>\n",
       "      <td>0.0</td>\n",
       "      <td>...</td>\n",
       "      <td>0.0</td>\n",
       "      <td>0.0</td>\n",
       "      <td>0.0</td>\n",
       "      <td>0.0</td>\n",
       "      <td>0.0</td>\n",
       "      <td>0.0</td>\n",
       "      <td>0.0</td>\n",
       "      <td>0.0</td>\n",
       "      <td>0.0</td>\n",
       "      <td>0.0</td>\n",
       "    </tr>\n",
       "  </tbody>\n",
       "</table>\n",
       "<p>10 rows × 135 columns</p>\n",
       "</div>"
      ],
      "text/plain": [
       "         5613 8278  4738 6727  4332 2860  8053 4258  3444 967  1412 9134  \\\n",
       "PIX8731        0.0        0.0        0.0        0.0       0.0        0.0   \n",
       "HXX6311        0.0        0.0        1.0        0.0       0.0        0.0   \n",
       "OES0945        0.0        0.0        0.0        0.0       0.0        0.0   \n",
       "HWC4722        0.0        0.0        0.0        0.0       0.0        0.0   \n",
       "HXX6312        0.0        0.0        0.0        0.0       0.0        0.0   \n",
       "NMQ8671        0.0        0.0        0.0        0.0       0.0        0.0   \n",
       "NTM2610        0.0        0.0        0.0        0.0       0.0        0.0   \n",
       "ODI1168        0.0        0.0        0.0        0.0       0.0        0.0   \n",
       "OES0947        0.0        0.0        0.0        0.0       0.0        0.0   \n",
       "NTQ9976        0.0        0.0        0.0        0.0       0.0        0.0   \n",
       "\n",
       "         5880 8554  2833 1278  3416 1233  2374 6763    ...      5000 4778  \\\n",
       "PIX8731        0.0        0.0        0.0        0.0    ...            0.0   \n",
       "HXX6311        0.0        0.0        0.0        0.0    ...            0.0   \n",
       "OES0945        0.0        0.0        0.0        0.0    ...            0.0   \n",
       "HWC4722        0.0        0.0        0.0        0.0    ...            0.0   \n",
       "HXX6312        0.0        0.0        0.0        0.0    ...            0.0   \n",
       "NMQ8671        0.0        0.0        0.0        0.0    ...            0.0   \n",
       "NTM2610        0.0        0.0        0.0        0.0    ...            0.0   \n",
       "ODI1168        0.0        0.0        0.0        0.0    ...            0.0   \n",
       "OES0947        0.0        0.0        0.0        0.0    ...            0.0   \n",
       "NTQ9976        0.0        0.0        0.0        0.0    ...            0.0   \n",
       "\n",
       "         4162 7589  472 5552  1382 4248  4853 8470  9430 4736  5303 7658  \\\n",
       "PIX8731        0.0       0.0        0.0        0.0        0.0        0.0   \n",
       "HXX6311        0.0       0.0        0.0        0.0        0.0        0.0   \n",
       "OES0945        0.0       0.0        0.0        0.0        0.0        0.0   \n",
       "HWC4722        0.0       0.0        0.0        0.0        0.0        0.0   \n",
       "HXX6312        0.0       0.0        0.0        1.0        0.0        0.0   \n",
       "NMQ8671        0.0       0.0        0.0        0.0        0.0        0.0   \n",
       "NTM2610        0.0       0.0        0.0        0.0        0.0        0.0   \n",
       "ODI1168        0.0       0.0        0.0        0.0        0.0        0.0   \n",
       "OES0947        0.0       0.0        0.0        0.0        0.0        0.0   \n",
       "NTQ9976        0.0       0.0        0.0        0.0        0.0        0.0   \n",
       "\n",
       "         7723 5667  9666 833  7272 1070  \n",
       "PIX8731        0.0       0.0        0.0  \n",
       "HXX6311        0.0       0.0        0.0  \n",
       "OES0945        0.0       0.0        0.0  \n",
       "HWC4722        0.0       0.0        0.0  \n",
       "HXX6312        0.0       1.0        0.0  \n",
       "NMQ8671        0.0       0.0        0.0  \n",
       "NTM2610        0.0       0.0        0.0  \n",
       "ODI1168        0.0       0.0        0.0  \n",
       "OES0947        0.0       0.0        0.0  \n",
       "NTQ9976        0.0       0.0        0.0  \n",
       "\n",
       "[10 rows x 135 columns]"
      ]
     },
     "metadata": {},
     "output_type": "display_data"
    }
   ],
   "source": [
    "display(data.head(n=10))"
   ]
  },
  {
   "cell_type": "code",
   "execution_count": 9,
   "metadata": {
    "collapsed": true
   },
   "outputs": [],
   "source": [
    "def plot_bar_graph(dados, labels, cor=\"blue\", x_label = \" \", y_label = \" \", title = \" \"): #função que traça o gráfico de barra\n",
    "    import matplotlib.pyplot as plt\n",
    "    width = 1/1.5\n",
    "    plt.xlabel(x_label)\n",
    "    plt.ylabel(y_label)\n",
    "    plt.title(title)\n",
    "    plt.grid(True)\n",
    "    plt.bar(labels, dados, width, color=cor)\n",
    "    return None"
   ]
  },
  {
   "cell_type": "code",
   "execution_count": 10,
   "metadata": {},
   "outputs": [
    {
     "data": {
      "image/png": "[encoded data removed]",
      "text/plain": [
       "<matplotlib.figure.Figure at 0x1a155cef50>"
      ]
     },
     "metadata": {},
     "output_type": "display_data"
    }
   ],
   "source": [
    "plot_bar_graph(data.sum(), np.arange(data.shape[1]), x_label = \"locais\", y_label = \"numero de passagens\", title = \"Passagens de veiculos por Ponto de Monitoramento\", cor = 'black')"
   ]
  },
  {
   "cell_type": "code",
   "execution_count": 11,
   "metadata": {},
   "outputs": [
    {
     "data": {
      "text/html": [
       "<div>\n",
       "<style>\n",
       "    .dataframe thead tr:only-child th {\n",
       "        text-align: right;\n",
       "    }\n",
       "\n",
       "    .dataframe thead th {\n",
       "        text-align: left;\n",
       "    }\n",
       "\n",
       "    .dataframe tbody tr th {\n",
       "        vertical-align: top;\n",
       "    }\n",
       "</style>\n",
       "<table border=\"1\" class=\"dataframe\">\n",
       "  <thead>\n",
       "    <tr style=\"text-align: right;\">\n",
       "      <th></th>\n",
       "      <th>5613 8278</th>\n",
       "      <th>4738 6727</th>\n",
       "      <th>4332 2860</th>\n",
       "      <th>8053 4258</th>\n",
       "      <th>3444 967</th>\n",
       "      <th>1412 9134</th>\n",
       "      <th>5880 8554</th>\n",
       "      <th>2833 1278</th>\n",
       "      <th>3416 1233</th>\n",
       "      <th>2374 6763</th>\n",
       "      <th>...</th>\n",
       "      <th>5000 4778</th>\n",
       "      <th>4162 7589</th>\n",
       "      <th>472 5552</th>\n",
       "      <th>1382 4248</th>\n",
       "      <th>4853 8470</th>\n",
       "      <th>9430 4736</th>\n",
       "      <th>5303 7658</th>\n",
       "      <th>7723 5667</th>\n",
       "      <th>9666 833</th>\n",
       "      <th>7272 1070</th>\n",
       "    </tr>\n",
       "  </thead>\n",
       "  <tbody>\n",
       "    <tr>\n",
       "      <th>count</th>\n",
       "      <td>618757.000000</td>\n",
       "      <td>618757.000000</td>\n",
       "      <td>618757.000000</td>\n",
       "      <td>618757.000000</td>\n",
       "      <td>618757.000000</td>\n",
       "      <td>618757.000000</td>\n",
       "      <td>618757.000000</td>\n",
       "      <td>618757.000000</td>\n",
       "      <td>618757.00000</td>\n",
       "      <td>618757.000000</td>\n",
       "      <td>...</td>\n",
       "      <td>618757.000000</td>\n",
       "      <td>618757.000000</td>\n",
       "      <td>618757.000000</td>\n",
       "      <td>618757.000000</td>\n",
       "      <td>618757.000000</td>\n",
       "      <td>618757.000000</td>\n",
       "      <td>618757.000000</td>\n",
       "      <td>618757.000000</td>\n",
       "      <td>618757.000000</td>\n",
       "      <td>618757.000000</td>\n",
       "    </tr>\n",
       "    <tr>\n",
       "      <th>mean</th>\n",
       "      <td>0.006311</td>\n",
       "      <td>0.052074</td>\n",
       "      <td>0.014161</td>\n",
       "      <td>0.034257</td>\n",
       "      <td>0.080246</td>\n",
       "      <td>0.025758</td>\n",
       "      <td>0.033116</td>\n",
       "      <td>0.040683</td>\n",
       "      <td>0.02160</td>\n",
       "      <td>0.017370</td>\n",
       "      <td>...</td>\n",
       "      <td>0.040292</td>\n",
       "      <td>0.034631</td>\n",
       "      <td>0.063458</td>\n",
       "      <td>0.036882</td>\n",
       "      <td>0.042560</td>\n",
       "      <td>0.024396</td>\n",
       "      <td>0.053027</td>\n",
       "      <td>0.046273</td>\n",
       "      <td>0.039922</td>\n",
       "      <td>0.074368</td>\n",
       "    </tr>\n",
       "    <tr>\n",
       "      <th>std</th>\n",
       "      <td>0.095645</td>\n",
       "      <td>0.474153</td>\n",
       "      <td>0.148592</td>\n",
       "      <td>0.285901</td>\n",
       "      <td>0.814628</td>\n",
       "      <td>0.184976</td>\n",
       "      <td>0.231416</td>\n",
       "      <td>0.244743</td>\n",
       "      <td>0.17967</td>\n",
       "      <td>0.173292</td>\n",
       "      <td>...</td>\n",
       "      <td>0.276702</td>\n",
       "      <td>0.238282</td>\n",
       "      <td>0.386831</td>\n",
       "      <td>0.307453</td>\n",
       "      <td>0.643333</td>\n",
       "      <td>0.215558</td>\n",
       "      <td>0.313068</td>\n",
       "      <td>0.261491</td>\n",
       "      <td>0.517614</td>\n",
       "      <td>0.376809</td>\n",
       "    </tr>\n",
       "    <tr>\n",
       "      <th>min</th>\n",
       "      <td>0.000000</td>\n",
       "      <td>0.000000</td>\n",
       "      <td>0.000000</td>\n",
       "      <td>0.000000</td>\n",
       "      <td>0.000000</td>\n",
       "      <td>0.000000</td>\n",
       "      <td>0.000000</td>\n",
       "      <td>0.000000</td>\n",
       "      <td>0.00000</td>\n",
       "      <td>0.000000</td>\n",
       "      <td>...</td>\n",
       "      <td>0.000000</td>\n",
       "      <td>0.000000</td>\n",
       "      <td>0.000000</td>\n",
       "      <td>0.000000</td>\n",
       "      <td>0.000000</td>\n",
       "      <td>0.000000</td>\n",
       "      <td>0.000000</td>\n",
       "      <td>0.000000</td>\n",
       "      <td>0.000000</td>\n",
       "      <td>0.000000</td>\n",
       "    </tr>\n",
       "    <tr>\n",
       "      <th>25%</th>\n",
       "      <td>0.000000</td>\n",
       "      <td>0.000000</td>\n",
       "      <td>0.000000</td>\n",
       "      <td>0.000000</td>\n",
       "      <td>0.000000</td>\n",
       "      <td>0.000000</td>\n",
       "      <td>0.000000</td>\n",
       "      <td>0.000000</td>\n",
       "      <td>0.00000</td>\n",
       "      <td>0.000000</td>\n",
       "      <td>...</td>\n",
       "      <td>0.000000</td>\n",
       "      <td>0.000000</td>\n",
       "      <td>0.000000</td>\n",
       "      <td>0.000000</td>\n",
       "      <td>0.000000</td>\n",
       "      <td>0.000000</td>\n",
       "      <td>0.000000</td>\n",
       "      <td>0.000000</td>\n",
       "      <td>0.000000</td>\n",
       "      <td>0.000000</td>\n",
       "    </tr>\n",
       "    <tr>\n",
       "      <th>50%</th>\n",
       "      <td>0.000000</td>\n",
       "      <td>0.000000</td>\n",
       "      <td>0.000000</td>\n",
       "      <td>0.000000</td>\n",
       "      <td>0.000000</td>\n",
       "      <td>0.000000</td>\n",
       "      <td>0.000000</td>\n",
       "      <td>0.000000</td>\n",
       "      <td>0.00000</td>\n",
       "      <td>0.000000</td>\n",
       "      <td>...</td>\n",
       "      <td>0.000000</td>\n",
       "      <td>0.000000</td>\n",
       "      <td>0.000000</td>\n",
       "      <td>0.000000</td>\n",
       "      <td>0.000000</td>\n",
       "      <td>0.000000</td>\n",
       "      <td>0.000000</td>\n",
       "      <td>0.000000</td>\n",
       "      <td>0.000000</td>\n",
       "      <td>0.000000</td>\n",
       "    </tr>\n",
       "    <tr>\n",
       "      <th>75%</th>\n",
       "      <td>0.000000</td>\n",
       "      <td>0.000000</td>\n",
       "      <td>0.000000</td>\n",
       "      <td>0.000000</td>\n",
       "      <td>0.000000</td>\n",
       "      <td>0.000000</td>\n",
       "      <td>0.000000</td>\n",
       "      <td>0.000000</td>\n",
       "      <td>0.00000</td>\n",
       "      <td>0.000000</td>\n",
       "      <td>...</td>\n",
       "      <td>0.000000</td>\n",
       "      <td>0.000000</td>\n",
       "      <td>0.000000</td>\n",
       "      <td>0.000000</td>\n",
       "      <td>0.000000</td>\n",
       "      <td>0.000000</td>\n",
       "      <td>0.000000</td>\n",
       "      <td>0.000000</td>\n",
       "      <td>0.000000</td>\n",
       "      <td>0.000000</td>\n",
       "    </tr>\n",
       "    <tr>\n",
       "      <th>max</th>\n",
       "      <td>11.000000</td>\n",
       "      <td>295.000000</td>\n",
       "      <td>21.000000</td>\n",
       "      <td>39.000000</td>\n",
       "      <td>578.000000</td>\n",
       "      <td>22.000000</td>\n",
       "      <td>77.000000</td>\n",
       "      <td>12.000000</td>\n",
       "      <td>10.00000</td>\n",
       "      <td>18.000000</td>\n",
       "      <td>...</td>\n",
       "      <td>28.000000</td>\n",
       "      <td>20.000000</td>\n",
       "      <td>192.000000</td>\n",
       "      <td>23.000000</td>\n",
       "      <td>468.000000</td>\n",
       "      <td>89.000000</td>\n",
       "      <td>28.000000</td>\n",
       "      <td>11.000000</td>\n",
       "      <td>353.000000</td>\n",
       "      <td>61.000000</td>\n",
       "    </tr>\n",
       "  </tbody>\n",
       "</table>\n",
       "<p>8 rows × 135 columns</p>\n",
       "</div>"
      ],
      "text/plain": [
       "           5613 8278      4738 6727      4332 2860      8053 4258  \\\n",
       "count  618757.000000  618757.000000  618757.000000  618757.000000   \n",
       "mean        0.006311       0.052074       0.014161       0.034257   \n",
       "std         0.095645       0.474153       0.148592       0.285901   \n",
       "min         0.000000       0.000000       0.000000       0.000000   \n",
       "25%         0.000000       0.000000       0.000000       0.000000   \n",
       "50%         0.000000       0.000000       0.000000       0.000000   \n",
       "75%         0.000000       0.000000       0.000000       0.000000   \n",
       "max        11.000000     295.000000      21.000000      39.000000   \n",
       "\n",
       "            3444 967      1412 9134      5880 8554      2833 1278  \\\n",
       "count  618757.000000  618757.000000  618757.000000  618757.000000   \n",
       "mean        0.080246       0.025758       0.033116       0.040683   \n",
       "std         0.814628       0.184976       0.231416       0.244743   \n",
       "min         0.000000       0.000000       0.000000       0.000000   \n",
       "25%         0.000000       0.000000       0.000000       0.000000   \n",
       "50%         0.000000       0.000000       0.000000       0.000000   \n",
       "75%         0.000000       0.000000       0.000000       0.000000   \n",
       "max       578.000000      22.000000      77.000000      12.000000   \n",
       "\n",
       "          3416 1233      2374 6763      ...            5000 4778  \\\n",
       "count  618757.00000  618757.000000      ...        618757.000000   \n",
       "mean        0.02160       0.017370      ...             0.040292   \n",
       "std         0.17967       0.173292      ...             0.276702   \n",
       "min         0.00000       0.000000      ...             0.000000   \n",
       "25%         0.00000       0.000000      ...             0.000000   \n",
       "50%         0.00000       0.000000      ...             0.000000   \n",
       "75%         0.00000       0.000000      ...             0.000000   \n",
       "max        10.00000      18.000000      ...            28.000000   \n",
       "\n",
       "           4162 7589       472 5552      1382 4248      4853 8470  \\\n",
       "count  618757.000000  618757.000000  618757.000000  618757.000000   \n",
       "mean        0.034631       0.063458       0.036882       0.042560   \n",
       "std         0.238282       0.386831       0.307453       0.643333   \n",
       "min         0.000000       0.000000       0.000000       0.000000   \n",
       "25%         0.000000       0.000000       0.000000       0.000000   \n",
       "50%         0.000000       0.000000       0.000000       0.000000   \n",
       "75%         0.000000       0.000000       0.000000       0.000000   \n",
       "max        20.000000     192.000000      23.000000     468.000000   \n",
       "\n",
       "           9430 4736      5303 7658      7723 5667       9666 833  \\\n",
       "count  618757.000000  618757.000000  618757.000000  618757.000000   \n",
       "mean        0.024396       0.053027       0.046273       0.039922   \n",
       "std         0.215558       0.313068       0.261491       0.517614   \n",
       "min         0.000000       0.000000       0.000000       0.000000   \n",
       "25%         0.000000       0.000000       0.000000       0.000000   \n",
       "50%         0.000000       0.000000       0.000000       0.000000   \n",
       "75%         0.000000       0.000000       0.000000       0.000000   \n",
       "max        89.000000      28.000000      11.000000     353.000000   \n",
       "\n",
       "           7272 1070  \n",
       "count  618757.000000  \n",
       "mean        0.074368  \n",
       "std         0.376809  \n",
       "min         0.000000  \n",
       "25%         0.000000  \n",
       "50%         0.000000  \n",
       "75%         0.000000  \n",
       "max        61.000000  \n",
       "\n",
       "[8 rows x 135 columns]"
      ]
     },
     "metadata": {},
     "output_type": "display_data"
    },
    {
     "name": "stdout",
     "output_type": "stream",
     "text": [
      "arquivo salvo com sucesso\n"
     ]
    }
   ],
   "source": [
    "display(data.describe())\n",
    "try:\n",
    "    data.describe().to_csv('data_describe.csv')\n",
    "    print \"arquivo salvo com sucesso\"\n",
    "except:\n",
    "    print \"erro ao salvar arquivo\""
   ]
  },
  {
   "cell_type": "markdown",
   "metadata": {},
   "source": [
    "### Implementação: PCA\n",
    "\n",
    "Como existem 135 características, será utilizado o PCA para descobrir qual dimensão dos dados melhor maximizam a variância dos atributos envolvidos. Além de descobrir essas dimensões, a PCA também irá reportar a *razão da variância explicada* de cada dimensão – quanta variância dentro dos dados é explicada pela dimensão sozinha. Note que o componente (dimensão) da PCA pode ser considerado como um novo \"feature\" do espaço, entretanto, ele é uma composição do atributo original presente nos dados."
   ]
  },
  {
   "cell_type": "code",
   "execution_count": 13,
   "metadata": {},
   "outputs": [
    {
     "name": "stdout",
     "output_type": "stream",
     "text": [
      "Array com a variança explicada acumulada:\n"
     ]
    },
    {
     "data": {
      "text/plain": [
       "array([ 0.47496722,  0.5282771 ,  0.56556268,  0.58944722,  0.60864399,\n",
       "        0.62347305,  0.63679169,  0.64954549,  0.6614776 ,  0.67194519,\n",
       "        0.68173064,  0.69093632,  0.69981426,  0.70845331,  0.71694788,\n",
       "        0.72514717,  0.73278852,  0.73972095,  0.74618327,  0.75230485,\n",
       "        0.75804486,  0.76323463,  0.76815817,  0.77302337,  0.77775373,\n",
       "        0.78244688,  0.78707831,  0.79151679,  0.79578474,  0.80000499,\n",
       "        0.80418198,  0.80822271,  0.81212708,  0.81595234,  0.81955318,\n",
       "        0.82311719,  0.82651814,  0.82988199,  0.83318902,  0.83648954,\n",
       "        0.83972158,  0.84293742,  0.84609643,  0.84921964,  0.85226069,\n",
       "        0.85521951,  0.85813514,  0.86100048,  0.86381631,  0.86659758])"
      ]
     },
     "execution_count": 13,
     "metadata": {},
     "output_type": "execute_result"
    }
   ],
   "source": [
    "# PCA\n",
    "from sklearn.decomposition import PCA\n",
    "pca = PCA(n_components = 50)\n",
    "pca.fit(data)\n",
    "print \"Array com a variança explicada acumulada:\"\n",
    "np.cumsum(pca.explained_variance_ratio_)\n"
   ]
  },
  {
   "cell_type": "markdown",
   "metadata": {},
   "source": [
    "### Redução da Dimensionalidade\n",
    "Ao utilizar um componente principal de análise, um dos objetivos principais é reduzir a dimensionalidade dos dados – na realidade, reduzindo a complexidade do problema. Redução de dimensionalidade tem um custo: Poucas dimensões utilizadas implicam em menor variância total dos dados que estão sendo explicados. Por causo disso, a *taxa de variância explicada cumulativa* é extremamente importante para saber como várias dimensões são necessárias para o problema. Além disso, se uma quantidade significativa de variância é explicada por apenas duas ou três dimensões, os dados reduzidos podem ser visualizados depois.\n",
    "\n",
    "Pelo Array de variança explicada pode-se ver que com 30 dimensões 80% da variança dos dados é explicada, portanto será utilizada a redução de dimensionalidade pelo PCA de **135** para **30** dimensões"
   ]
  },
  {
   "cell_type": "code",
   "execution_count": 14,
   "metadata": {},
   "outputs": [],
   "source": [
    "# Ajustanto o PCA com 30 dimensões\n",
    "pca = PCA(n_components = 30)\n",
    "pca.fit(data)\n",
    "\n",
    "# Transformando os dados utilizando o ajuste do PCA acima\n",
    "reduced_data = pca.transform(data)\n",
    "\n",
    "# Criando o DataFrame para os dados reduzidos\n",
    "pca_dimensions = list()\n",
    "for x in range(30):\n",
    "    pca_dimensions.append(\"Dimension \" + str(x))\n",
    "reduced_data = pd.DataFrame(reduced_data, columns = pca_dimensions)"
   ]
  },
  {
   "cell_type": "code",
   "execution_count": 15,
   "metadata": {},
   "outputs": [
    {
     "data": {
      "text/html": [
       "<div>\n",
       "<style>\n",
       "    .dataframe thead tr:only-child th {\n",
       "        text-align: right;\n",
       "    }\n",
       "\n",
       "    .dataframe thead th {\n",
       "        text-align: left;\n",
       "    }\n",
       "\n",
       "    .dataframe tbody tr th {\n",
       "        vertical-align: top;\n",
       "    }\n",
       "</style>\n",
       "<table border=\"1\" class=\"dataframe\">\n",
       "  <thead>\n",
       "    <tr style=\"text-align: right;\">\n",
       "      <th></th>\n",
       "      <th>Dimension 0</th>\n",
       "      <th>Dimension 1</th>\n",
       "      <th>Dimension 2</th>\n",
       "      <th>Dimension 3</th>\n",
       "      <th>Dimension 4</th>\n",
       "      <th>Dimension 5</th>\n",
       "      <th>Dimension 6</th>\n",
       "      <th>Dimension 7</th>\n",
       "      <th>Dimension 8</th>\n",
       "      <th>Dimension 9</th>\n",
       "      <th>...</th>\n",
       "      <th>Dimension 20</th>\n",
       "      <th>Dimension 21</th>\n",
       "      <th>Dimension 22</th>\n",
       "      <th>Dimension 23</th>\n",
       "      <th>Dimension 24</th>\n",
       "      <th>Dimension 25</th>\n",
       "      <th>Dimension 26</th>\n",
       "      <th>Dimension 27</th>\n",
       "      <th>Dimension 28</th>\n",
       "      <th>Dimension 29</th>\n",
       "    </tr>\n",
       "  </thead>\n",
       "  <tbody>\n",
       "    <tr>\n",
       "      <th>0</th>\n",
       "      <td>-0.337746</td>\n",
       "      <td>0.134597</td>\n",
       "      <td>-0.092639</td>\n",
       "      <td>-0.080160</td>\n",
       "      <td>0.071354</td>\n",
       "      <td>-0.199419</td>\n",
       "      <td>-0.020276</td>\n",
       "      <td>-0.053613</td>\n",
       "      <td>-0.058573</td>\n",
       "      <td>-0.019429</td>\n",
       "      <td>...</td>\n",
       "      <td>-0.351056</td>\n",
       "      <td>0.031484</td>\n",
       "      <td>-0.034321</td>\n",
       "      <td>-0.052499</td>\n",
       "      <td>0.466324</td>\n",
       "      <td>-0.096547</td>\n",
       "      <td>-0.238780</td>\n",
       "      <td>-0.155424</td>\n",
       "      <td>-0.046619</td>\n",
       "      <td>-0.014346</td>\n",
       "    </tr>\n",
       "    <tr>\n",
       "      <th>1</th>\n",
       "      <td>0.046368</td>\n",
       "      <td>0.786888</td>\n",
       "      <td>-0.231215</td>\n",
       "      <td>4.598310</td>\n",
       "      <td>-0.136278</td>\n",
       "      <td>-0.075438</td>\n",
       "      <td>0.118968</td>\n",
       "      <td>0.139859</td>\n",
       "      <td>0.877776</td>\n",
       "      <td>-0.123289</td>\n",
       "      <td>...</td>\n",
       "      <td>0.048565</td>\n",
       "      <td>-0.070746</td>\n",
       "      <td>0.056578</td>\n",
       "      <td>0.591900</td>\n",
       "      <td>-0.341337</td>\n",
       "      <td>0.235002</td>\n",
       "      <td>0.019569</td>\n",
       "      <td>0.159753</td>\n",
       "      <td>-0.078455</td>\n",
       "      <td>0.064835</td>\n",
       "    </tr>\n",
       "    <tr>\n",
       "      <th>2</th>\n",
       "      <td>-0.322102</td>\n",
       "      <td>0.156673</td>\n",
       "      <td>-0.120398</td>\n",
       "      <td>-0.137741</td>\n",
       "      <td>0.020541</td>\n",
       "      <td>-0.084840</td>\n",
       "      <td>0.065083</td>\n",
       "      <td>-0.039687</td>\n",
       "      <td>-0.026116</td>\n",
       "      <td>-0.013568</td>\n",
       "      <td>...</td>\n",
       "      <td>0.084106</td>\n",
       "      <td>-0.098734</td>\n",
       "      <td>-0.053817</td>\n",
       "      <td>0.039162</td>\n",
       "      <td>0.015395</td>\n",
       "      <td>0.034241</td>\n",
       "      <td>-0.284527</td>\n",
       "      <td>-0.184019</td>\n",
       "      <td>0.003576</td>\n",
       "      <td>-0.219605</td>\n",
       "    </tr>\n",
       "    <tr>\n",
       "      <th>3</th>\n",
       "      <td>-0.338625</td>\n",
       "      <td>0.148377</td>\n",
       "      <td>-0.077650</td>\n",
       "      <td>-0.134407</td>\n",
       "      <td>0.047865</td>\n",
       "      <td>-0.182351</td>\n",
       "      <td>-0.007738</td>\n",
       "      <td>-0.045255</td>\n",
       "      <td>-0.059596</td>\n",
       "      <td>-0.050654</td>\n",
       "      <td>...</td>\n",
       "      <td>0.048059</td>\n",
       "      <td>-0.006135</td>\n",
       "      <td>-0.061477</td>\n",
       "      <td>0.004515</td>\n",
       "      <td>-0.050984</td>\n",
       "      <td>0.009430</td>\n",
       "      <td>0.041761</td>\n",
       "      <td>-0.095234</td>\n",
       "      <td>-0.064243</td>\n",
       "      <td>0.055761</td>\n",
       "    </tr>\n",
       "    <tr>\n",
       "      <th>4</th>\n",
       "      <td>0.028331</td>\n",
       "      <td>0.476896</td>\n",
       "      <td>-0.257952</td>\n",
       "      <td>-0.074686</td>\n",
       "      <td>-0.051782</td>\n",
       "      <td>-0.500553</td>\n",
       "      <td>-0.159534</td>\n",
       "      <td>0.087516</td>\n",
       "      <td>0.088870</td>\n",
       "      <td>0.201016</td>\n",
       "      <td>...</td>\n",
       "      <td>-0.742545</td>\n",
       "      <td>-0.005075</td>\n",
       "      <td>0.188884</td>\n",
       "      <td>0.093083</td>\n",
       "      <td>0.170413</td>\n",
       "      <td>0.437950</td>\n",
       "      <td>0.117917</td>\n",
       "      <td>0.023414</td>\n",
       "      <td>0.152645</td>\n",
       "      <td>-0.001960</td>\n",
       "    </tr>\n",
       "    <tr>\n",
       "      <th>5</th>\n",
       "      <td>-0.334127</td>\n",
       "      <td>0.142917</td>\n",
       "      <td>-0.038640</td>\n",
       "      <td>-0.115717</td>\n",
       "      <td>0.092097</td>\n",
       "      <td>-0.205412</td>\n",
       "      <td>-0.057190</td>\n",
       "      <td>-0.052735</td>\n",
       "      <td>-0.084334</td>\n",
       "      <td>0.045245</td>\n",
       "      <td>...</td>\n",
       "      <td>0.282669</td>\n",
       "      <td>0.046693</td>\n",
       "      <td>-0.025968</td>\n",
       "      <td>-0.318227</td>\n",
       "      <td>-0.122293</td>\n",
       "      <td>0.071908</td>\n",
       "      <td>0.168082</td>\n",
       "      <td>-0.058593</td>\n",
       "      <td>-0.096623</td>\n",
       "      <td>0.165053</td>\n",
       "    </tr>\n",
       "    <tr>\n",
       "      <th>6</th>\n",
       "      <td>-0.117623</td>\n",
       "      <td>0.377637</td>\n",
       "      <td>-0.194716</td>\n",
       "      <td>-0.184864</td>\n",
       "      <td>-0.087055</td>\n",
       "      <td>0.403483</td>\n",
       "      <td>-0.572409</td>\n",
       "      <td>-0.026438</td>\n",
       "      <td>-0.118260</td>\n",
       "      <td>0.004248</td>\n",
       "      <td>...</td>\n",
       "      <td>-0.036523</td>\n",
       "      <td>0.156386</td>\n",
       "      <td>0.770695</td>\n",
       "      <td>0.017364</td>\n",
       "      <td>-0.198083</td>\n",
       "      <td>-0.132807</td>\n",
       "      <td>-0.401922</td>\n",
       "      <td>-0.134272</td>\n",
       "      <td>-0.042754</td>\n",
       "      <td>-0.013287</td>\n",
       "    </tr>\n",
       "    <tr>\n",
       "      <th>7</th>\n",
       "      <td>-0.290270</td>\n",
       "      <td>0.184811</td>\n",
       "      <td>-0.132352</td>\n",
       "      <td>-0.052202</td>\n",
       "      <td>0.031181</td>\n",
       "      <td>-0.245182</td>\n",
       "      <td>-0.009736</td>\n",
       "      <td>-0.005653</td>\n",
       "      <td>0.119701</td>\n",
       "      <td>-0.069972</td>\n",
       "      <td>...</td>\n",
       "      <td>0.065934</td>\n",
       "      <td>0.017591</td>\n",
       "      <td>0.000139</td>\n",
       "      <td>0.050501</td>\n",
       "      <td>-0.020699</td>\n",
       "      <td>-0.098267</td>\n",
       "      <td>-0.072236</td>\n",
       "      <td>0.033342</td>\n",
       "      <td>-0.034068</td>\n",
       "      <td>-0.032504</td>\n",
       "    </tr>\n",
       "    <tr>\n",
       "      <th>8</th>\n",
       "      <td>-0.337188</td>\n",
       "      <td>0.125138</td>\n",
       "      <td>-0.093540</td>\n",
       "      <td>-0.127864</td>\n",
       "      <td>0.071952</td>\n",
       "      <td>-0.205103</td>\n",
       "      <td>-0.012239</td>\n",
       "      <td>-0.043672</td>\n",
       "      <td>-0.061136</td>\n",
       "      <td>-0.047861</td>\n",
       "      <td>...</td>\n",
       "      <td>0.005864</td>\n",
       "      <td>0.028949</td>\n",
       "      <td>0.000069</td>\n",
       "      <td>-0.062470</td>\n",
       "      <td>-0.038380</td>\n",
       "      <td>-0.008369</td>\n",
       "      <td>0.007569</td>\n",
       "      <td>-0.037882</td>\n",
       "      <td>-0.011351</td>\n",
       "      <td>0.070696</td>\n",
       "    </tr>\n",
       "    <tr>\n",
       "      <th>9</th>\n",
       "      <td>-0.339927</td>\n",
       "      <td>0.158331</td>\n",
       "      <td>-0.108717</td>\n",
       "      <td>0.250201</td>\n",
       "      <td>0.048907</td>\n",
       "      <td>-0.181207</td>\n",
       "      <td>0.006763</td>\n",
       "      <td>-0.067637</td>\n",
       "      <td>-0.150527</td>\n",
       "      <td>-0.058336</td>\n",
       "      <td>...</td>\n",
       "      <td>0.103097</td>\n",
       "      <td>0.042148</td>\n",
       "      <td>-0.011486</td>\n",
       "      <td>-0.105589</td>\n",
       "      <td>0.121686</td>\n",
       "      <td>0.005296</td>\n",
       "      <td>-0.030003</td>\n",
       "      <td>0.007146</td>\n",
       "      <td>-0.009800</td>\n",
       "      <td>-0.052844</td>\n",
       "    </tr>\n",
       "  </tbody>\n",
       "</table>\n",
       "<p>10 rows × 30 columns</p>\n",
       "</div>"
      ],
      "text/plain": [
       "   Dimension 0  Dimension 1  Dimension 2  Dimension 3  Dimension 4  \\\n",
       "0    -0.337746     0.134597    -0.092639    -0.080160     0.071354   \n",
       "1     0.046368     0.786888    -0.231215     4.598310    -0.136278   \n",
       "2    -0.322102     0.156673    -0.120398    -0.137741     0.020541   \n",
       "3    -0.338625     0.148377    -0.077650    -0.134407     0.047865   \n",
       "4     0.028331     0.476896    -0.257952    -0.074686    -0.051782   \n",
       "5    -0.334127     0.142917    -0.038640    -0.115717     0.092097   \n",
       "6    -0.117623     0.377637    -0.194716    -0.184864    -0.087055   \n",
       "7    -0.290270     0.184811    -0.132352    -0.052202     0.031181   \n",
       "8    -0.337188     0.125138    -0.093540    -0.127864     0.071952   \n",
       "9    -0.339927     0.158331    -0.108717     0.250201     0.048907   \n",
       "\n",
       "   Dimension 5  Dimension 6  Dimension 7  Dimension 8  Dimension 9  \\\n",
       "0    -0.199419    -0.020276    -0.053613    -0.058573    -0.019429   \n",
       "1    -0.075438     0.118968     0.139859     0.877776    -0.123289   \n",
       "2    -0.084840     0.065083    -0.039687    -0.026116    -0.013568   \n",
       "3    -0.182351    -0.007738    -0.045255    -0.059596    -0.050654   \n",
       "4    -0.500553    -0.159534     0.087516     0.088870     0.201016   \n",
       "5    -0.205412    -0.057190    -0.052735    -0.084334     0.045245   \n",
       "6     0.403483    -0.572409    -0.026438    -0.118260     0.004248   \n",
       "7    -0.245182    -0.009736    -0.005653     0.119701    -0.069972   \n",
       "8    -0.205103    -0.012239    -0.043672    -0.061136    -0.047861   \n",
       "9    -0.181207     0.006763    -0.067637    -0.150527    -0.058336   \n",
       "\n",
       "       ...       Dimension 20  Dimension 21  Dimension 22  Dimension 23  \\\n",
       "0      ...          -0.351056      0.031484     -0.034321     -0.052499   \n",
       "1      ...           0.048565     -0.070746      0.056578      0.591900   \n",
       "2      ...           0.084106     -0.098734     -0.053817      0.039162   \n",
       "3      ...           0.048059     -0.006135     -0.061477      0.004515   \n",
       "4      ...          -0.742545     -0.005075      0.188884      0.093083   \n",
       "5      ...           0.282669      0.046693     -0.025968     -0.318227   \n",
       "6      ...          -0.036523      0.156386      0.770695      0.017364   \n",
       "7      ...           0.065934      0.017591      0.000139      0.050501   \n",
       "8      ...           0.005864      0.028949      0.000069     -0.062470   \n",
       "9      ...           0.103097      0.042148     -0.011486     -0.105589   \n",
       "\n",
       "   Dimension 24  Dimension 25  Dimension 26  Dimension 27  Dimension 28  \\\n",
       "0      0.466324     -0.096547     -0.238780     -0.155424     -0.046619   \n",
       "1     -0.341337      0.235002      0.019569      0.159753     -0.078455   \n",
       "2      0.015395      0.034241     -0.284527     -0.184019      0.003576   \n",
       "3     -0.050984      0.009430      0.041761     -0.095234     -0.064243   \n",
       "4      0.170413      0.437950      0.117917      0.023414      0.152645   \n",
       "5     -0.122293      0.071908      0.168082     -0.058593     -0.096623   \n",
       "6     -0.198083     -0.132807     -0.401922     -0.134272     -0.042754   \n",
       "7     -0.020699     -0.098267     -0.072236      0.033342     -0.034068   \n",
       "8     -0.038380     -0.008369      0.007569     -0.037882     -0.011351   \n",
       "9      0.121686      0.005296     -0.030003      0.007146     -0.009800   \n",
       "\n",
       "   Dimension 29  \n",
       "0     -0.014346  \n",
       "1      0.064835  \n",
       "2     -0.219605  \n",
       "3      0.055761  \n",
       "4     -0.001960  \n",
       "5      0.165053  \n",
       "6     -0.013287  \n",
       "7     -0.032504  \n",
       "8      0.070696  \n",
       "9     -0.052844  \n",
       "\n",
       "[10 rows x 30 columns]"
      ]
     },
     "metadata": {},
     "output_type": "display_data"
    }
   ],
   "source": [
    "# Exiba a amostra de log-data depois de aplicada a transformação da PCA em duas dimensões\n",
    "display(reduced_data[0:10])"
   ]
  },
  {
   "cell_type": "markdown",
   "metadata": {},
   "source": [
    "## Clustering\n",
    "\n",
    "Nesta seção, os dados serão clusterizados para que sejam definidos grupos com comportamentos em comum. Será utilizado o algoritmo de clustering K-Means. "
   ]
  },
  {
   "cell_type": "code",
   "execution_count": 16,
   "metadata": {
    "collapsed": true
   },
   "outputs": [],
   "source": [
    "from sklearn.cluster import KMeans\n",
    "\n",
    "def make_clusterer(data, number_of_clusters): #função que cria um clusterer e o retorna treinado\n",
    "    \n",
    "    clusterer_test = KMeans(n_clusters=number_of_clusters) #Algorítimo de clusters escolhido: KMeans\n",
    "    clusterer_test.fit(data)\n",
    "    return clusterer_test\n",
    "\n",
    "# Clusterizando os dados reduzidos em 30 clusters\n",
    "clusterer = make_clusterer(reduced_data, 30) \n",
    "        \n",
    "# Prevendo o cluster para cada ponto de dado\n",
    "preds = clusterer.predict(reduced_data)"
   ]
  },
  {
   "cell_type": "markdown",
   "metadata": {},
   "source": [
    "### Visualização de Clusters\n",
    "Os dados foram clusterizados com 30 dimensões, portanto não há como plotar um gráfico de dispersão com 30 dimensões. Uma forma de se ter uma idéia de como os pontos estão distribuídos entre os segmentos é um gráfico de barras em que cada barra representa a frequência dos pontos para cada segmento.\n",
    "\n",
    "Como a frequência entre os segmentos tem valores discrepantes umas das outras, para melhor visualização do gráfico será utilizada uma escala logarítimica."
   ]
  },
  {
   "cell_type": "code",
   "execution_count": 17,
   "metadata": {},
   "outputs": [
    {
     "data": {
      "image/png": "[encoded data removed]",
      "text/plain": [
       "<matplotlib.figure.Figure at 0x1a1add4c90>"
      ]
     },
     "metadata": {},
     "output_type": "display_data"
    }
   ],
   "source": [
    "labels = clusterer.labels_\n",
    "x_labels =  np.arange(0, (1+labels.max()))\n",
    "freq_labels = np.bincount(labels)\n",
    "log_freq = np.log(freq_labels)\n",
    "plot_bar_graph(log_freq, x_labels, x_label = \"Segmento\", y_label = \"log(frequencia de amostras)\", title = \"Distribuicao das amostras nos segmentos\")"
   ]
  },
  {
   "cell_type": "markdown",
   "metadata": {},
   "source": [
    "### Análise dos segmentos obtidos\n",
    "O gráfico acima representa trinta padrões de comportamentos de veículos durante dois dias. A partir desse ponto, pode-se usar os segmentos para verificar veículos que se comportam de forma parecida. \n",
    "\n",
    "Um segundo conjunto de dados contém veículos com restrições de envolvimento em crimes, como roubo/furto, clonados e proprietários com passagem na polícia. Esse segundo conjunto de dados são dos dias 21 e 22 de setembro de 2017, também uma Quinta e Sexta-feria, porém em dias diferentes do primeiro conjunto de dados. "
   ]
  },
  {
   "cell_type": "code",
   "execution_count": 33,
   "metadata": {},
   "outputs": [
    {
     "name": "stdout",
     "output_type": "stream",
     "text": [
      "Base de dados contém 3761 pontos com 5 características cada.\n"
     ]
    }
   ],
   "source": [
    "try:\n",
    "    data_csv2 = pd.read_csv(\"veiculosrestricao21e22set_trans.csv\")\n",
    "    \n",
    "    print \"Base de dados contém {} pontos com {} características cada.\".format(*data_csv2.shape)\n",
    "except:\n",
    "    print \"Dataset could not be loaded. Is the dataset missing??\""
   ]
  },
  {
   "cell_type": "code",
   "execution_count": 34,
   "metadata": {},
   "outputs": [
    {
     "data": {
      "text/plain": [
       "Index([u'Unnamed: 0', u'placa', u'loc_latitude', u'loc_longitude', u'count'], dtype='object')"
      ]
     },
     "metadata": {},
     "output_type": "display_data"
    }
   ],
   "source": [
    "display(data_csv2.columns)"
   ]
  },
  {
   "cell_type": "code",
   "execution_count": 35,
   "metadata": {
    "scrolled": true
   },
   "outputs": [
    {
     "name": "stdout",
     "output_type": "stream",
     "text": [
      "Foram encontrados 2375 veículos passando por 196 pontos.\n"
     ]
    }
   ],
   "source": [
    "data_csv2['local'] = data_csv2['loc_latitude'].map(str) + \" \" + data_csv2['loc_longitude'].map(str) #cria coluna concatenando latitude e longitude\n",
    "data_csv2.drop(['loc_latitude', 'loc_longitude'], axis = 1, inplace = True)\n",
    "lista_veiculos = set(data_csv2['placa'])\n",
    "lista_locais = set(data_csv2['local'])\n",
    "print \"Foram encontrados {} veículos passando por {} pontos.\" .format(len(lista_veiculos), len(lista_locais))"
   ]
  },
  {
   "cell_type": "code",
   "execution_count": 36,
   "metadata": {},
   "outputs": [
    {
     "data": {
      "text/html": [
       "<div>\n",
       "<style>\n",
       "    .dataframe thead tr:only-child th {\n",
       "        text-align: right;\n",
       "    }\n",
       "\n",
       "    .dataframe thead th {\n",
       "        text-align: left;\n",
       "    }\n",
       "\n",
       "    .dataframe tbody tr th {\n",
       "        vertical-align: top;\n",
       "    }\n",
       "</style>\n",
       "<table border=\"1\" class=\"dataframe\">\n",
       "  <thead>\n",
       "    <tr style=\"text-align: right;\">\n",
       "      <th></th>\n",
       "      <th>Unnamed: 0</th>\n",
       "      <th>placa</th>\n",
       "      <th>count</th>\n",
       "      <th>local</th>\n",
       "    </tr>\n",
       "  </thead>\n",
       "  <tbody>\n",
       "    <tr>\n",
       "      <th>0</th>\n",
       "      <td>1</td>\n",
       "      <td>ODT2896</td>\n",
       "      <td>1</td>\n",
       "      <td>4316 3639</td>\n",
       "    </tr>\n",
       "    <tr>\n",
       "      <th>1</th>\n",
       "      <td>2</td>\n",
       "      <td>ICN7385</td>\n",
       "      <td>1</td>\n",
       "      <td>2403 9277</td>\n",
       "    </tr>\n",
       "    <tr>\n",
       "      <th>2</th>\n",
       "      <td>3</td>\n",
       "      <td>HQX7704</td>\n",
       "      <td>1</td>\n",
       "      <td>1000 833</td>\n",
       "    </tr>\n",
       "    <tr>\n",
       "      <th>3</th>\n",
       "      <td>4</td>\n",
       "      <td>BUI6155</td>\n",
       "      <td>1</td>\n",
       "      <td>2822 0</td>\n",
       "    </tr>\n",
       "    <tr>\n",
       "      <th>4</th>\n",
       "      <td>5</td>\n",
       "      <td>LNB4997</td>\n",
       "      <td>1</td>\n",
       "      <td>3553 9819</td>\n",
       "    </tr>\n",
       "  </tbody>\n",
       "</table>\n",
       "</div>"
      ],
      "text/plain": [
       "   Unnamed: 0    placa  count      local\n",
       "0           1  ODT2896      1  4316 3639\n",
       "1           2  ICN7385      1  2403 9277\n",
       "2           3  HQX7704      1   1000 833\n",
       "3           4  BUI6155      1     2822 0\n",
       "4           5  LNB4997      1  3553 9819"
      ]
     },
     "metadata": {},
     "output_type": "display_data"
    }
   ],
   "source": [
    "display(data_csv2.head(n=5))"
   ]
  },
  {
   "cell_type": "code",
   "execution_count": 37,
   "metadata": {},
   "outputs": [
    {
     "data": {
      "text/html": [
       "<div>\n",
       "<style>\n",
       "    .dataframe thead tr:only-child th {\n",
       "        text-align: right;\n",
       "    }\n",
       "\n",
       "    .dataframe thead th {\n",
       "        text-align: left;\n",
       "    }\n",
       "\n",
       "    .dataframe tbody tr th {\n",
       "        vertical-align: top;\n",
       "    }\n",
       "</style>\n",
       "<table border=\"1\" class=\"dataframe\">\n",
       "  <thead>\n",
       "    <tr style=\"text-align: right;\">\n",
       "      <th></th>\n",
       "      <th>count</th>\n",
       "      <th>local</th>\n",
       "    </tr>\n",
       "    <tr>\n",
       "      <th>placa</th>\n",
       "      <th></th>\n",
       "      <th></th>\n",
       "    </tr>\n",
       "  </thead>\n",
       "  <tbody>\n",
       "    <tr>\n",
       "      <th>ODT2896</th>\n",
       "      <td>1</td>\n",
       "      <td>4316 3639</td>\n",
       "    </tr>\n",
       "    <tr>\n",
       "      <th>ICN7385</th>\n",
       "      <td>1</td>\n",
       "      <td>2403 9277</td>\n",
       "    </tr>\n",
       "    <tr>\n",
       "      <th>HQX7704</th>\n",
       "      <td>1</td>\n",
       "      <td>1000 833</td>\n",
       "    </tr>\n",
       "    <tr>\n",
       "      <th>BUI6155</th>\n",
       "      <td>1</td>\n",
       "      <td>2822 0</td>\n",
       "    </tr>\n",
       "    <tr>\n",
       "      <th>LNB4997</th>\n",
       "      <td>1</td>\n",
       "      <td>3553 9819</td>\n",
       "    </tr>\n",
       "  </tbody>\n",
       "</table>\n",
       "</div>"
      ],
      "text/plain": [
       "         count      local\n",
       "placa                    \n",
       "ODT2896      1  4316 3639\n",
       "ICN7385      1  2403 9277\n",
       "HQX7704      1   1000 833\n",
       "BUI6155      1     2822 0\n",
       "LNB4997      1  3553 9819"
      ]
     },
     "metadata": {},
     "output_type": "display_data"
    }
   ],
   "source": [
    "data_csv2.set_index(['placa'], inplace = True)\n",
    "data_csv2.drop(['Unnamed: 0'], axis=1, inplace = True)\n",
    "display(data_csv2.head(n=5))"
   ]
  },
  {
   "cell_type": "code",
   "execution_count": 38,
   "metadata": {},
   "outputs": [
    {
     "data": {
      "text/plain": [
       "(3761, 2)"
      ]
     },
     "metadata": {},
     "output_type": "display_data"
    },
    {
     "data": {
      "text/plain": [
       "2375"
      ]
     },
     "metadata": {},
     "output_type": "display_data"
    }
   ],
   "source": [
    "display(data_csv2.shape)\n",
    "display(len(set(data_csv2.index)))"
   ]
  },
  {
   "cell_type": "code",
   "execution_count": 60,
   "metadata": {
    "collapsed": true,
    "scrolled": true
   },
   "outputs": [],
   "source": [
    "#Criação de tabela prévia para receber os dados de veículos por locais\n",
    "data_restricao_prev = create_df_placaporpontos(data_csv2, 'local')"
   ]
  },
  {
   "cell_type": "code",
   "execution_count": 61,
   "metadata": {},
   "outputs": [
    {
     "data": {
      "text/plain": [
       "(2375, 196)"
      ]
     },
     "metadata": {},
     "output_type": "display_data"
    }
   ],
   "source": [
    "display(data_restricao_prev.shape)"
   ]
  },
  {
   "cell_type": "markdown",
   "metadata": {},
   "source": [
    "Este segundo conjunto de dados contem 196 pontos de controle de veículo, porém para comparar a rota desses veículos com os padrões ja definidos anteriormente, serão considerados somente os 135 pontos de controle utilizados antecoriormente.\n",
    "\n",
    "O bloco abaixo faz esse ajuste de características."
   ]
  },
  {
   "cell_type": "code",
   "execution_count": 62,
   "metadata": {},
   "outputs": [
    {
     "name": "stdout",
     "output_type": "stream",
     "text": [
      "196\n",
      "67\n"
     ]
    }
   ],
   "source": [
    "# Encontra as colunas que nao foram treinadas com o conjunto principal de dados\n",
    "colunas_nao_treinadas = list(data_restricao_prev.columns)\n",
    "print len(colunas_nao_treinadas)\n",
    "\n",
    "for loc in data.columns:\n",
    "    if loc in colunas_nao_treinadas:\n",
    "        colunas_nao_treinadas.remove(loc)\n",
    "print len(colunas_nao_treinadas)"
   ]
  },
  {
   "cell_type": "code",
   "execution_count": 63,
   "metadata": {},
   "outputs": [
    {
     "data": {
      "text/plain": [
       "(2375, 129)"
      ]
     },
     "metadata": {},
     "output_type": "display_data"
    }
   ],
   "source": [
    "#Retira as colunas não treinadas \n",
    "\n",
    "data_restricao = data_restricao_prev.drop(colunas_nao_treinadas, axis = 1)\n",
    "display(data_restricao.shape)"
   ]
  },
  {
   "cell_type": "markdown",
   "metadata": {},
   "source": [
    "Agora que as colunas não treinadas foram retiradas do novo data frame, é necessário incluir as colunas que estão contidas nos dados principais e não estão neste segundo conjunto, a fim de que os dados tenham as mesmas características e possam ser comparados."
   ]
  },
  {
   "cell_type": "code",
   "execution_count": 64,
   "metadata": {},
   "outputs": [
    {
     "name": "stdout",
     "output_type": "stream",
     "text": [
      "['0 9999', '4111 7000', '9556 4000', '9999 9999', '6967 2919', '6000 6194']\n"
     ]
    }
   ],
   "source": [
    "colunas_faltantes = list()\n",
    "for c in data.columns:\n",
    "    if c in data_restricao.columns:\n",
    "        None\n",
    "    else:\n",
    "        colunas_faltantes.append(c)\n",
    "print colunas_faltantes"
   ]
  },
  {
   "cell_type": "code",
   "execution_count": 65,
   "metadata": {},
   "outputs": [
    {
     "name": "stdout",
     "output_type": "stream",
     "text": [
      "Tamanho final do data frame:\n"
     ]
    },
    {
     "data": {
      "text/plain": [
       "(2375, 135)"
      ]
     },
     "metadata": {},
     "output_type": "display_data"
    }
   ],
   "source": [
    "colunas_faltantes_frame = np.zeros(shape=(len(data_restricao.index),len(colunas_faltantes)))\n",
    "colunas_faltantes_df=pd.DataFrame(colunas_faltantes_frame, index = data_restricao.index, columns=[colunas_faltantes])\n",
    "data_restricao=pd.concat([data_restricao, colunas_faltantes_df], axis=1)\n",
    "print \"Tamanho final do data frame:\" \n",
    "display(data_restricao.shape)\n",
    "data_restricao.fillna(0, inplace = True)"
   ]
  },
  {
   "cell_type": "markdown",
   "metadata": {},
   "source": [
    "O conjunto de dados de veículos com restrição possui veículos de outras localidades, por esse motivo que haviam as colunas a mais que foram retiradas. Agora, é necessário retirar do data frame os veículos que não passaram por nenhum ponto de monitoramento treinado."
   ]
  },
  {
   "cell_type": "code",
   "execution_count": 66,
   "metadata": {
    "collapsed": true
   },
   "outputs": [],
   "source": [
    "#removendo os veículos que nao passaram por nenhum ponto treinado\n",
    "data_restricao = data_restricao.loc[(data_restricao!=0).any(axis=1)]"
   ]
  },
  {
   "cell_type": "code",
   "execution_count": 67,
   "metadata": {},
   "outputs": [
    {
     "name": "stdout",
     "output_type": "stream",
     "text": [
      "O data frame final possui 2068 veículos passando nos 135 pontos treinados\n"
     ]
    }
   ],
   "source": [
    "print \"O data frame final possui {} veículos passando nos {} pontos treinados\" .format(*data_restricao.shape)"
   ]
  },
  {
   "cell_type": "markdown",
   "metadata": {},
   "source": [
    "Transformando as dimensões de data_restrição nas dimensões PCA treinadas anteriormente"
   ]
  },
  {
   "cell_type": "code",
   "execution_count": 69,
   "metadata": {},
   "outputs": [
    {
     "name": "stderr",
     "output_type": "stream",
     "text": [
      "/Users/tamara/anaconda2/lib/python2.7/site-packages/ipykernel_launcher.py:5: RuntimeWarning: divide by zero encountered in log\n",
      "  \"\"\"\n"
     ]
    }
   ],
   "source": [
    "data_restricao_pca = pca.transform(data_restricao) #aplica PCA\n",
    "data_restricao_pca = pd.DataFrame(data_restricao_pca, columns = pca_dimensions) #coloca os dados em um DataFrame\n",
    "data_restricao_pred = clusterer.predict(data_restricao_pca) #predição dos dados nos clusteres treinados\n",
    "freq_restricao = np.bincount(data_restricao_pred) #distribuição de frequência de cada cluster para veículos com restrição\n",
    "log_freq_restricao = np.log(freq_restricao)"
   ]
  },
  {
   "cell_type": "markdown",
   "metadata": {},
   "source": [
    "### Comparando os dados\n",
    "Agora que os veículos com restrição foram divididos nos segmentos de veículos calculados anteriormente, será verificado como eles se distribuem nos segmentos.\n",
    "Em azul será plotado os veículos em geral, em vermelho os veículos com restrição. É importante lembrar que a escala utilizada com o gráfico não é decimal, e sim logarítimica."
   ]
  },
  {
   "cell_type": "code",
   "execution_count": 49,
   "metadata": {
    "collapsed": true
   },
   "outputs": [],
   "source": [
    "def plot_thwo_bars_graph(a, b, x_label = \"\", y_label = \"\", title = \"\"):\n",
    "    import numpy as np\n",
    "    import matplotlib.pyplot as plt\n",
    "\n",
    "    x_a = range(len(a))\n",
    "    x_b = range(len(b))\n",
    "    width = 1/1.5\n",
    "    fig, ax = plt.subplots()\n",
    "    rect_a = ax.bar(x_a, a, width, color='b')\n",
    "    rect_b = ax.bar(x_b, b, width, color='r')\n",
    "    plt.grid(True)\n",
    "    plt.xlabel(x_label)\n",
    "    plt.ylabel(y_label)\n",
    "    plt.title(title)\n",
    "    plt.show()\n",
    "    return None"
   ]
  },
  {
   "cell_type": "code",
   "execution_count": 70,
   "metadata": {},
   "outputs": [
    {
     "data": {
      "image/png": "[encoded data removed]",
      "text/plain": [
       "<matplotlib.figure.Figure at 0x1a1ae1d150>"
      ]
     },
     "metadata": {},
     "output_type": "display_data"
    }
   ],
   "source": [
    "plot_thwo_bars_graph(log_freq, log_freq_restricao, title = \"Comparativo veiculos geral e veiculos com restricao por segmento\", y_label = \"log\", x_label = \"Segmentos\")"
   ]
  },
  {
   "cell_type": "code",
   "execution_count": 71,
   "metadata": {},
   "outputs": [
    {
     "name": "stdout",
     "output_type": "stream",
     "text": [
      "(30,)\n",
      "(30,)\n"
     ]
    }
   ],
   "source": [
    "# verificando o tamanho de cada array\n",
    "print freq_restricao.shape\n",
    "print freq_labels.shape"
   ]
  },
  {
   "cell_type": "markdown",
   "metadata": {},
   "source": [
    "### Calculando a taxa de veículos com restrição em cada segmento\n",
    "\n",
    "Será calculado a porcentagem da frequência dos veículos com restrição com relação aos veículos gerais."
   ]
  },
  {
   "cell_type": "code",
   "execution_count": 72,
   "metadata": {
    "collapsed": true
   },
   "outputs": [],
   "source": [
    "#a = freq_labels.shape[0]-freq_restricao.shape[0]\n",
    "#freq_restricao = np.append(freq_restricao, np.zeros(a))"
   ]
  },
  {
   "cell_type": "code",
   "execution_count": 73,
   "metadata": {
    "collapsed": true
   },
   "outputs": [],
   "source": [
    "x=freq_restricao.astype(float)\n",
    "restricao_ratio=np.divide(x,freq_labels)"
   ]
  },
  {
   "cell_type": "code",
   "execution_count": 74,
   "metadata": {},
   "outputs": [
    {
     "data": {
      "image/png": "[encoded data removed]",
      "text/plain": [
       "<matplotlib.figure.Figure at 0x110ea7610>"
      ]
     },
     "metadata": {},
     "output_type": "display_data"
    }
   ],
   "source": [
    "plot_bar_graph(restricao_ratio, x_labels, cor='red', x_label = \"Segmentos\", y_label = \"\", title = \"Taxa de veiculos com restricao em cada segmento\")"
   ]
  },
  {
   "cell_type": "code",
   "execution_count": 76,
   "metadata": {
    "collapsed": true
   },
   "outputs": [],
   "source": [
    "def make_score(freq_target, freq_labels):\n",
    "    a = freq_labels.shape[0]-freq_target.shape[0]\n",
    "    freq_target = np.append(freq_target, np.zeros(a))\n",
    "  \n",
    "    target_ratio=np.divide(freq_target.astype(float), freq_labels)\n",
    "    score = np.multiply(target_ratio, freq_target)\n",
    "    max_score=np.max(score)\n",
    "    \n",
    "    return max_score"
   ]
  },
  {
   "cell_type": "code",
   "execution_count": 78,
   "metadata": {},
   "outputs": [
    {
     "name": "stdout",
     "output_type": "stream",
     "text": [
      "A maior taxa foi de 0.00516380759483 no Segmento 2.\n",
      "O score para essa clusterização é 10.3741.\n"
     ]
    }
   ],
   "source": [
    "print \"A maior taxa foi de {} no Segmento {}.\" .format(np.max(restricao_ratio), np.argmax(restricao_ratio))\n",
    "score=make_score(freq_restricao,freq_labels)\n",
    "print \"O score para essa clusterização é {:.4f}.\" .format(score)"
   ]
  },
  {
   "cell_type": "markdown",
   "metadata": {},
   "source": [
    "### Otimização\n",
    "Será buscado agora uma clusterização que maximize o Score."
   ]
  },
  {
   "cell_type": "code",
   "execution_count": 287,
   "metadata": {
    "collapsed": true
   },
   "outputs": [],
   "source": [
    "def test_n_clusters(data, data_target, n_clusters):\n",
    "    \n",
    "    max_ratio = 0\n",
    "\n",
    "    clusterer = make_clusterer(data, n_clusters) #clusterização\n",
    "    labels = clusterer.labels_\n",
    "    freq_labels = np.bincount(labels)\n",
    "        \n",
    "    data_target_pred = clusterer.predict(data_target) #predição dos dados alvo nos clusteres treinados\n",
    "    freq_target = np.bincount(data_target_pred) #distribuição de frequência por clusters dos dados alvo\n",
    "      \n",
    "    score = make_score(freq_target, freq_labels)\n",
    "        \n",
    "    return (score, clusterer)"
   ]
  },
  {
   "cell_type": "code",
   "execution_count": 321,
   "metadata": {
    "collapsed": true
   },
   "outputs": [],
   "source": [
    "def find_better_clustering(start = 2):\n",
    "    score_dict = dict()\n",
    "    n1 = start\n",
    "    inc = 10\n",
    "    fator = 1\n",
    "    score_dict[n1] = test_n_clusters(reduced_data, data_restricao_pca, n1)\n",
    "    print \"Para {} clusters, score = {:.4f}.\" .format(n1, score_dict[n1])\n",
    "    d_score = 1\n",
    "    while d_score !=0:\n",
    "        n2 = n1 + inc\n",
    "        (score_dict[n2], clusterer) = test_n_clusters(reduced_data, data_restricao_pca, n2)\n",
    "        d_score = score_dict[n2] - score_dict[n1]\n",
    "        if d_score < 0:\n",
    "            inc = inc * (-1)\n",
    "            fator = 0.5          \n",
    "        inc = int(inc * fator)\n",
    "        n1 = n2\n",
    "        print \"Para {} clusters, score = {:.4f}\" .format(n2, score_dict[n2])\n",
    "    return score_dict"
   ]
  },
  {
   "cell_type": "code",
   "execution_count": 300,
   "metadata": {},
   "outputs": [
    {
     "name": "stdout",
     "output_type": "stream",
     "text": [
      "Para 2 clusters, score = 6.9116.\n",
      "Para 12 clusters, score = 9.0045\n",
      "Para 32 clusters, score = 10.6274\n",
      "Para 72 clusters, score = 11.4370\n",
      "Para 152 clusters, score = 11.4709\n",
      "Para 312 clusters, score = 6.3739\n",
      "Para 232 clusters, score = 6.9298\n",
      "Para 192 clusters, score = 11.3649\n",
      "Para 172 clusters, score = 10.3485\n",
      "Para 182 clusters, score = 11.6615\n",
      "Para 187 clusters, score = 9.9978\n",
      "Para 185 clusters, score = 10.8813\n",
      "Para 184 clusters, score = 11.5896\n",
      "Para 184 clusters, score = 11.9869\n"
     ]
    }
   ],
   "source": [
    "score_dict = find_better_clustering(start = 2)"
   ]
  },
  {
   "cell_type": "code",
   "execution_count": 308,
   "metadata": {},
   "outputs": [
    {
     "name": "stdout",
     "output_type": "stream",
     "text": [
      "Para 100 clusters, score = 11.1938.\n",
      "Para 110 clusters, score = 11.3803\n",
      "Para 130 clusters, score = 11.5159\n",
      "Para 170 clusters, score = 12.1113\n",
      "Para 250 clusters, score = 7.5905\n",
      "Para 210 clusters, score = 10.2225\n",
      "Para 190 clusters, score = 11.3901\n",
      "Para 180 clusters, score = 10.0135\n",
      "Para 185 clusters, score = 12.5211\n",
      "Para 187 clusters, score = 10.3272\n",
      "Para 186 clusters, score = 10.9493\n",
      "Para 186 clusters, score = 9.4764\n"
     ]
    }
   ],
   "source": [
    "score_dict2 = find_better_clustering(start = 100)"
   ]
  },
  {
   "cell_type": "code",
   "execution_count": 313,
   "metadata": {},
   "outputs": [
    {
     "name": "stdout",
     "output_type": "stream",
     "text": [
      "Para 140 clusters, score = 9.1052.\n",
      "Para 150 clusters, score = 11.7219\n",
      "Para 160 clusters, score = 10.5835\n",
      "Para 155 clusters, score = 11.5263\n",
      "Para 153 clusters, score = 12.2116\n",
      "Para 152 clusters, score = 11.1934\n",
      "Para 152 clusters, score = 11.5910\n"
     ]
    }
   ],
   "source": [
    "score_dict3 = find_better_clustering(start = 140)"
   ]
  },
  {
   "cell_type": "code",
   "execution_count": null,
   "metadata": {
    "collapsed": true
   },
   "outputs": [],
   "source": []
  },
  {
   "cell_type": "code",
   "execution_count": 320,
   "metadata": {},
   "outputs": [
    {
     "data": {
      "text/html": [
       "<div>\n",
       "<style>\n",
       "    .dataframe thead tr:only-child th {\n",
       "        text-align: right;\n",
       "    }\n",
       "\n",
       "    .dataframe thead th {\n",
       "        text-align: left;\n",
       "    }\n",
       "\n",
       "    .dataframe tbody tr th {\n",
       "        vertical-align: top;\n",
       "    }\n",
       "</style>\n",
       "<table border=\"1\" class=\"dataframe\">\n",
       "  <thead>\n",
       "    <tr style=\"text-align: right;\">\n",
       "      <th></th>\n",
       "      <th>0</th>\n",
       "    </tr>\n",
       "  </thead>\n",
       "  <tbody>\n",
       "    <tr>\n",
       "      <th>2</th>\n",
       "      <td>6.911649</td>\n",
       "    </tr>\n",
       "    <tr>\n",
       "      <th>12</th>\n",
       "      <td>9.004502</td>\n",
       "    </tr>\n",
       "    <tr>\n",
       "      <th>32</th>\n",
       "      <td>10.627351</td>\n",
       "    </tr>\n",
       "    <tr>\n",
       "      <th>72</th>\n",
       "      <td>11.436972</td>\n",
       "    </tr>\n",
       "    <tr>\n",
       "      <th>100</th>\n",
       "      <td>11.193773</td>\n",
       "    </tr>\n",
       "    <tr>\n",
       "      <th>110</th>\n",
       "      <td>11.380312</td>\n",
       "    </tr>\n",
       "    <tr>\n",
       "      <th>130</th>\n",
       "      <td>11.515938</td>\n",
       "    </tr>\n",
       "    <tr>\n",
       "      <th>140</th>\n",
       "      <td>9.105235</td>\n",
       "    </tr>\n",
       "    <tr>\n",
       "      <th>150</th>\n",
       "      <td>11.721884</td>\n",
       "    </tr>\n",
       "    <tr>\n",
       "      <th>152</th>\n",
       "      <td>11.590958</td>\n",
       "    </tr>\n",
       "    <tr>\n",
       "      <th>152</th>\n",
       "      <td>11.470860</td>\n",
       "    </tr>\n",
       "    <tr>\n",
       "      <th>153</th>\n",
       "      <td>12.211625</td>\n",
       "    </tr>\n",
       "    <tr>\n",
       "      <th>155</th>\n",
       "      <td>11.526269</td>\n",
       "    </tr>\n",
       "    <tr>\n",
       "      <th>160</th>\n",
       "      <td>10.583462</td>\n",
       "    </tr>\n",
       "    <tr>\n",
       "      <th>170</th>\n",
       "      <td>12.111296</td>\n",
       "    </tr>\n",
       "    <tr>\n",
       "      <th>172</th>\n",
       "      <td>10.348512</td>\n",
       "    </tr>\n",
       "    <tr>\n",
       "      <th>180</th>\n",
       "      <td>10.013512</td>\n",
       "    </tr>\n",
       "    <tr>\n",
       "      <th>182</th>\n",
       "      <td>11.661541</td>\n",
       "    </tr>\n",
       "    <tr>\n",
       "      <th>184</th>\n",
       "      <td>11.986865</td>\n",
       "    </tr>\n",
       "    <tr>\n",
       "      <th>185</th>\n",
       "      <td>12.521079</td>\n",
       "    </tr>\n",
       "    <tr>\n",
       "      <th>185</th>\n",
       "      <td>10.881291</td>\n",
       "    </tr>\n",
       "    <tr>\n",
       "      <th>186</th>\n",
       "      <td>9.476424</td>\n",
       "    </tr>\n",
       "    <tr>\n",
       "      <th>187</th>\n",
       "      <td>9.997775</td>\n",
       "    </tr>\n",
       "    <tr>\n",
       "      <th>190</th>\n",
       "      <td>11.390124</td>\n",
       "    </tr>\n",
       "    <tr>\n",
       "      <th>192</th>\n",
       "      <td>11.364872</td>\n",
       "    </tr>\n",
       "    <tr>\n",
       "      <th>210</th>\n",
       "      <td>10.222498</td>\n",
       "    </tr>\n",
       "    <tr>\n",
       "      <th>232</th>\n",
       "      <td>6.929832</td>\n",
       "    </tr>\n",
       "    <tr>\n",
       "      <th>250</th>\n",
       "      <td>7.590543</td>\n",
       "    </tr>\n",
       "    <tr>\n",
       "      <th>312</th>\n",
       "      <td>6.373882</td>\n",
       "    </tr>\n",
       "  </tbody>\n",
       "</table>\n",
       "</div>"
      ],
      "text/plain": [
       "             0\n",
       "2     6.911649\n",
       "12    9.004502\n",
       "32   10.627351\n",
       "72   11.436972\n",
       "100  11.193773\n",
       "110  11.380312\n",
       "130  11.515938\n",
       "140   9.105235\n",
       "150  11.721884\n",
       "152  11.590958\n",
       "152  11.470860\n",
       "153  12.211625\n",
       "155  11.526269\n",
       "160  10.583462\n",
       "170  12.111296\n",
       "172  10.348512\n",
       "180  10.013512\n",
       "182  11.661541\n",
       "184  11.986865\n",
       "185  12.521079\n",
       "185  10.881291\n",
       "186   9.476424\n",
       "187   9.997775\n",
       "190  11.390124\n",
       "192  11.364872\n",
       "210  10.222498\n",
       "232   6.929832\n",
       "250   7.590543\n",
       "312   6.373882"
      ]
     },
     "metadata": {},
     "output_type": "display_data"
    }
   ],
   "source": [
    "score_per_clustering=pd.concat([pd.DataFrame([score_dict]), pd.DataFrame([score_dict2]), pd.DataFrame([score_dict3])], axis=1)\n",
    "\n",
    "score_per_clustering = score_per_clustering.T\n",
    "score_per_clustering.sort_index( axis = 0, inplace = True)\n",
    "display(score_per_clustering)"
   ]
  },
  {
   "cell_type": "code",
   "execution_count": 327,
   "metadata": {
    "collapsed": true
   },
   "outputs": [],
   "source": [
    "def test_range_of_clusters(data, data_target, range_of_clusters):\n",
    "    \n",
    "    score_per_n_cluster = dict()\n",
    "    max_score = 0\n",
    "\n",
    "    for n in range_of_clusters:\n",
    "        (score_per_n_cluster[n], clusterer) = test_n_clusters(reduced_data, data_restricao_pca, n)\n",
    "        \n",
    "        if max_score < score_per_n_cluster[n]:\n",
    "            best_clusterer = clusterer\n",
    "            max_score = score_per_n_cluster[n]\n",
    "    \n",
    "    return (score_per_n_cluster, best_clusterer)"
   ]
  },
  {
   "cell_type": "code",
   "execution_count": 328,
   "metadata": {},
   "outputs": [
    {
     "ename": "TypeError",
     "evalue": "'numpy.float64' object is not iterable",
     "output_type": "error",
     "traceback": [
      "\u001b[0;31m---------------------------------------------------------------------------\u001b[0m",
      "\u001b[0;31mTypeError\u001b[0m                                 Traceback (most recent call last)",
      "\u001b[0;32m<ipython-input-328-75f0c17b541f>\u001b[0m in \u001b[0;36m<module>\u001b[0;34m()\u001b[0m\n\u001b[1;32m      1\u001b[0m \u001b[0mrange_of_clusters\u001b[0m\u001b[0;34m=\u001b[0m\u001b[0mnp\u001b[0m\u001b[0;34m.\u001b[0m\u001b[0mappend\u001b[0m\u001b[0;34m(\u001b[0m\u001b[0;34m[\u001b[0m\u001b[0;36m151\u001b[0m\u001b[0;34m,\u001b[0m \u001b[0;36m154\u001b[0m\u001b[0;34m]\u001b[0m\u001b[0;34m,\u001b[0m \u001b[0mnp\u001b[0m\u001b[0;34m.\u001b[0m\u001b[0marange\u001b[0m\u001b[0;34m(\u001b[0m\u001b[0;36m156\u001b[0m\u001b[0;34m,\u001b[0m\u001b[0;36m160\u001b[0m\u001b[0;34m)\u001b[0m\u001b[0;34m)\u001b[0m\u001b[0;34m\u001b[0m\u001b[0m\n\u001b[0;32m----> 2\u001b[0;31m \u001b[0;34m(\u001b[0m\u001b[0mscore_range\u001b[0m\u001b[0;34m,\u001b[0m \u001b[0mbest_clusterer\u001b[0m\u001b[0;34m)\u001b[0m \u001b[0;34m=\u001b[0m \u001b[0mtest_range_of_clusters\u001b[0m\u001b[0;34m(\u001b[0m\u001b[0mreduced_data\u001b[0m\u001b[0;34m,\u001b[0m \u001b[0mdata_restricao_pca\u001b[0m\u001b[0;34m,\u001b[0m \u001b[0mrange_of_clusters\u001b[0m\u001b[0;34m)\u001b[0m\u001b[0;34m\u001b[0m\u001b[0m\n\u001b[0m",
      "\u001b[0;32m<ipython-input-327-3d33658b48f6>\u001b[0m in \u001b[0;36mtest_range_of_clusters\u001b[0;34m(data, data_target, range_of_clusters)\u001b[0m\n\u001b[1;32m      5\u001b[0m \u001b[0;34m\u001b[0m\u001b[0m\n\u001b[1;32m      6\u001b[0m     \u001b[0;32mfor\u001b[0m \u001b[0mn\u001b[0m \u001b[0;32min\u001b[0m \u001b[0mrange_of_clusters\u001b[0m\u001b[0;34m:\u001b[0m\u001b[0;34m\u001b[0m\u001b[0m\n\u001b[0;32m----> 7\u001b[0;31m         \u001b[0;34m(\u001b[0m\u001b[0mscore_per_n_cluster\u001b[0m\u001b[0;34m[\u001b[0m\u001b[0mn\u001b[0m\u001b[0;34m]\u001b[0m\u001b[0;34m,\u001b[0m \u001b[0mclusterer\u001b[0m\u001b[0;34m)\u001b[0m \u001b[0;34m=\u001b[0m \u001b[0mtest_n_clusters\u001b[0m\u001b[0;34m(\u001b[0m\u001b[0mreduced_data\u001b[0m\u001b[0;34m,\u001b[0m \u001b[0mdata_restricao_pca\u001b[0m\u001b[0;34m,\u001b[0m \u001b[0mn\u001b[0m\u001b[0;34m)\u001b[0m\u001b[0;34m\u001b[0m\u001b[0m\n\u001b[0m\u001b[1;32m      8\u001b[0m \u001b[0;34m\u001b[0m\u001b[0m\n\u001b[1;32m      9\u001b[0m         \u001b[0;32mif\u001b[0m \u001b[0mmax_score\u001b[0m \u001b[0;34m<\u001b[0m \u001b[0mscore_per_n_cluster\u001b[0m\u001b[0;34m[\u001b[0m\u001b[0mn\u001b[0m\u001b[0;34m]\u001b[0m\u001b[0;34m:\u001b[0m\u001b[0;34m\u001b[0m\u001b[0m\n",
      "\u001b[0;31mTypeError\u001b[0m: 'numpy.float64' object is not iterable"
     ]
    }
   ],
   "source": [
    "range_of_clusters=np.append([151, 154], np.arange(156,160))\n",
    "(score_range, best_clusterer) = test_range_of_clusters(reduced_data, data_restricao_pca, range_of_clusters)"
   ]
  },
  {
   "cell_type": "code",
   "execution_count": null,
   "metadata": {
    "collapsed": true
   },
   "outputs": [],
   "source": []
  },
  {
   "cell_type": "code",
   "execution_count": 315,
   "metadata": {},
   "outputs": [
    {
     "data": {
      "image/png": "[encoded data removed]",
      "text/plain": [
       "<matplotlib.figure.Figure at 0x1a27e80dd0>"
      ]
     },
     "metadata": {},
     "output_type": "display_data"
    }
   ],
   "source": [
    " plot_bar_graph(score_per_clustering[0], score_per_clustering.index, cor='green', x_label = \"numero de clusters\", y_label = \"razao maxima\", title = \"Maxima razao por numero de clusters\")\n",
    "#best_n_cluster = max_ratio_per_n_cluster4['max_ratio'].idxmax()\n",
    "#print \"Melhor ajuste encontrado foi com {} clusters, que atingiu uma taxa maxima de {:.4f}.\" .format(best_n_cluster, max_ratio_per_n_cluster4['max_ratio'].loc[best_n_cluster])"
   ]
  },
  {
   "cell_type": "code",
   "execution_count": 119,
   "metadata": {
    "collapsed": true
   },
   "outputs": [],
   "source": [
    "range_of_clusters3 = np.arange(111,121)\n"
   ]
  },
  {
   "cell_type": "code",
   "execution_count": 213,
   "metadata": {},
   "outputs": [
    {
     "name": "stdout",
     "output_type": "stream",
     "text": [
      "Melhor ajuste encontrado foi com 119 clusters, que atingiu uma taxa maxima de 0.0323.\n"
     ]
    },
    {
     "data": {
      "image/png": "[encoded data removed]",
      "text/plain": [
       "<matplotlib.figure.Figure at 0x16d81cf8>"
      ]
     },
     "metadata": {},
     "output_type": "display_data"
    }
   ],
   "source": [
    "plot_bar_graph(max_ratio_per_n_cluster3['max_ratio'], range_of_clusters3, cor='green', x_label = \"numero de clusters\", y_label = \"razao maxima\", title = \"Maxima razao por numero de clusters\")\n",
    "best_n_cluster = max_ratio_per_n_cluster3['max_ratio'].idxmax()\n",
    "print \"Melhor ajuste encontrado foi com {} clusters, que atingiu uma taxa maxima de {:.4f}.\" .format(best_n_cluster, max_ratio_per_n_cluster3['max_ratio'].loc[best_n_cluster])"
   ]
  },
  {
   "cell_type": "code",
   "execution_count": 223,
   "metadata": {
    "collapsed": true
   },
   "outputs": [],
   "source": [
    "range_of_clusters5 = np.arange(121,131)\n",
    "(max_ratio_per_n_cluster5, best_clusterer5) = find_best_number_of_clusters(reduced_data, data_restricao_pca, range_of_clusters5)"
   ]
  },
  {
   "cell_type": "code",
   "execution_count": 224,
   "metadata": {},
   "outputs": [
    {
     "name": "stdout",
     "output_type": "stream",
     "text": [
      "Melhor ajuste encontrado foi com 128 clusters, que atingiu uma taxa maxima de 0.0357.\n"
     ]
    },
    {
     "data": {
      "image/png": "[encoded data removed]",
      "text/plain": [
       "<matplotlib.figure.Figure at 0x12167588>"
      ]
     },
     "metadata": {},
     "output_type": "display_data"
    }
   ],
   "source": [
    "plot_bar_graph(max_ratio_per_n_cluster5['max_ratio'], range_of_clusters5, cor='green', x_label = \"numero de clusters\", y_label = \"razao maxima\", title = \"Maxima razao por numero de clusters\")\n",
    "best_n_cluster = max_ratio_per_n_cluster5['max_ratio'].idxmax()\n",
    "print \"Melhor ajuste encontrado foi com {} clusters, que atingiu uma taxa maxima de {:.4f}.\" .format(best_n_cluster, max_ratio_per_n_cluster5['max_ratio'].loc[best_n_cluster])"
   ]
  },
  {
   "cell_type": "code",
   "execution_count": 272,
   "metadata": {
    "scrolled": true
   },
   "outputs": [
    {
     "name": "stderr",
     "output_type": "stream",
     "text": [
      "C:\\ProgramData\\Anaconda2\\lib\\site-packages\\ipykernel_launcher.py:14: RuntimeWarning: divide by zero encountered in log\n",
      "  \n"
     ]
    },
    {
     "data": {
      "image/png": "[encoded data removed]",
      "text/plain": [
       "<matplotlib.figure.Figure at 0xc964f28>"
      ]
     },
     "metadata": {},
     "output_type": "display_data"
    }
   ],
   "source": [
    "#Melhor clusterer: best_clusterer\n",
    "best_labels = best_clusterer5.labels_\n",
    "best_freq_labels = np.bincount(best_labels)\n",
    "        \n",
    "best_data_restricao_pred = best_clusterer5.predict(data_restricao_pca) #predição dos dados alvo nos clusteres treinados\n",
    "best_freq_restricao = np.bincount(best_data_restricao_pred) #distribuição de frequência por clusters dos dados alvo\n",
    "        \n",
    "a = best_freq_labels.shape[0] - best_freq_restricao.shape[0]\n",
    "best_freq_restricao = np.append(best_freq_restricao, np.zeros(a))\n",
    "\n",
    "best_restricao_ratio=np.divide(best_freq_restricao.astype(float),best_freq_labels)\n",
    "\n",
    "log_best_freq = np.log(best_freq_labels)\n",
    "log_best_freq_restricao = np.log(best_freq_restricao)\n",
    "\n",
    "x_best_labels =  np.arange(0, (1+best_labels.max()))\n",
    "\n",
    "plot_thwo_bars_graph(log_best_freq, log_best_freq_restricao, title = \"Comparativo veiculos geral e veiculos com restricao por segmento\", y_label = \"log\", x_label = \"Segmentos\")"
   ]
  },
  {
   "cell_type": "code",
   "execution_count": 273,
   "metadata": {},
   "outputs": [
    {
     "data": {
      "image/png": "[encoded data removed]",
      "text/plain": [
       "<matplotlib.figure.Figure at 0x1688ef28>"
      ]
     },
     "metadata": {},
     "output_type": "display_data"
    }
   ],
   "source": [
    "plot_bar_graph(best_restricao_ratio, x_best_labels, cor='red', x_label = \"Segmentos\", y_label = \"\", title = \"Taxa de veiculos com restricao em cada segmento\")"
   ]
  },
  {
   "cell_type": "code",
   "execution_count": 270,
   "metadata": {},
   "outputs": [
    {
     "name": "stdout",
     "output_type": "stream",
     "text": [
      "O Sequimento 93 é o seguimento com maior taxa de veículos com restricao, 0.0357\n"
     ]
    }
   ],
   "source": [
    "print \"O Sequimento {} é o segmento com maior taxa de veículos com restricao, {:.4f}\" .format(np.argmax(best_restricao_ratio), np.max(best_restricao_ratio))"
   ]
  },
  {
   "cell_type": "markdown",
   "metadata": {},
   "source": [
    "### Validação"
   ]
  },
  {
   "cell_type": "code",
   "execution_count": 248,
   "metadata": {},
   "outputs": [
    {
     "name": "stdout",
     "output_type": "stream",
     "text": [
      "Base de dados contém 3950 passagens com 6 características cada.\n"
     ]
    }
   ],
   "source": [
    "try:\n",
    "    data_csv3 = pd.read_csv(\"veiculosrestricao12e13out_trans.csv\")\n",
    "    \n",
    "    print \"Base de dados contém {} passagens com {} características cada.\".format(*data_csv3.shape)\n",
    "except:\n",
    "    print \"Dataset could not be loaded. Is the dataset missing??\""
   ]
  },
  {
   "cell_type": "code",
   "execution_count": 249,
   "metadata": {},
   "outputs": [
    {
     "name": "stdout",
     "output_type": "stream",
     "text": [
      "Foram encontrados 2458 veículos passando por 194 pontos.\n"
     ]
    }
   ],
   "source": [
    "data_csv3['local'] = data_csv3['loc_latitude'].map(str) + \" \" + data_csv3['loc_longitude'].map(str) #cria coluna concatenando latitude e longitude\n",
    "data_csv3.drop(['loc_latitude', 'loc_longitude'], axis = 1, inplace = True)\n",
    "lista_veiculos_val = set(data_csv3['placa'])\n",
    "lista_locais_val = set(data_csv3['local'])\n",
    "print \"Foram encontrados {} veículos passando por {} pontos.\" .format(len(lista_veiculos_val), len(lista_locais_val))"
   ]
  },
  {
   "cell_type": "code",
   "execution_count": 291,
   "metadata": {},
   "outputs": [
    {
     "data": {
      "text/plain": [
       "4394L"
      ]
     },
     "execution_count": 291,
     "metadata": {},
     "output_type": "execute_result"
    }
   ],
   "source": [
    "data_csv3['count'].sum()"
   ]
  },
  {
   "cell_type": "code",
   "execution_count": 364,
   "metadata": {},
   "outputs": [
    {
     "data": {
      "text/html": [
       "<div>\n",
       "<style>\n",
       "    .dataframe thead tr:only-child th {\n",
       "        text-align: right;\n",
       "    }\n",
       "\n",
       "    .dataframe thead th {\n",
       "        text-align: left;\n",
       "    }\n",
       "\n",
       "    .dataframe tbody tr th {\n",
       "        vertical-align: top;\n",
       "    }\n",
       "</style>\n",
       "<table border=\"1\" class=\"dataframe\">\n",
       "  <thead>\n",
       "    <tr style=\"text-align: right;\">\n",
       "      <th></th>\n",
       "      <th>count</th>\n",
       "      <th>local</th>\n",
       "    </tr>\n",
       "    <tr>\n",
       "      <th>placa</th>\n",
       "      <th></th>\n",
       "      <th></th>\n",
       "    </tr>\n",
       "  </thead>\n",
       "  <tbody>\n",
       "    <tr>\n",
       "      <th>FHN8871</th>\n",
       "      <td>1</td>\n",
       "      <td>9666 833</td>\n",
       "    </tr>\n",
       "    <tr>\n",
       "      <th>HBY5919</th>\n",
       "      <td>1</td>\n",
       "      <td>6072 9488</td>\n",
       "    </tr>\n",
       "    <tr>\n",
       "      <th>OLE8486</th>\n",
       "      <td>1</td>\n",
       "      <td>132 5022</td>\n",
       "    </tr>\n",
       "    <tr>\n",
       "      <th>OHT0583</th>\n",
       "      <td>1</td>\n",
       "      <td>7262 8878</td>\n",
       "    </tr>\n",
       "    <tr>\n",
       "      <th>PDM5549</th>\n",
       "      <td>1</td>\n",
       "      <td>2634 9246</td>\n",
       "    </tr>\n",
       "  </tbody>\n",
       "</table>\n",
       "</div>"
      ],
      "text/plain": [
       "         count      local\n",
       "placa                    \n",
       "FHN8871      1   9666 833\n",
       "HBY5919      1  6072 9488\n",
       "OLE8486      1   132 5022\n",
       "OHT0583      1  7262 8878\n",
       "PDM5549      1  2634 9246"
      ]
     },
     "metadata": {},
     "output_type": "display_data"
    }
   ],
   "source": [
    "data_csv3.set_index(['placa'], inplace = True)\n",
    "data_csv3.drop(['Unnamed: 0', 'codocorrencia'], axis=1, inplace = True)\n",
    "display(data_csv3.head(n=5))"
   ]
  },
  {
   "cell_type": "code",
   "execution_count": 365,
   "metadata": {},
   "outputs": [
    {
     "ename": "ValueError",
     "evalue": "cannot reindex from a duplicate axis",
     "output_type": "error",
     "traceback": [
      "\u001b[1;31m\u001b[0m",
      "\u001b[1;31mValueError\u001b[0mTraceback (most recent call last)",
      "\u001b[1;32m<ipython-input-365-02bd8eb36eec>\u001b[0m in \u001b[0;36m<module>\u001b[1;34m()\u001b[0m\n\u001b[0;32m      1\u001b[0m \u001b[1;31m#Criação de tabela prévia para receber os dados de veículos por locais\u001b[0m\u001b[1;33m\u001b[0m\u001b[1;33m\u001b[0m\u001b[0m\n\u001b[1;32m----> 2\u001b[1;33m \u001b[0mdata_validacao_prev\u001b[0m \u001b[1;33m=\u001b[0m \u001b[0mcreate_df_placaporpontos\u001b[0m\u001b[1;33m(\u001b[0m\u001b[0mdata_csv3\u001b[0m\u001b[1;33m,\u001b[0m \u001b[1;34m'placa'\u001b[0m\u001b[1;33m,\u001b[0m \u001b[1;34m'local'\u001b[0m\u001b[1;33m)\u001b[0m\u001b[1;33m\u001b[0m\u001b[0m\n\u001b[0m",
      "\u001b[1;32m<ipython-input-9-7cb43d75791e>\u001b[0m in \u001b[0;36mcreate_df_placaporpontos\u001b[1;34m(data_csv, placa_column, local_column)\u001b[0m\n\u001b[0;32m      6\u001b[0m     \u001b[1;32mfor\u001b[0m \u001b[0mlocal\u001b[0m \u001b[1;32min\u001b[0m \u001b[0mlista_locais\u001b[0m\u001b[1;33m:\u001b[0m\u001b[1;33m\u001b[0m\u001b[0m\n\u001b[0;32m      7\u001b[0m         \u001b[0mdata_temp\u001b[0m \u001b[1;33m=\u001b[0m \u001b[0mpd\u001b[0m\u001b[1;33m.\u001b[0m\u001b[0mDataFrame\u001b[0m\u001b[1;33m(\u001b[0m\u001b[0mdata_csv\u001b[0m\u001b[1;33m[\u001b[0m\u001b[0mdata_csv\u001b[0m\u001b[1;33m[\u001b[0m\u001b[0mlocal_column\u001b[0m\u001b[1;33m]\u001b[0m \u001b[1;33m==\u001b[0m \u001b[0mlocal\u001b[0m\u001b[1;33m]\u001b[0m\u001b[1;33m)\u001b[0m\u001b[1;33m\u001b[0m\u001b[0m\n\u001b[1;32m----> 8\u001b[1;33m         \u001b[0mdata\u001b[0m\u001b[1;33m[\u001b[0m\u001b[0mlocal\u001b[0m\u001b[1;33m]\u001b[0m\u001b[1;33m=\u001b[0m\u001b[0mdata\u001b[0m\u001b[1;33m[\u001b[0m\u001b[0mlocal\u001b[0m\u001b[1;33m]\u001b[0m\u001b[1;33m.\u001b[0m\u001b[0madd\u001b[0m\u001b[1;33m(\u001b[0m\u001b[0mdata_temp\u001b[0m\u001b[1;33m[\u001b[0m\u001b[1;34m'count'\u001b[0m\u001b[1;33m]\u001b[0m\u001b[1;33m,\u001b[0m \u001b[0mfill_value\u001b[0m \u001b[1;33m=\u001b[0m \u001b[1;36m0\u001b[0m\u001b[1;33m)\u001b[0m\u001b[1;33m\u001b[0m\u001b[0m\n\u001b[0m\u001b[0;32m      9\u001b[0m     \u001b[1;32mreturn\u001b[0m \u001b[0mdata\u001b[0m\u001b[1;33m\u001b[0m\u001b[0m\n",
      "\u001b[1;32mC:\\ProgramData\\Anaconda2\\lib\\site-packages\\pandas\\core\\frame.pyc\u001b[0m in \u001b[0;36m__setitem__\u001b[1;34m(self, key, value)\u001b[0m\n\u001b[0;32m   2329\u001b[0m         \u001b[1;32melse\u001b[0m\u001b[1;33m:\u001b[0m\u001b[1;33m\u001b[0m\u001b[0m\n\u001b[0;32m   2330\u001b[0m             \u001b[1;31m# set column\u001b[0m\u001b[1;33m\u001b[0m\u001b[1;33m\u001b[0m\u001b[0m\n\u001b[1;32m-> 2331\u001b[1;33m             \u001b[0mself\u001b[0m\u001b[1;33m.\u001b[0m\u001b[0m_set_item\u001b[0m\u001b[1;33m(\u001b[0m\u001b[0mkey\u001b[0m\u001b[1;33m,\u001b[0m \u001b[0mvalue\u001b[0m\u001b[1;33m)\u001b[0m\u001b[1;33m\u001b[0m\u001b[0m\n\u001b[0m\u001b[0;32m   2332\u001b[0m \u001b[1;33m\u001b[0m\u001b[0m\n\u001b[0;32m   2333\u001b[0m     \u001b[1;32mdef\u001b[0m \u001b[0m_setitem_slice\u001b[0m\u001b[1;33m(\u001b[0m\u001b[0mself\u001b[0m\u001b[1;33m,\u001b[0m \u001b[0mkey\u001b[0m\u001b[1;33m,\u001b[0m \u001b[0mvalue\u001b[0m\u001b[1;33m)\u001b[0m\u001b[1;33m:\u001b[0m\u001b[1;33m\u001b[0m\u001b[0m\n",
      "\u001b[1;32mC:\\ProgramData\\Anaconda2\\lib\\site-packages\\pandas\\core\\frame.pyc\u001b[0m in \u001b[0;36m_set_item\u001b[1;34m(self, key, value)\u001b[0m\n\u001b[0;32m   2395\u001b[0m \u001b[1;33m\u001b[0m\u001b[0m\n\u001b[0;32m   2396\u001b[0m         \u001b[0mself\u001b[0m\u001b[1;33m.\u001b[0m\u001b[0m_ensure_valid_index\u001b[0m\u001b[1;33m(\u001b[0m\u001b[0mvalue\u001b[0m\u001b[1;33m)\u001b[0m\u001b[1;33m\u001b[0m\u001b[0m\n\u001b[1;32m-> 2397\u001b[1;33m         \u001b[0mvalue\u001b[0m \u001b[1;33m=\u001b[0m \u001b[0mself\u001b[0m\u001b[1;33m.\u001b[0m\u001b[0m_sanitize_column\u001b[0m\u001b[1;33m(\u001b[0m\u001b[0mkey\u001b[0m\u001b[1;33m,\u001b[0m \u001b[0mvalue\u001b[0m\u001b[1;33m)\u001b[0m\u001b[1;33m\u001b[0m\u001b[0m\n\u001b[0m\u001b[0;32m   2398\u001b[0m         \u001b[0mNDFrame\u001b[0m\u001b[1;33m.\u001b[0m\u001b[0m_set_item\u001b[0m\u001b[1;33m(\u001b[0m\u001b[0mself\u001b[0m\u001b[1;33m,\u001b[0m \u001b[0mkey\u001b[0m\u001b[1;33m,\u001b[0m \u001b[0mvalue\u001b[0m\u001b[1;33m)\u001b[0m\u001b[1;33m\u001b[0m\u001b[0m\n\u001b[0;32m   2399\u001b[0m \u001b[1;33m\u001b[0m\u001b[0m\n",
      "\u001b[1;32mC:\\ProgramData\\Anaconda2\\lib\\site-packages\\pandas\\core\\frame.pyc\u001b[0m in \u001b[0;36m_sanitize_column\u001b[1;34m(self, key, value, broadcast)\u001b[0m\n\u001b[0;32m   2545\u001b[0m \u001b[1;33m\u001b[0m\u001b[0m\n\u001b[0;32m   2546\u001b[0m         \u001b[1;32mif\u001b[0m \u001b[0misinstance\u001b[0m\u001b[1;33m(\u001b[0m\u001b[0mvalue\u001b[0m\u001b[1;33m,\u001b[0m \u001b[0mSeries\u001b[0m\u001b[1;33m)\u001b[0m\u001b[1;33m:\u001b[0m\u001b[1;33m\u001b[0m\u001b[0m\n\u001b[1;32m-> 2547\u001b[1;33m             \u001b[0mvalue\u001b[0m \u001b[1;33m=\u001b[0m \u001b[0mreindexer\u001b[0m\u001b[1;33m(\u001b[0m\u001b[0mvalue\u001b[0m\u001b[1;33m)\u001b[0m\u001b[1;33m\u001b[0m\u001b[0m\n\u001b[0m\u001b[0;32m   2548\u001b[0m \u001b[1;33m\u001b[0m\u001b[0m\n\u001b[0;32m   2549\u001b[0m         \u001b[1;32melif\u001b[0m \u001b[0misinstance\u001b[0m\u001b[1;33m(\u001b[0m\u001b[0mvalue\u001b[0m\u001b[1;33m,\u001b[0m \u001b[0mDataFrame\u001b[0m\u001b[1;33m)\u001b[0m\u001b[1;33m:\u001b[0m\u001b[1;33m\u001b[0m\u001b[0m\n",
      "\u001b[1;32mC:\\ProgramData\\Anaconda2\\lib\\site-packages\\pandas\\core\\frame.pyc\u001b[0m in \u001b[0;36mreindexer\u001b[1;34m(value)\u001b[0m\n\u001b[0;32m   2537\u001b[0m                     \u001b[1;31m# duplicate axis\u001b[0m\u001b[1;33m\u001b[0m\u001b[1;33m\u001b[0m\u001b[0m\n\u001b[0;32m   2538\u001b[0m                     \u001b[1;32mif\u001b[0m \u001b[1;32mnot\u001b[0m \u001b[0mvalue\u001b[0m\u001b[1;33m.\u001b[0m\u001b[0mindex\u001b[0m\u001b[1;33m.\u001b[0m\u001b[0mis_unique\u001b[0m\u001b[1;33m:\u001b[0m\u001b[1;33m\u001b[0m\u001b[0m\n\u001b[1;32m-> 2539\u001b[1;33m                         \u001b[1;32mraise\u001b[0m \u001b[0me\u001b[0m\u001b[1;33m\u001b[0m\u001b[0m\n\u001b[0m\u001b[0;32m   2540\u001b[0m \u001b[1;33m\u001b[0m\u001b[0m\n\u001b[0;32m   2541\u001b[0m                     \u001b[1;31m# other\u001b[0m\u001b[1;33m\u001b[0m\u001b[1;33m\u001b[0m\u001b[0m\n",
      "\u001b[1;31mValueError\u001b[0m: cannot reindex from a duplicate axis"
     ]
    }
   ],
   "source": [
    "#Criação de tabela prévia para receber os dados de veículos por locais\n",
    "data_validacao_prev = create_df_placaporpontos(data_csv3, 'placa', 'local')"
   ]
  },
  {
   "cell_type": "code",
   "execution_count": 363,
   "metadata": {},
   "outputs": [
    {
     "data": {
      "text/html": [
       "<div>\n",
       "<style>\n",
       "    .dataframe thead tr:only-child th {\n",
       "        text-align: right;\n",
       "    }\n",
       "\n",
       "    .dataframe thead th {\n",
       "        text-align: left;\n",
       "    }\n",
       "\n",
       "    .dataframe tbody tr th {\n",
       "        vertical-align: top;\n",
       "    }\n",
       "</style>\n",
       "<table border=\"1\" class=\"dataframe\">\n",
       "  <thead>\n",
       "    <tr style=\"text-align: right;\">\n",
       "      <th></th>\n",
       "      <th>9988 1800</th>\n",
       "      <th>3366 9194</th>\n",
       "      <th>4738 6727</th>\n",
       "      <th>4332 2860</th>\n",
       "      <th>8053 4258</th>\n",
       "      <th>638 3103</th>\n",
       "      <th>8525 2161</th>\n",
       "      <th>1412 9134</th>\n",
       "      <th>5880 8554</th>\n",
       "      <th>2422 172</th>\n",
       "      <th>...</th>\n",
       "      <th>5303 7658</th>\n",
       "      <th>9961 3078</th>\n",
       "      <th>1866 1061</th>\n",
       "      <th>7723 5667</th>\n",
       "      <th>9666 833</th>\n",
       "      <th>1528 50</th>\n",
       "      <th>2612 6611</th>\n",
       "      <th>8188 8761</th>\n",
       "      <th>9222 1778</th>\n",
       "      <th>9711 2269</th>\n",
       "    </tr>\n",
       "  </thead>\n",
       "  <tbody>\n",
       "    <tr>\n",
       "      <th>0</th>\n",
       "      <td>0.0</td>\n",
       "      <td>0.0</td>\n",
       "      <td>0.0</td>\n",
       "      <td>0.0</td>\n",
       "      <td>0.0</td>\n",
       "      <td>0.0</td>\n",
       "      <td>0.0</td>\n",
       "      <td>0.0</td>\n",
       "      <td>0.0</td>\n",
       "      <td>0.0</td>\n",
       "      <td>...</td>\n",
       "      <td>0.0</td>\n",
       "      <td>0.0</td>\n",
       "      <td>0.0</td>\n",
       "      <td>0.0</td>\n",
       "      <td>1.0</td>\n",
       "      <td>0.0</td>\n",
       "      <td>0.0</td>\n",
       "      <td>0.0</td>\n",
       "      <td>0.0</td>\n",
       "      <td>0.0</td>\n",
       "    </tr>\n",
       "    <tr>\n",
       "      <th>1</th>\n",
       "      <td>0.0</td>\n",
       "      <td>0.0</td>\n",
       "      <td>0.0</td>\n",
       "      <td>0.0</td>\n",
       "      <td>0.0</td>\n",
       "      <td>0.0</td>\n",
       "      <td>0.0</td>\n",
       "      <td>0.0</td>\n",
       "      <td>0.0</td>\n",
       "      <td>0.0</td>\n",
       "      <td>...</td>\n",
       "      <td>0.0</td>\n",
       "      <td>0.0</td>\n",
       "      <td>0.0</td>\n",
       "      <td>0.0</td>\n",
       "      <td>0.0</td>\n",
       "      <td>0.0</td>\n",
       "      <td>0.0</td>\n",
       "      <td>0.0</td>\n",
       "      <td>0.0</td>\n",
       "      <td>0.0</td>\n",
       "    </tr>\n",
       "    <tr>\n",
       "      <th>2</th>\n",
       "      <td>0.0</td>\n",
       "      <td>0.0</td>\n",
       "      <td>0.0</td>\n",
       "      <td>0.0</td>\n",
       "      <td>0.0</td>\n",
       "      <td>0.0</td>\n",
       "      <td>0.0</td>\n",
       "      <td>0.0</td>\n",
       "      <td>0.0</td>\n",
       "      <td>0.0</td>\n",
       "      <td>...</td>\n",
       "      <td>0.0</td>\n",
       "      <td>0.0</td>\n",
       "      <td>0.0</td>\n",
       "      <td>0.0</td>\n",
       "      <td>0.0</td>\n",
       "      <td>0.0</td>\n",
       "      <td>0.0</td>\n",
       "      <td>0.0</td>\n",
       "      <td>0.0</td>\n",
       "      <td>0.0</td>\n",
       "    </tr>\n",
       "    <tr>\n",
       "      <th>3</th>\n",
       "      <td>0.0</td>\n",
       "      <td>0.0</td>\n",
       "      <td>0.0</td>\n",
       "      <td>0.0</td>\n",
       "      <td>0.0</td>\n",
       "      <td>0.0</td>\n",
       "      <td>0.0</td>\n",
       "      <td>0.0</td>\n",
       "      <td>0.0</td>\n",
       "      <td>0.0</td>\n",
       "      <td>...</td>\n",
       "      <td>0.0</td>\n",
       "      <td>0.0</td>\n",
       "      <td>0.0</td>\n",
       "      <td>0.0</td>\n",
       "      <td>0.0</td>\n",
       "      <td>0.0</td>\n",
       "      <td>0.0</td>\n",
       "      <td>0.0</td>\n",
       "      <td>0.0</td>\n",
       "      <td>0.0</td>\n",
       "    </tr>\n",
       "    <tr>\n",
       "      <th>4</th>\n",
       "      <td>0.0</td>\n",
       "      <td>0.0</td>\n",
       "      <td>0.0</td>\n",
       "      <td>0.0</td>\n",
       "      <td>0.0</td>\n",
       "      <td>0.0</td>\n",
       "      <td>0.0</td>\n",
       "      <td>0.0</td>\n",
       "      <td>0.0</td>\n",
       "      <td>0.0</td>\n",
       "      <td>...</td>\n",
       "      <td>0.0</td>\n",
       "      <td>0.0</td>\n",
       "      <td>0.0</td>\n",
       "      <td>0.0</td>\n",
       "      <td>0.0</td>\n",
       "      <td>0.0</td>\n",
       "      <td>0.0</td>\n",
       "      <td>0.0</td>\n",
       "      <td>0.0</td>\n",
       "      <td>0.0</td>\n",
       "    </tr>\n",
       "  </tbody>\n",
       "</table>\n",
       "<p>5 rows × 194 columns</p>\n",
       "</div>"
      ],
      "text/plain": [
       "   9988 1800  3366 9194  4738 6727  4332 2860  8053 4258  638 3103  8525 2161  \\\n",
       "0        0.0        0.0        0.0        0.0        0.0       0.0        0.0   \n",
       "1        0.0        0.0        0.0        0.0        0.0       0.0        0.0   \n",
       "2        0.0        0.0        0.0        0.0        0.0       0.0        0.0   \n",
       "3        0.0        0.0        0.0        0.0        0.0       0.0        0.0   \n",
       "4        0.0        0.0        0.0        0.0        0.0       0.0        0.0   \n",
       "\n",
       "   1412 9134  5880 8554  2422 172    ...      5303 7658  9961 3078  1866 1061  \\\n",
       "0        0.0        0.0       0.0    ...            0.0        0.0        0.0   \n",
       "1        0.0        0.0       0.0    ...            0.0        0.0        0.0   \n",
       "2        0.0        0.0       0.0    ...            0.0        0.0        0.0   \n",
       "3        0.0        0.0       0.0    ...            0.0        0.0        0.0   \n",
       "4        0.0        0.0       0.0    ...            0.0        0.0        0.0   \n",
       "\n",
       "   7723 5667  9666 833  1528 50  2612 6611  8188 8761  9222 1778  9711 2269  \n",
       "0        0.0       1.0      0.0        0.0        0.0        0.0        0.0  \n",
       "1        0.0       0.0      0.0        0.0        0.0        0.0        0.0  \n",
       "2        0.0       0.0      0.0        0.0        0.0        0.0        0.0  \n",
       "3        0.0       0.0      0.0        0.0        0.0        0.0        0.0  \n",
       "4        0.0       0.0      0.0        0.0        0.0        0.0        0.0  \n",
       "\n",
       "[5 rows x 194 columns]"
      ]
     },
     "metadata": {},
     "output_type": "display_data"
    }
   ],
   "source": [
    "display(data_validacao_prev.head(n=5))"
   ]
  },
  {
   "cell_type": "code",
   "execution_count": 251,
   "metadata": {
    "collapsed": true
   },
   "outputs": [],
   "source": [
    "#Cria nova tabela data_validacao, indexa pela placa e colunas igual às dos dados de veículos geral, \n",
    "#é somada a data_restricao_prev\n",
    "\n",
    "data_validacao = pd.DataFrame(index = data_validacao_prev.index, columns = data.columns) \n",
    "data_validacao.fillna(0, inplace = True)\n",
    "data_validacao = data_validacao.add(data_validacao_prev, fill_value = 0)"
   ]
  },
  {
   "cell_type": "code",
   "execution_count": 252,
   "metadata": {},
   "outputs": [
    {
     "name": "stdout",
     "output_type": "stream",
     "text": [
      "(3950, 135)\n"
     ]
    }
   ],
   "source": [
    "data_validacao_locais_treinados = pd.DataFrame()\n",
    "lista_locais_treinados = set(data_csv['local'])\n",
    "for loc in lista_locais_treinados:\n",
    "    data_validacao_locais_treinados[loc] = data_validacao[loc]\n",
    "data_validacao_locais_treinados.fillna(0, inplace = True)\n",
    "print data_validacao_locais_treinados.shape"
   ]
  },
  {
   "cell_type": "markdown",
   "metadata": {},
   "source": [
    "Aplicação de PCA nos dados de validação, predição nos clusteres e calculando a frequencia em cada cluster"
   ]
  },
  {
   "cell_type": "code",
   "execution_count": 253,
   "metadata": {
    "collapsed": true
   },
   "outputs": [],
   "source": [
    "data_validacao_pca = pca.transform(data_validacao_locais_treinados) #aplica PCA\n",
    "data_validacao_pca = pd.DataFrame(data_validacao_pca, columns = pca_dimensions) #coloca os dados em um DataFrame"
   ]
  },
  {
   "cell_type": "code",
   "execution_count": 263,
   "metadata": {},
   "outputs": [
    {
     "name": "stderr",
     "output_type": "stream",
     "text": [
      "C:\\ProgramData\\Anaconda2\\lib\\site-packages\\ipykernel_launcher.py:10: RuntimeWarning: divide by zero encountered in log\n",
      "  # Remove the CWD from sys.path while we load stuff.\n"
     ]
    },
    {
     "data": {
      "image/png": "[encoded data removed]",
      "text/plain": [
       "<matplotlib.figure.Figure at 0x3abadfd0>"
      ]
     },
     "metadata": {},
     "output_type": "display_data"
    },
    {
     "data": {
      "image/png": "[encoded data removed]",
      "text/plain": [
       "<matplotlib.figure.Figure at 0x147690f0>"
      ]
     },
     "metadata": {},
     "output_type": "display_data"
    }
   ],
   "source": [
    "data_validacao_pred = best_clusterer5.predict(data_validacao_pca) #predição dos dados alvo nos clusteres treinados\n",
    "freq_validacao = np.bincount(data_validacao_pred) #distribuição de frequência por clusters dos dados alvo\n",
    "        \n",
    "a = best_freq_labels.shape[0] - freq_validacao.shape[0]\n",
    "freq_validacao = np.append(freq_validacao, np.zeros(a))\n",
    "\n",
    "validacao_ratio=np.divide(freq_validacao.astype(float),best_freq_labels)\n",
    "\n",
    "log_best_freq = np.log(best_freq_labels)\n",
    "log_freq_validacao = np.log(freq_validacao)\n",
    "\n",
    "x_best_labels =  np.arange(0, (1+best_labels.max()))\n",
    "\n",
    "plot_thwo_bars_graph(log_best_freq, log_freq_validacao, title = \"Validacao\", y_label = \"log\", x_label = \"Segmentos\")\n",
    "plot_bar_graph(validacao_ratio, x_best_labels, cor='red', x_label = \"Segmentos\", y_label = \"\", title = \"Taxa de veiculos com restricao em cada segmento\")"
   ]
  },
  {
   "cell_type": "code",
   "execution_count": 279,
   "metadata": {},
   "outputs": [
    {
     "name": "stdout",
     "output_type": "stream",
     "text": [
      "115.0000 2109.0\n",
      "115.0000 2134.0\n",
      "28.0000\n"
     ]
    }
   ],
   "source": [
    "print \"{:.4f} {}\" .format(np.argmax(freq_validacao), np.max(freq_validacao))\n",
    "print \"{:.4f} {}\" .format(np.argmax(best_freq_restricao), np.max(best_freq_restricao))\n",
    "print \"{:.4f}\" .format(best_freq_labels[93])"
   ]
  },
  {
   "cell_type": "code",
   "execution_count": 264,
   "metadata": {},
   "outputs": [
    {
     "name": "stdout",
     "output_type": "stream",
     "text": [
      "O Sequimento 93 é o seguimento com maior taxa de veículos com restricao, 0.0357\n"
     ]
    }
   ],
   "source": [
    "print \"O Sequimento {} é o segmento com maior taxa de veículos com restricao, {:.4f}\" .format(np.argmax(validacao_ratio), np.max(validacao_ratio))"
   ]
  },
  {
   "cell_type": "code",
   "execution_count": 283,
   "metadata": {},
   "outputs": [
    {
     "data": {
      "image/png": "[encoded data removed]",
      "text/plain": [
       "<matplotlib.figure.Figure at 0x18f28d68>"
      ]
     },
     "metadata": {},
     "output_type": "display_data"
    }
   ],
   "source": [
    "plot_bar_graph(freq_validacao, x_best_labels, cor='red', x_label = \"Segmentos\", y_label = \"\", title = \"Total de veiculos com restricao em cada segmento\")"
   ]
  },
  {
   "cell_type": "code",
   "execution_count": 285,
   "metadata": {},
   "outputs": [
    {
     "name": "stdout",
     "output_type": "stream",
     "text": [
      "O Sequimento 115 possui 2109 veículos com restricao.\n"
     ]
    }
   ],
   "source": [
    "print \"O Sequimento {} possui {:.0f} veículos com restricao.\" .format(np.argmax(freq_validacao), np.max(freq_validacao))"
   ]
  },
  {
   "cell_type": "code",
   "execution_count": 317,
   "metadata": {},
   "outputs": [
    {
     "data": {
      "image/png": "[encoded data removed]",
      "text/plain": [
       "<matplotlib.figure.Figure at 0x14bcbc88>"
      ]
     },
     "metadata": {},
     "output_type": "display_data"
    }
   ],
   "source": [
    "test_score_validacao = np.multiply(freq_validacao, validacao_ratio)\n",
    "plot_bar_graph(test_score_validacao, x_best_labels, cor='red', x_label = \"Segmentos\", y_label = \"\", title = \"Total de veiculos com restricao em cada segmento\")"
   ]
  },
  {
   "cell_type": "code",
   "execution_count": 318,
   "metadata": {},
   "outputs": [
    {
     "ename": "ValueError",
     "evalue": "incompatible sizes: argument 'height' must be length 128 or scalar",
     "output_type": "error",
     "traceback": [
      "\u001b[1;31m\u001b[0m",
      "\u001b[1;31mValueError\u001b[0mTraceback (most recent call last)",
      "\u001b[1;32m<ipython-input-318-eaa37c789b42>\u001b[0m in \u001b[0;36m<module>\u001b[1;34m()\u001b[0m\n\u001b[0;32m      1\u001b[0m \u001b[0mtest_score_c30\u001b[0m \u001b[1;33m=\u001b[0m \u001b[0mnp\u001b[0m\u001b[1;33m.\u001b[0m\u001b[0mmultiply\u001b[0m\u001b[1;33m(\u001b[0m\u001b[0mfreq_restricao\u001b[0m\u001b[1;33m,\u001b[0m \u001b[0mrestricao_ratio\u001b[0m\u001b[1;33m)\u001b[0m\u001b[1;33m\u001b[0m\u001b[0m\n\u001b[1;32m----> 2\u001b[1;33m \u001b[0mplot_bar_graph\u001b[0m\u001b[1;33m(\u001b[0m\u001b[0mtest_score_c30\u001b[0m\u001b[1;33m,\u001b[0m \u001b[0mx_best_labels\u001b[0m\u001b[1;33m,\u001b[0m \u001b[0mcor\u001b[0m\u001b[1;33m=\u001b[0m\u001b[1;34m'red'\u001b[0m\u001b[1;33m,\u001b[0m \u001b[0mx_label\u001b[0m \u001b[1;33m=\u001b[0m \u001b[1;34m\"Seguimentos\"\u001b[0m\u001b[1;33m,\u001b[0m \u001b[0my_label\u001b[0m \u001b[1;33m=\u001b[0m \u001b[1;34m\"\"\u001b[0m\u001b[1;33m,\u001b[0m \u001b[0mtitle\u001b[0m \u001b[1;33m=\u001b[0m \u001b[1;34m\"Total de veiculos com restricao em cada seguimento\"\u001b[0m\u001b[1;33m)\u001b[0m\u001b[1;33m\u001b[0m\u001b[0m\n\u001b[0m",
      "\u001b[1;32m<ipython-input-170-9652efd1b0e7>\u001b[0m in \u001b[0;36mplot_bar_graph\u001b[1;34m(dados, labels, cor, x_label, y_label, title)\u001b[0m\n\u001b[0;32m      6\u001b[0m     \u001b[0mplt\u001b[0m\u001b[1;33m.\u001b[0m\u001b[0mtitle\u001b[0m\u001b[1;33m(\u001b[0m\u001b[0mtitle\u001b[0m\u001b[1;33m)\u001b[0m\u001b[1;33m\u001b[0m\u001b[0m\n\u001b[0;32m      7\u001b[0m     \u001b[0mplt\u001b[0m\u001b[1;33m.\u001b[0m\u001b[0mgrid\u001b[0m\u001b[1;33m(\u001b[0m\u001b[0mTrue\u001b[0m\u001b[1;33m)\u001b[0m\u001b[1;33m\u001b[0m\u001b[0m\n\u001b[1;32m----> 8\u001b[1;33m     \u001b[0mplt\u001b[0m\u001b[1;33m.\u001b[0m\u001b[0mbar\u001b[0m\u001b[1;33m(\u001b[0m\u001b[0mlabels\u001b[0m\u001b[1;33m,\u001b[0m \u001b[0mdados\u001b[0m\u001b[1;33m,\u001b[0m \u001b[0mwidth\u001b[0m\u001b[1;33m,\u001b[0m \u001b[0mcolor\u001b[0m\u001b[1;33m=\u001b[0m\u001b[0mcor\u001b[0m\u001b[1;33m)\u001b[0m\u001b[1;33m\u001b[0m\u001b[0m\n\u001b[0m\u001b[0;32m      9\u001b[0m     \u001b[1;32mreturn\u001b[0m \u001b[0mNone\u001b[0m\u001b[1;33m\u001b[0m\u001b[0m\n",
      "\u001b[1;32mC:\\ProgramData\\Anaconda2\\lib\\site-packages\\matplotlib\\pyplot.pyc\u001b[0m in \u001b[0;36mbar\u001b[1;34m(left, height, width, bottom, hold, data, **kwargs)\u001b[0m\n\u001b[0;32m   2702\u001b[0m     \u001b[1;32mtry\u001b[0m\u001b[1;33m:\u001b[0m\u001b[1;33m\u001b[0m\u001b[0m\n\u001b[0;32m   2703\u001b[0m         ret = ax.bar(left, height, width=width, bottom=bottom, data=data,\n\u001b[1;32m-> 2704\u001b[1;33m                      **kwargs)\n\u001b[0m\u001b[0;32m   2705\u001b[0m     \u001b[1;32mfinally\u001b[0m\u001b[1;33m:\u001b[0m\u001b[1;33m\u001b[0m\u001b[0m\n\u001b[0;32m   2706\u001b[0m         \u001b[0max\u001b[0m\u001b[1;33m.\u001b[0m\u001b[0m_hold\u001b[0m \u001b[1;33m=\u001b[0m \u001b[0mwashold\u001b[0m\u001b[1;33m\u001b[0m\u001b[0m\n",
      "\u001b[1;32mC:\\ProgramData\\Anaconda2\\lib\\site-packages\\matplotlib\\__init__.pyc\u001b[0m in \u001b[0;36minner\u001b[1;34m(ax, *args, **kwargs)\u001b[0m\n\u001b[0;32m   1895\u001b[0m                     warnings.warn(msg % (label_namer, func.__name__),\n\u001b[0;32m   1896\u001b[0m                                   RuntimeWarning, stacklevel=2)\n\u001b[1;32m-> 1897\u001b[1;33m             \u001b[1;32mreturn\u001b[0m \u001b[0mfunc\u001b[0m\u001b[1;33m(\u001b[0m\u001b[0max\u001b[0m\u001b[1;33m,\u001b[0m \u001b[1;33m*\u001b[0m\u001b[0margs\u001b[0m\u001b[1;33m,\u001b[0m \u001b[1;33m**\u001b[0m\u001b[0mkwargs\u001b[0m\u001b[1;33m)\u001b[0m\u001b[1;33m\u001b[0m\u001b[0m\n\u001b[0m\u001b[0;32m   1898\u001b[0m         \u001b[0mpre_doc\u001b[0m \u001b[1;33m=\u001b[0m \u001b[0minner\u001b[0m\u001b[1;33m.\u001b[0m\u001b[0m__doc__\u001b[0m\u001b[1;33m\u001b[0m\u001b[0m\n\u001b[0;32m   1899\u001b[0m         \u001b[1;32mif\u001b[0m \u001b[0mpre_doc\u001b[0m \u001b[1;32mis\u001b[0m \u001b[0mNone\u001b[0m\u001b[1;33m:\u001b[0m\u001b[1;33m\u001b[0m\u001b[0m\n",
      "\u001b[1;32mC:\\ProgramData\\Anaconda2\\lib\\site-packages\\matplotlib\\axes\\_axes.pyc\u001b[0m in \u001b[0;36mbar\u001b[1;34m(self, left, height, width, bottom, **kwargs)\u001b[0m\n\u001b[0;32m   2077\u001b[0m         \u001b[1;32mif\u001b[0m \u001b[0mlen\u001b[0m\u001b[1;33m(\u001b[0m\u001b[0mheight\u001b[0m\u001b[1;33m)\u001b[0m \u001b[1;33m!=\u001b[0m \u001b[0mnbars\u001b[0m\u001b[1;33m:\u001b[0m\u001b[1;33m\u001b[0m\u001b[0m\n\u001b[0;32m   2078\u001b[0m             raise ValueError(\"incompatible sizes: argument 'height' \"\n\u001b[1;32m-> 2079\u001b[1;33m                               \"must be length %d or scalar\" % nbars)\n\u001b[0m\u001b[0;32m   2080\u001b[0m         \u001b[1;32mif\u001b[0m \u001b[0mlen\u001b[0m\u001b[1;33m(\u001b[0m\u001b[0mwidth\u001b[0m\u001b[1;33m)\u001b[0m \u001b[1;33m!=\u001b[0m \u001b[0mnbars\u001b[0m\u001b[1;33m:\u001b[0m\u001b[1;33m\u001b[0m\u001b[0m\n\u001b[0;32m   2081\u001b[0m             raise ValueError(\"incompatible sizes: argument 'width' \"\n",
      "\u001b[1;31mValueError\u001b[0m: incompatible sizes: argument 'height' must be length 128 or scalar"
     ]
    },
    {
     "data": {
      "image/png": "[encoded data removed]",
      "text/plain": [
       "<matplotlib.figure.Figure at 0x1634d198>"
      ]
     },
     "metadata": {},
     "output_type": "display_data"
    }
   ],
   "source": [
    "test_score_c30 = np.multiply(freq_restricao, restricao_ratio)\n",
    "plot_bar_graph(test_score_c30, x_best_labels, cor='red', x_label = \"Segmentos\", y_label = \"\", title = \"Total de veiculos com restricao em cada segmento\")"
   ]
  },
  {
   "cell_type": "code",
   "execution_count": null,
   "metadata": {
    "collapsed": true
   },
   "outputs": [],
   "source": []
  }
 ],
 "metadata": {
  "kernelspec": {
   "display_name": "Python 2",
   "language": "python",
   "name": "python2"
  },
  "language_info": {
   "codemirror_mode": {
    "name": "ipython",
    "version": 2
   },
   "file_extension": ".py",
   "mimetype": "text/x-python",
   "name": "python",
   "nbconvert_exporter": "python",
   "pygments_lexer": "ipython2",
   "version": "2.7.13"
  }
 },
 "nbformat": 4,
 "nbformat_minor": 1
}
