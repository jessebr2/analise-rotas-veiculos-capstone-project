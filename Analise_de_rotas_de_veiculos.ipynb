{
 "cells": [
  {
   "cell_type": "markdown",
   "metadata": {},
   "source": [
    "# Nanodegree Engenheiro de Machine Learning\n",
    "## Projeto de Conclusão de Curso\n",
    "## Project 5: Análise de padrões de rotas de veículos"
   ]
  },
  {
   "cell_type": "markdown",
   "metadata": {},
   "source": [
    "## Introdução\n",
    "\n",
    "Neste projeto será analisado o conjunto de dados de passagens de veículos por pontos de uma cidade. A base de dados contém a placa do veículo e a latitude e longitude do ponto de monitoramento. Esses dados se referem aos dias 14 e 15 de setembro de 2017. O objetivo deste projeto é identificar padrões de rotas de veículos, considerando para isso, a quantidade de vezes que cada veículo passou pelo ponto de controle em durante dois dias. "
   ]
  },
  {
   "cell_type": "markdown",
   "metadata": {},
   "source": [
    "**Política de privacidade e confidencialidade das informações**\n",
    "\n",
    "Para que não seja infligida a privacidade dos donos dos veículos e a confidencialidade dos dados, tanto as placas quanto os dados dos pontos de controle foram cifrados para que se tornassem ininteligíveis. "
   ]
  },
  {
   "cell_type": "markdown",
   "metadata": {},
   "source": [
    "## Preparação dos dados\n",
    "Aqui serão importados os dados e preparada a tabela de pontos por características (placa por locais)."
   ]
  },
  {
   "cell_type": "code",
   "execution_count": 5,
   "metadata": {},
   "outputs": [
    {
     "name": "stdout",
     "output_type": "stream",
     "text": [
      "Base de dados contém 2455348 passagens com 5 características cada.\n"
     ]
    }
   ],
   "source": [
    "# Bibliotecas necessárias para este projeto\n",
    "import numpy as np\n",
    "import pandas as pd\n",
    "import renders as rs\n",
    "from IPython.display import display # Allows the use of display() for DataFrames\n",
    "\n",
    "# Mostre matplotlib no corpo do texto (bem formatado no Notebook)\n",
    "%matplotlib inline\n",
    "\n",
    "# Carregamento do conjunto de dados dos veículos\n",
    "try:\n",
    "    data_csv = pd.read_csv(\"veiculos_14e15set_trans.csv\")\n",
    "    print \"Base de dados contém {} passagens com {} características cada.\".format(*data_csv.shape)\n",
    "except:\n",
    "    print \"Dataset could not be loaded. Is the dataset missing??\""
   ]
  },
  {
   "cell_type": "markdown",
   "metadata": {},
   "source": [
    "- Verificando quais colunas foram importadas, a coluna 'count' conta quantas vezes o veículo passou no ponto; \n",
    "- Removendo linhas que contenham latitude igual a zero, pois trata-se de um erro nos dados;\n",
    "- Verificando quantas linhas e colunas possui a base de dados"
   ]
  },
  {
   "cell_type": "code",
   "execution_count": 6,
   "metadata": {},
   "outputs": [
    {
     "data": {
      "text/plain": [
       "Index([u'Unnamed: 0', u'loc_placa', u'loc_latitude', u'loc_longitude',\n",
       "       u'count'],\n",
       "      dtype='object')"
      ]
     },
     "metadata": {},
     "output_type": "display_data"
    },
    {
     "name": "stdout",
     "output_type": "stream",
     "text": [
      "(2455346, 5)\n"
     ]
    }
   ],
   "source": [
    "display(data_csv.columns)\n",
    "data_csv.drop(data_csv.loc_latitude == 0, inplace=True)\n",
    "print data_csv.shape"
   ]
  },
  {
   "cell_type": "markdown",
   "metadata": {},
   "source": [
    "Concatenando as colunas latitude e longitude em apenas uma coluna denominada \"local\":"
   ]
  },
  {
   "cell_type": "code",
   "execution_count": 7,
   "metadata": {},
   "outputs": [
    {
     "name": "stdout",
     "output_type": "stream",
     "text": [
      "Foram encontrados 618757 veículos passando por 135 pontos.\n"
     ]
    }
   ],
   "source": [
    "data_csv['local'] = data_csv['loc_latitude'].map(str) + \" \" + data_csv['loc_longitude'].map(str) #cria coluna concatenando latitude e longitude\n",
    "data_csv.drop(['loc_latitude', 'loc_longitude'], axis = 1, inplace = True)\n",
    "lista_veiculos = set(data_csv['loc_placa'])\n",
    "lista_locais = set(data_csv['local'])\n",
    "print \"Foram encontrados {} veículos passando por {} pontos.\" .format(len(lista_veiculos), len(lista_locais))"
   ]
  },
  {
   "cell_type": "code",
   "execution_count": 8,
   "metadata": {},
   "outputs": [
    {
     "data": {
      "text/html": [
       "<div>\n",
       "<style>\n",
       "    .dataframe thead tr:only-child th {\n",
       "        text-align: right;\n",
       "    }\n",
       "\n",
       "    .dataframe thead th {\n",
       "        text-align: left;\n",
       "    }\n",
       "\n",
       "    .dataframe tbody tr th {\n",
       "        vertical-align: top;\n",
       "    }\n",
       "</style>\n",
       "<table border=\"1\" class=\"dataframe\">\n",
       "  <thead>\n",
       "    <tr style=\"text-align: right;\">\n",
       "      <th></th>\n",
       "      <th>Unnamed: 0</th>\n",
       "      <th>count</th>\n",
       "      <th>local</th>\n",
       "    </tr>\n",
       "    <tr>\n",
       "      <th>loc_placa</th>\n",
       "      <th></th>\n",
       "      <th></th>\n",
       "      <th></th>\n",
       "    </tr>\n",
       "  </thead>\n",
       "  <tbody>\n",
       "    <tr>\n",
       "      <th>OTS5855</th>\n",
       "      <td>4</td>\n",
       "      <td>1</td>\n",
       "      <td>1412 9134</td>\n",
       "    </tr>\n",
       "    <tr>\n",
       "      <th>APS9101</th>\n",
       "      <td>5</td>\n",
       "      <td>1</td>\n",
       "      <td>5825 9794</td>\n",
       "    </tr>\n",
       "    <tr>\n",
       "      <th>HRN6599</th>\n",
       "      <td>6</td>\n",
       "      <td>2</td>\n",
       "      <td>9222 5020</td>\n",
       "    </tr>\n",
       "    <tr>\n",
       "      <th>OFI2494</th>\n",
       "      <td>7</td>\n",
       "      <td>1</td>\n",
       "      <td>2324 8727</td>\n",
       "    </tr>\n",
       "    <tr>\n",
       "      <th>PAM3495</th>\n",
       "      <td>8</td>\n",
       "      <td>1</td>\n",
       "      <td>3444 967</td>\n",
       "    </tr>\n",
       "  </tbody>\n",
       "</table>\n",
       "</div>"
      ],
      "text/plain": [
       "           Unnamed: 0  count      local\n",
       "loc_placa                              \n",
       "OTS5855             4      1  1412 9134\n",
       "APS9101             5      1  5825 9794\n",
       "HRN6599             6      2  9222 5020\n",
       "OFI2494             7      1  2324 8727\n",
       "PAM3495             8      1   3444 967"
      ]
     },
     "metadata": {},
     "output_type": "display_data"
    }
   ],
   "source": [
    "#indexa o DataFrame pelo campo 'loc_placa'\n",
    "data_csv.set_index(['loc_placa'], inplace = True)\n",
    "display(data_csv.head(n=5))"
   ]
  },
  {
   "cell_type": "markdown",
   "metadata": {},
   "source": [
    "O próximo passo é criar uma tabela em que cada linha contenha um veículo e cada coluna a latitude e longitude de um ponto de controle."
   ]
  },
  {
   "cell_type": "code",
   "execution_count": 9,
   "metadata": {
    "collapsed": true
   },
   "outputs": [],
   "source": [
    "def create_df_placaporpontos(data_csv, placa_column, local_column):\n",
    "    lista_veiculos = set(data_csv.index)\n",
    "    lista_locais = set(data_csv[local_column])\n",
    "    data = pd.DataFrame(index = lista_veiculos, columns = lista_locais)\n",
    "    data.fillna(0, inplace=True)\n",
    "    for local in lista_locais:\n",
    "        data_temp = pd.DataFrame(data_csv[data_csv[local_column] == local])\n",
    "        data[local]=data[local].add(data_temp['count'], fill_value = 0)\n",
    "    return data"
   ]
  },
  {
   "cell_type": "code",
   "execution_count": 10,
   "metadata": {},
   "outputs": [
    {
     "name": "stdout",
     "output_type": "stream",
     "text": [
      "tabela criada com sucesso\n"
     ]
    }
   ],
   "source": [
    "data = create_df_placaporpontos(data_csv, 'loc_placa', 'local')\n",
    "print \"tabela criada com sucesso\""
   ]
  },
  {
   "cell_type": "markdown",
   "metadata": {},
   "source": [
    "Salvando o dataframe em arquivo:"
   ]
  },
  {
   "cell_type": "code",
   "execution_count": 11,
   "metadata": {},
   "outputs": [
    {
     "name": "stdout",
     "output_type": "stream",
     "text": [
      "arquivo salvo com sucesso\n"
     ]
    }
   ],
   "source": [
    "try:\n",
    "    data.to_csv('placas_por_pontos_geral.csv')\n",
    "    print \"arquivo salvo com sucesso\"\n",
    "except:\n",
    "    print \"erro ao salvar arquivo\""
   ]
  },
  {
   "cell_type": "markdown",
   "metadata": {},
   "source": [
    "### Apresentando a tabela\n",
    "A tabela abaixo é a tabela que será utilizada para desenvolvimento do projeto, cada linha contém um veículo e em cada coluna a quantidade de vezes que o veículo passou por cada ponto de controle, as colunas serão tratadas como características de cada veículo. "
   ]
  },
  {
   "cell_type": "code",
   "execution_count": 12,
   "metadata": {
    "scrolled": true
   },
   "outputs": [
    {
     "data": {
      "text/html": [
       "<div>\n",
       "<style>\n",
       "    .dataframe thead tr:only-child th {\n",
       "        text-align: right;\n",
       "    }\n",
       "\n",
       "    .dataframe thead th {\n",
       "        text-align: left;\n",
       "    }\n",
       "\n",
       "    .dataframe tbody tr th {\n",
       "        vertical-align: top;\n",
       "    }\n",
       "</style>\n",
       "<table border=\"1\" class=\"dataframe\">\n",
       "  <thead>\n",
       "    <tr style=\"text-align: right;\">\n",
       "      <th></th>\n",
       "      <th>5613 8278</th>\n",
       "      <th>4738 6727</th>\n",
       "      <th>4332 2860</th>\n",
       "      <th>8053 4258</th>\n",
       "      <th>3444 967</th>\n",
       "      <th>1412 9134</th>\n",
       "      <th>5880 8554</th>\n",
       "      <th>2833 1278</th>\n",
       "      <th>3416 1233</th>\n",
       "      <th>2374 6763</th>\n",
       "      <th>...</th>\n",
       "      <th>5000 4778</th>\n",
       "      <th>4162 7589</th>\n",
       "      <th>472 5552</th>\n",
       "      <th>1382 4248</th>\n",
       "      <th>4853 8470</th>\n",
       "      <th>9430 4736</th>\n",
       "      <th>5303 7658</th>\n",
       "      <th>7723 5667</th>\n",
       "      <th>9666 833</th>\n",
       "      <th>7272 1070</th>\n",
       "    </tr>\n",
       "  </thead>\n",
       "  <tbody>\n",
       "    <tr>\n",
       "      <th>HXX6311</th>\n",
       "      <td>0.0</td>\n",
       "      <td>0.0</td>\n",
       "      <td>1.0</td>\n",
       "      <td>0.0</td>\n",
       "      <td>0.0</td>\n",
       "      <td>0.0</td>\n",
       "      <td>0.0</td>\n",
       "      <td>0.0</td>\n",
       "      <td>0.0</td>\n",
       "      <td>0.0</td>\n",
       "      <td>...</td>\n",
       "      <td>0.0</td>\n",
       "      <td>0.0</td>\n",
       "      <td>0.0</td>\n",
       "      <td>0.0</td>\n",
       "      <td>0.0</td>\n",
       "      <td>0.0</td>\n",
       "      <td>0.0</td>\n",
       "      <td>0.0</td>\n",
       "      <td>0.0</td>\n",
       "      <td>0.0</td>\n",
       "    </tr>\n",
       "    <tr>\n",
       "      <th>OES0945</th>\n",
       "      <td>0.0</td>\n",
       "      <td>0.0</td>\n",
       "      <td>0.0</td>\n",
       "      <td>0.0</td>\n",
       "      <td>0.0</td>\n",
       "      <td>0.0</td>\n",
       "      <td>0.0</td>\n",
       "      <td>0.0</td>\n",
       "      <td>0.0</td>\n",
       "      <td>0.0</td>\n",
       "      <td>...</td>\n",
       "      <td>0.0</td>\n",
       "      <td>0.0</td>\n",
       "      <td>0.0</td>\n",
       "      <td>0.0</td>\n",
       "      <td>0.0</td>\n",
       "      <td>0.0</td>\n",
       "      <td>0.0</td>\n",
       "      <td>0.0</td>\n",
       "      <td>0.0</td>\n",
       "      <td>0.0</td>\n",
       "    </tr>\n",
       "    <tr>\n",
       "      <th>HWC4722</th>\n",
       "      <td>0.0</td>\n",
       "      <td>0.0</td>\n",
       "      <td>0.0</td>\n",
       "      <td>0.0</td>\n",
       "      <td>0.0</td>\n",
       "      <td>0.0</td>\n",
       "      <td>0.0</td>\n",
       "      <td>0.0</td>\n",
       "      <td>0.0</td>\n",
       "      <td>0.0</td>\n",
       "      <td>...</td>\n",
       "      <td>0.0</td>\n",
       "      <td>0.0</td>\n",
       "      <td>0.0</td>\n",
       "      <td>0.0</td>\n",
       "      <td>0.0</td>\n",
       "      <td>0.0</td>\n",
       "      <td>0.0</td>\n",
       "      <td>0.0</td>\n",
       "      <td>0.0</td>\n",
       "      <td>0.0</td>\n",
       "    </tr>\n",
       "    <tr>\n",
       "      <th>HXX6312</th>\n",
       "      <td>0.0</td>\n",
       "      <td>0.0</td>\n",
       "      <td>0.0</td>\n",
       "      <td>0.0</td>\n",
       "      <td>0.0</td>\n",
       "      <td>0.0</td>\n",
       "      <td>0.0</td>\n",
       "      <td>0.0</td>\n",
       "      <td>0.0</td>\n",
       "      <td>0.0</td>\n",
       "      <td>...</td>\n",
       "      <td>0.0</td>\n",
       "      <td>0.0</td>\n",
       "      <td>0.0</td>\n",
       "      <td>0.0</td>\n",
       "      <td>1.0</td>\n",
       "      <td>0.0</td>\n",
       "      <td>0.0</td>\n",
       "      <td>0.0</td>\n",
       "      <td>1.0</td>\n",
       "      <td>0.0</td>\n",
       "    </tr>\n",
       "    <tr>\n",
       "      <th>NMQ8671</th>\n",
       "      <td>0.0</td>\n",
       "      <td>0.0</td>\n",
       "      <td>0.0</td>\n",
       "      <td>0.0</td>\n",
       "      <td>0.0</td>\n",
       "      <td>0.0</td>\n",
       "      <td>0.0</td>\n",
       "      <td>0.0</td>\n",
       "      <td>0.0</td>\n",
       "      <td>0.0</td>\n",
       "      <td>...</td>\n",
       "      <td>0.0</td>\n",
       "      <td>0.0</td>\n",
       "      <td>0.0</td>\n",
       "      <td>0.0</td>\n",
       "      <td>0.0</td>\n",
       "      <td>0.0</td>\n",
       "      <td>0.0</td>\n",
       "      <td>0.0</td>\n",
       "      <td>0.0</td>\n",
       "      <td>0.0</td>\n",
       "    </tr>\n",
       "    <tr>\n",
       "      <th>NTM2610</th>\n",
       "      <td>0.0</td>\n",
       "      <td>0.0</td>\n",
       "      <td>0.0</td>\n",
       "      <td>0.0</td>\n",
       "      <td>0.0</td>\n",
       "      <td>0.0</td>\n",
       "      <td>0.0</td>\n",
       "      <td>0.0</td>\n",
       "      <td>0.0</td>\n",
       "      <td>0.0</td>\n",
       "      <td>...</td>\n",
       "      <td>0.0</td>\n",
       "      <td>0.0</td>\n",
       "      <td>0.0</td>\n",
       "      <td>0.0</td>\n",
       "      <td>0.0</td>\n",
       "      <td>0.0</td>\n",
       "      <td>0.0</td>\n",
       "      <td>0.0</td>\n",
       "      <td>0.0</td>\n",
       "      <td>0.0</td>\n",
       "    </tr>\n",
       "    <tr>\n",
       "      <th>ODI1168</th>\n",
       "      <td>0.0</td>\n",
       "      <td>0.0</td>\n",
       "      <td>0.0</td>\n",
       "      <td>0.0</td>\n",
       "      <td>0.0</td>\n",
       "      <td>0.0</td>\n",
       "      <td>0.0</td>\n",
       "      <td>0.0</td>\n",
       "      <td>0.0</td>\n",
       "      <td>0.0</td>\n",
       "      <td>...</td>\n",
       "      <td>0.0</td>\n",
       "      <td>0.0</td>\n",
       "      <td>0.0</td>\n",
       "      <td>0.0</td>\n",
       "      <td>0.0</td>\n",
       "      <td>0.0</td>\n",
       "      <td>0.0</td>\n",
       "      <td>0.0</td>\n",
       "      <td>0.0</td>\n",
       "      <td>0.0</td>\n",
       "    </tr>\n",
       "    <tr>\n",
       "      <th>OES0947</th>\n",
       "      <td>0.0</td>\n",
       "      <td>0.0</td>\n",
       "      <td>0.0</td>\n",
       "      <td>0.0</td>\n",
       "      <td>0.0</td>\n",
       "      <td>0.0</td>\n",
       "      <td>0.0</td>\n",
       "      <td>0.0</td>\n",
       "      <td>0.0</td>\n",
       "      <td>0.0</td>\n",
       "      <td>...</td>\n",
       "      <td>0.0</td>\n",
       "      <td>0.0</td>\n",
       "      <td>0.0</td>\n",
       "      <td>0.0</td>\n",
       "      <td>0.0</td>\n",
       "      <td>0.0</td>\n",
       "      <td>0.0</td>\n",
       "      <td>0.0</td>\n",
       "      <td>0.0</td>\n",
       "      <td>0.0</td>\n",
       "    </tr>\n",
       "    <tr>\n",
       "      <th>NTQ9976</th>\n",
       "      <td>0.0</td>\n",
       "      <td>0.0</td>\n",
       "      <td>0.0</td>\n",
       "      <td>0.0</td>\n",
       "      <td>0.0</td>\n",
       "      <td>0.0</td>\n",
       "      <td>0.0</td>\n",
       "      <td>0.0</td>\n",
       "      <td>0.0</td>\n",
       "      <td>0.0</td>\n",
       "      <td>...</td>\n",
       "      <td>0.0</td>\n",
       "      <td>0.0</td>\n",
       "      <td>0.0</td>\n",
       "      <td>0.0</td>\n",
       "      <td>0.0</td>\n",
       "      <td>0.0</td>\n",
       "      <td>0.0</td>\n",
       "      <td>0.0</td>\n",
       "      <td>0.0</td>\n",
       "      <td>0.0</td>\n",
       "    </tr>\n",
       "    <tr>\n",
       "      <th>ODI1161</th>\n",
       "      <td>0.0</td>\n",
       "      <td>0.0</td>\n",
       "      <td>0.0</td>\n",
       "      <td>0.0</td>\n",
       "      <td>0.0</td>\n",
       "      <td>0.0</td>\n",
       "      <td>0.0</td>\n",
       "      <td>0.0</td>\n",
       "      <td>0.0</td>\n",
       "      <td>0.0</td>\n",
       "      <td>...</td>\n",
       "      <td>0.0</td>\n",
       "      <td>0.0</td>\n",
       "      <td>0.0</td>\n",
       "      <td>0.0</td>\n",
       "      <td>0.0</td>\n",
       "      <td>0.0</td>\n",
       "      <td>0.0</td>\n",
       "      <td>0.0</td>\n",
       "      <td>0.0</td>\n",
       "      <td>0.0</td>\n",
       "    </tr>\n",
       "  </tbody>\n",
       "</table>\n",
       "<p>10 rows × 135 columns</p>\n",
       "</div>"
      ],
      "text/plain": [
       "         5613 8278  4738 6727  4332 2860  8053 4258  3444 967  1412 9134  \\\n",
       "HXX6311        0.0        0.0        1.0        0.0       0.0        0.0   \n",
       "OES0945        0.0        0.0        0.0        0.0       0.0        0.0   \n",
       "HWC4722        0.0        0.0        0.0        0.0       0.0        0.0   \n",
       "HXX6312        0.0        0.0        0.0        0.0       0.0        0.0   \n",
       "NMQ8671        0.0        0.0        0.0        0.0       0.0        0.0   \n",
       "NTM2610        0.0        0.0        0.0        0.0       0.0        0.0   \n",
       "ODI1168        0.0        0.0        0.0        0.0       0.0        0.0   \n",
       "OES0947        0.0        0.0        0.0        0.0       0.0        0.0   \n",
       "NTQ9976        0.0        0.0        0.0        0.0       0.0        0.0   \n",
       "ODI1161        0.0        0.0        0.0        0.0       0.0        0.0   \n",
       "\n",
       "         5880 8554  2833 1278  3416 1233  2374 6763    ...      5000 4778  \\\n",
       "HXX6311        0.0        0.0        0.0        0.0    ...            0.0   \n",
       "OES0945        0.0        0.0        0.0        0.0    ...            0.0   \n",
       "HWC4722        0.0        0.0        0.0        0.0    ...            0.0   \n",
       "HXX6312        0.0        0.0        0.0        0.0    ...            0.0   \n",
       "NMQ8671        0.0        0.0        0.0        0.0    ...            0.0   \n",
       "NTM2610        0.0        0.0        0.0        0.0    ...            0.0   \n",
       "ODI1168        0.0        0.0        0.0        0.0    ...            0.0   \n",
       "OES0947        0.0        0.0        0.0        0.0    ...            0.0   \n",
       "NTQ9976        0.0        0.0        0.0        0.0    ...            0.0   \n",
       "ODI1161        0.0        0.0        0.0        0.0    ...            0.0   \n",
       "\n",
       "         4162 7589  472 5552  1382 4248  4853 8470  9430 4736  5303 7658  \\\n",
       "HXX6311        0.0       0.0        0.0        0.0        0.0        0.0   \n",
       "OES0945        0.0       0.0        0.0        0.0        0.0        0.0   \n",
       "HWC4722        0.0       0.0        0.0        0.0        0.0        0.0   \n",
       "HXX6312        0.0       0.0        0.0        1.0        0.0        0.0   \n",
       "NMQ8671        0.0       0.0        0.0        0.0        0.0        0.0   \n",
       "NTM2610        0.0       0.0        0.0        0.0        0.0        0.0   \n",
       "ODI1168        0.0       0.0        0.0        0.0        0.0        0.0   \n",
       "OES0947        0.0       0.0        0.0        0.0        0.0        0.0   \n",
       "NTQ9976        0.0       0.0        0.0        0.0        0.0        0.0   \n",
       "ODI1161        0.0       0.0        0.0        0.0        0.0        0.0   \n",
       "\n",
       "         7723 5667  9666 833  7272 1070  \n",
       "HXX6311        0.0       0.0        0.0  \n",
       "OES0945        0.0       0.0        0.0  \n",
       "HWC4722        0.0       0.0        0.0  \n",
       "HXX6312        0.0       1.0        0.0  \n",
       "NMQ8671        0.0       0.0        0.0  \n",
       "NTM2610        0.0       0.0        0.0  \n",
       "ODI1168        0.0       0.0        0.0  \n",
       "OES0947        0.0       0.0        0.0  \n",
       "NTQ9976        0.0       0.0        0.0  \n",
       "ODI1161        0.0       0.0        0.0  \n",
       "\n",
       "[10 rows x 135 columns]"
      ]
     },
     "metadata": {},
     "output_type": "display_data"
    }
   ],
   "source": [
    "display(data.head(n=10))"
   ]
  },
  {
   "cell_type": "code",
   "execution_count": 109,
   "metadata": {},
   "outputs": [
    {
     "data": {
      "text/html": [
       "<div>\n",
       "<style>\n",
       "    .dataframe thead tr:only-child th {\n",
       "        text-align: right;\n",
       "    }\n",
       "\n",
       "    .dataframe thead th {\n",
       "        text-align: left;\n",
       "    }\n",
       "\n",
       "    .dataframe tbody tr th {\n",
       "        vertical-align: top;\n",
       "    }\n",
       "</style>\n",
       "<table border=\"1\" class=\"dataframe\">\n",
       "  <thead>\n",
       "    <tr style=\"text-align: right;\">\n",
       "      <th></th>\n",
       "      <th>5613 8278</th>\n",
       "      <th>4738 6727</th>\n",
       "      <th>4332 2860</th>\n",
       "      <th>8053 4258</th>\n",
       "      <th>3444 967</th>\n",
       "      <th>1412 9134</th>\n",
       "      <th>5880 8554</th>\n",
       "      <th>2833 1278</th>\n",
       "      <th>3416 1233</th>\n",
       "      <th>2374 6763</th>\n",
       "      <th>...</th>\n",
       "      <th>5000 4778</th>\n",
       "      <th>4162 7589</th>\n",
       "      <th>472 5552</th>\n",
       "      <th>1382 4248</th>\n",
       "      <th>4853 8470</th>\n",
       "      <th>9430 4736</th>\n",
       "      <th>5303 7658</th>\n",
       "      <th>7723 5667</th>\n",
       "      <th>9666 833</th>\n",
       "      <th>7272 1070</th>\n",
       "    </tr>\n",
       "  </thead>\n",
       "  <tbody>\n",
       "    <tr>\n",
       "      <th>count</th>\n",
       "      <td>618757.000000</td>\n",
       "      <td>618757.000000</td>\n",
       "      <td>618757.000000</td>\n",
       "      <td>618757.000000</td>\n",
       "      <td>618757.000000</td>\n",
       "      <td>618757.000000</td>\n",
       "      <td>618757.000000</td>\n",
       "      <td>618757.000000</td>\n",
       "      <td>618757.00000</td>\n",
       "      <td>618757.000000</td>\n",
       "      <td>...</td>\n",
       "      <td>618757.000000</td>\n",
       "      <td>618757.000000</td>\n",
       "      <td>618757.000000</td>\n",
       "      <td>618757.000000</td>\n",
       "      <td>618757.000000</td>\n",
       "      <td>618757.000000</td>\n",
       "      <td>618757.000000</td>\n",
       "      <td>618757.000000</td>\n",
       "      <td>618757.000000</td>\n",
       "      <td>618757.000000</td>\n",
       "    </tr>\n",
       "    <tr>\n",
       "      <th>mean</th>\n",
       "      <td>0.006311</td>\n",
       "      <td>0.052074</td>\n",
       "      <td>0.014161</td>\n",
       "      <td>0.034257</td>\n",
       "      <td>0.080246</td>\n",
       "      <td>0.025758</td>\n",
       "      <td>0.033116</td>\n",
       "      <td>0.040683</td>\n",
       "      <td>0.02160</td>\n",
       "      <td>0.017370</td>\n",
       "      <td>...</td>\n",
       "      <td>0.040292</td>\n",
       "      <td>0.034631</td>\n",
       "      <td>0.063458</td>\n",
       "      <td>0.036882</td>\n",
       "      <td>0.042560</td>\n",
       "      <td>0.024396</td>\n",
       "      <td>0.053027</td>\n",
       "      <td>0.046273</td>\n",
       "      <td>0.039922</td>\n",
       "      <td>0.074368</td>\n",
       "    </tr>\n",
       "    <tr>\n",
       "      <th>std</th>\n",
       "      <td>0.095645</td>\n",
       "      <td>0.474153</td>\n",
       "      <td>0.148592</td>\n",
       "      <td>0.285901</td>\n",
       "      <td>0.814628</td>\n",
       "      <td>0.184976</td>\n",
       "      <td>0.231416</td>\n",
       "      <td>0.244743</td>\n",
       "      <td>0.17967</td>\n",
       "      <td>0.173292</td>\n",
       "      <td>...</td>\n",
       "      <td>0.276702</td>\n",
       "      <td>0.238282</td>\n",
       "      <td>0.386831</td>\n",
       "      <td>0.307453</td>\n",
       "      <td>0.643333</td>\n",
       "      <td>0.215558</td>\n",
       "      <td>0.313068</td>\n",
       "      <td>0.261491</td>\n",
       "      <td>0.517614</td>\n",
       "      <td>0.376809</td>\n",
       "    </tr>\n",
       "    <tr>\n",
       "      <th>min</th>\n",
       "      <td>0.000000</td>\n",
       "      <td>0.000000</td>\n",
       "      <td>0.000000</td>\n",
       "      <td>0.000000</td>\n",
       "      <td>0.000000</td>\n",
       "      <td>0.000000</td>\n",
       "      <td>0.000000</td>\n",
       "      <td>0.000000</td>\n",
       "      <td>0.00000</td>\n",
       "      <td>0.000000</td>\n",
       "      <td>...</td>\n",
       "      <td>0.000000</td>\n",
       "      <td>0.000000</td>\n",
       "      <td>0.000000</td>\n",
       "      <td>0.000000</td>\n",
       "      <td>0.000000</td>\n",
       "      <td>0.000000</td>\n",
       "      <td>0.000000</td>\n",
       "      <td>0.000000</td>\n",
       "      <td>0.000000</td>\n",
       "      <td>0.000000</td>\n",
       "    </tr>\n",
       "    <tr>\n",
       "      <th>25%</th>\n",
       "      <td>0.000000</td>\n",
       "      <td>0.000000</td>\n",
       "      <td>0.000000</td>\n",
       "      <td>0.000000</td>\n",
       "      <td>0.000000</td>\n",
       "      <td>0.000000</td>\n",
       "      <td>0.000000</td>\n",
       "      <td>0.000000</td>\n",
       "      <td>0.00000</td>\n",
       "      <td>0.000000</td>\n",
       "      <td>...</td>\n",
       "      <td>0.000000</td>\n",
       "      <td>0.000000</td>\n",
       "      <td>0.000000</td>\n",
       "      <td>0.000000</td>\n",
       "      <td>0.000000</td>\n",
       "      <td>0.000000</td>\n",
       "      <td>0.000000</td>\n",
       "      <td>0.000000</td>\n",
       "      <td>0.000000</td>\n",
       "      <td>0.000000</td>\n",
       "    </tr>\n",
       "    <tr>\n",
       "      <th>50%</th>\n",
       "      <td>0.000000</td>\n",
       "      <td>0.000000</td>\n",
       "      <td>0.000000</td>\n",
       "      <td>0.000000</td>\n",
       "      <td>0.000000</td>\n",
       "      <td>0.000000</td>\n",
       "      <td>0.000000</td>\n",
       "      <td>0.000000</td>\n",
       "      <td>0.00000</td>\n",
       "      <td>0.000000</td>\n",
       "      <td>...</td>\n",
       "      <td>0.000000</td>\n",
       "      <td>0.000000</td>\n",
       "      <td>0.000000</td>\n",
       "      <td>0.000000</td>\n",
       "      <td>0.000000</td>\n",
       "      <td>0.000000</td>\n",
       "      <td>0.000000</td>\n",
       "      <td>0.000000</td>\n",
       "      <td>0.000000</td>\n",
       "      <td>0.000000</td>\n",
       "    </tr>\n",
       "    <tr>\n",
       "      <th>75%</th>\n",
       "      <td>0.000000</td>\n",
       "      <td>0.000000</td>\n",
       "      <td>0.000000</td>\n",
       "      <td>0.000000</td>\n",
       "      <td>0.000000</td>\n",
       "      <td>0.000000</td>\n",
       "      <td>0.000000</td>\n",
       "      <td>0.000000</td>\n",
       "      <td>0.00000</td>\n",
       "      <td>0.000000</td>\n",
       "      <td>...</td>\n",
       "      <td>0.000000</td>\n",
       "      <td>0.000000</td>\n",
       "      <td>0.000000</td>\n",
       "      <td>0.000000</td>\n",
       "      <td>0.000000</td>\n",
       "      <td>0.000000</td>\n",
       "      <td>0.000000</td>\n",
       "      <td>0.000000</td>\n",
       "      <td>0.000000</td>\n",
       "      <td>0.000000</td>\n",
       "    </tr>\n",
       "    <tr>\n",
       "      <th>max</th>\n",
       "      <td>11.000000</td>\n",
       "      <td>295.000000</td>\n",
       "      <td>21.000000</td>\n",
       "      <td>39.000000</td>\n",
       "      <td>578.000000</td>\n",
       "      <td>22.000000</td>\n",
       "      <td>77.000000</td>\n",
       "      <td>12.000000</td>\n",
       "      <td>10.00000</td>\n",
       "      <td>18.000000</td>\n",
       "      <td>...</td>\n",
       "      <td>28.000000</td>\n",
       "      <td>20.000000</td>\n",
       "      <td>192.000000</td>\n",
       "      <td>23.000000</td>\n",
       "      <td>468.000000</td>\n",
       "      <td>89.000000</td>\n",
       "      <td>28.000000</td>\n",
       "      <td>11.000000</td>\n",
       "      <td>353.000000</td>\n",
       "      <td>61.000000</td>\n",
       "    </tr>\n",
       "  </tbody>\n",
       "</table>\n",
       "<p>8 rows × 135 columns</p>\n",
       "</div>"
      ],
      "text/plain": [
       "           5613 8278      4738 6727      4332 2860      8053 4258  \\\n",
       "count  618757.000000  618757.000000  618757.000000  618757.000000   \n",
       "mean        0.006311       0.052074       0.014161       0.034257   \n",
       "std         0.095645       0.474153       0.148592       0.285901   \n",
       "min         0.000000       0.000000       0.000000       0.000000   \n",
       "25%         0.000000       0.000000       0.000000       0.000000   \n",
       "50%         0.000000       0.000000       0.000000       0.000000   \n",
       "75%         0.000000       0.000000       0.000000       0.000000   \n",
       "max        11.000000     295.000000      21.000000      39.000000   \n",
       "\n",
       "            3444 967      1412 9134      5880 8554      2833 1278  \\\n",
       "count  618757.000000  618757.000000  618757.000000  618757.000000   \n",
       "mean        0.080246       0.025758       0.033116       0.040683   \n",
       "std         0.814628       0.184976       0.231416       0.244743   \n",
       "min         0.000000       0.000000       0.000000       0.000000   \n",
       "25%         0.000000       0.000000       0.000000       0.000000   \n",
       "50%         0.000000       0.000000       0.000000       0.000000   \n",
       "75%         0.000000       0.000000       0.000000       0.000000   \n",
       "max       578.000000      22.000000      77.000000      12.000000   \n",
       "\n",
       "          3416 1233      2374 6763      ...            5000 4778  \\\n",
       "count  618757.00000  618757.000000      ...        618757.000000   \n",
       "mean        0.02160       0.017370      ...             0.040292   \n",
       "std         0.17967       0.173292      ...             0.276702   \n",
       "min         0.00000       0.000000      ...             0.000000   \n",
       "25%         0.00000       0.000000      ...             0.000000   \n",
       "50%         0.00000       0.000000      ...             0.000000   \n",
       "75%         0.00000       0.000000      ...             0.000000   \n",
       "max        10.00000      18.000000      ...            28.000000   \n",
       "\n",
       "           4162 7589       472 5552      1382 4248      4853 8470  \\\n",
       "count  618757.000000  618757.000000  618757.000000  618757.000000   \n",
       "mean        0.034631       0.063458       0.036882       0.042560   \n",
       "std         0.238282       0.386831       0.307453       0.643333   \n",
       "min         0.000000       0.000000       0.000000       0.000000   \n",
       "25%         0.000000       0.000000       0.000000       0.000000   \n",
       "50%         0.000000       0.000000       0.000000       0.000000   \n",
       "75%         0.000000       0.000000       0.000000       0.000000   \n",
       "max        20.000000     192.000000      23.000000     468.000000   \n",
       "\n",
       "           9430 4736      5303 7658      7723 5667       9666 833  \\\n",
       "count  618757.000000  618757.000000  618757.000000  618757.000000   \n",
       "mean        0.024396       0.053027       0.046273       0.039922   \n",
       "std         0.215558       0.313068       0.261491       0.517614   \n",
       "min         0.000000       0.000000       0.000000       0.000000   \n",
       "25%         0.000000       0.000000       0.000000       0.000000   \n",
       "50%         0.000000       0.000000       0.000000       0.000000   \n",
       "75%         0.000000       0.000000       0.000000       0.000000   \n",
       "max        89.000000      28.000000      11.000000     353.000000   \n",
       "\n",
       "           7272 1070  \n",
       "count  618757.000000  \n",
       "mean        0.074368  \n",
       "std         0.376809  \n",
       "min         0.000000  \n",
       "25%         0.000000  \n",
       "50%         0.000000  \n",
       "75%         0.000000  \n",
       "max        61.000000  \n",
       "\n",
       "[8 rows x 135 columns]"
      ]
     },
     "metadata": {},
     "output_type": "display_data"
    }
   ],
   "source": [
    "display(data.describe())"
   ]
  },
  {
   "cell_type": "markdown",
   "metadata": {},
   "source": [
    "### Implementação: PCA\n",
    "\n",
    "Como existem 135 características, será utilizado o PCA para descobrir qual dimensão dos dados melhor maximizam a variância dos atributos envolvidos. Além de descobrir essas dimensões, a PCA também irá reportar a *razão da variância explicada* de cada dimensão – quanta variância dentro dos dados é explicada pela dimensão sozinha. Note que o componente (dimensão) da PCA pode ser considerado como um novo \"feature\" do espaço, entretanto, ele é uma composição do atributo original presente nos dados."
   ]
  },
  {
   "cell_type": "code",
   "execution_count": 13,
   "metadata": {},
   "outputs": [
    {
     "name": "stdout",
     "output_type": "stream",
     "text": [
      "Array com a variança explicada acumulada:\n"
     ]
    },
    {
     "data": {
      "text/plain": [
       "array([ 0.47496722,  0.5282771 ,  0.56556268,  0.58944722,  0.60864399,\n",
       "        0.62347305,  0.6367917 ,  0.6495455 ,  0.6614776 ,  0.67194518,\n",
       "        0.68173065,  0.69093634,  0.69981429,  0.70845335,  0.71694794,\n",
       "        0.72514717,  0.73278846,  0.73972076,  0.74618363,  0.7523047 ,\n",
       "        0.75804414,  0.76323468,  0.76816307,  0.77302439,  0.77775767,\n",
       "        0.7824506 ,  0.78707657,  0.79152583,  0.795796  ,  0.80001089,\n",
       "        0.80418064,  0.80821961,  0.81213045,  0.81596564,  0.8195659 ,\n",
       "        0.82312573,  0.82652849,  0.82985814,  0.83316722,  0.83646088,\n",
       "        0.8397158 ,  0.8429366 ,  0.84612868,  0.84927364,  0.85229472,\n",
       "        0.85525715,  0.85821062,  0.86108085,  0.8638937 ,  0.86665064])"
      ]
     },
     "execution_count": 13,
     "metadata": {},
     "output_type": "execute_result"
    }
   ],
   "source": [
    "# PCA\n",
    "from sklearn.decomposition import PCA\n",
    "pca = PCA(n_components = 50)\n",
    "pca.fit(data)\n",
    "print \"Array com a variança explicada acumulada:\"\n",
    "np.cumsum(pca.explained_variance_ratio_)\n"
   ]
  },
  {
   "cell_type": "markdown",
   "metadata": {},
   "source": [
    "### Redução da Dimensionalidade\n",
    "Ao utilizar um componente principal de análise, um dos objetivos principais é reduzir a dimensionalidade dos dados – na realidade, reduzindo a complexidade do problema. Redução de dimensionalidade tem um custo: Poucas dimensões utilizadas implicam em menor variância total dos dados que estão sendo explicados. Por causo disso, a *taxa de variância explicada cumulativa* é extremamente importante para saber como várias dimensões são necessárias para o problema. Além disso, se uma quantidade significativa de variância é explicada por apenas duas ou três dimensões, os dados reduzidos podem ser visualizados depois.\n",
    "\n",
    "Pelo Array de variança explicada pode-se ver que com 30 dimensões 80% da variança dos dados é explicada, portanto será utilizada a redução de dimensionalidade pelo PCA de **135** para **30** dimensões"
   ]
  },
  {
   "cell_type": "code",
   "execution_count": 14,
   "metadata": {
    "collapsed": true
   },
   "outputs": [],
   "source": [
    "# Ajustanto o PCA com 30 dimensões\n",
    "pca = PCA(n_components = 30)\n",
    "pca.fit(data)\n",
    "\n",
    "# Transformando os dados utilizando o ajuste do PCA acima\n",
    "reduced_data = pca.transform(data)\n",
    "\n",
    "# Criando o DataFrame para os dados reduzidos\n",
    "pca_dimensions = list()\n",
    "for x in range(30):\n",
    "    pca_dimensions.append(\"Dimension \" + str(x))\n",
    "reduced_data = pd.DataFrame(reduced_data, columns = pca_dimensions)"
   ]
  },
  {
   "cell_type": "code",
   "execution_count": 15,
   "metadata": {},
   "outputs": [
    {
     "data": {
      "text/html": [
       "<div>\n",
       "<style>\n",
       "    .dataframe thead tr:only-child th {\n",
       "        text-align: right;\n",
       "    }\n",
       "\n",
       "    .dataframe thead th {\n",
       "        text-align: left;\n",
       "    }\n",
       "\n",
       "    .dataframe tbody tr th {\n",
       "        vertical-align: top;\n",
       "    }\n",
       "</style>\n",
       "<table border=\"1\" class=\"dataframe\">\n",
       "  <thead>\n",
       "    <tr style=\"text-align: right;\">\n",
       "      <th></th>\n",
       "      <th>Dimension 0</th>\n",
       "      <th>Dimension 1</th>\n",
       "      <th>Dimension 2</th>\n",
       "      <th>Dimension 3</th>\n",
       "      <th>Dimension 4</th>\n",
       "      <th>Dimension 5</th>\n",
       "      <th>Dimension 6</th>\n",
       "      <th>Dimension 7</th>\n",
       "      <th>Dimension 8</th>\n",
       "      <th>Dimension 9</th>\n",
       "      <th>...</th>\n",
       "      <th>Dimension 20</th>\n",
       "      <th>Dimension 21</th>\n",
       "      <th>Dimension 22</th>\n",
       "      <th>Dimension 23</th>\n",
       "      <th>Dimension 24</th>\n",
       "      <th>Dimension 25</th>\n",
       "      <th>Dimension 26</th>\n",
       "      <th>Dimension 27</th>\n",
       "      <th>Dimension 28</th>\n",
       "      <th>Dimension 29</th>\n",
       "    </tr>\n",
       "  </thead>\n",
       "  <tbody>\n",
       "    <tr>\n",
       "      <th>0</th>\n",
       "      <td>0.046368</td>\n",
       "      <td>0.786888</td>\n",
       "      <td>-0.231216</td>\n",
       "      <td>4.598301</td>\n",
       "      <td>-0.136285</td>\n",
       "      <td>-0.075529</td>\n",
       "      <td>0.118595</td>\n",
       "      <td>0.139840</td>\n",
       "      <td>0.878148</td>\n",
       "      <td>-0.123236</td>\n",
       "      <td>...</td>\n",
       "      <td>0.069740</td>\n",
       "      <td>-0.042303</td>\n",
       "      <td>-0.149248</td>\n",
       "      <td>0.483637</td>\n",
       "      <td>0.506710</td>\n",
       "      <td>-0.046629</td>\n",
       "      <td>0.178113</td>\n",
       "      <td>-0.203427</td>\n",
       "      <td>-0.064847</td>\n",
       "      <td>-0.044465</td>\n",
       "    </tr>\n",
       "    <tr>\n",
       "      <th>1</th>\n",
       "      <td>-0.322102</td>\n",
       "      <td>0.156673</td>\n",
       "      <td>-0.120399</td>\n",
       "      <td>-0.137727</td>\n",
       "      <td>0.020624</td>\n",
       "      <td>-0.084764</td>\n",
       "      <td>0.064322</td>\n",
       "      <td>-0.039915</td>\n",
       "      <td>-0.026245</td>\n",
       "      <td>-0.013298</td>\n",
       "      <td>...</td>\n",
       "      <td>0.081741</td>\n",
       "      <td>-0.026192</td>\n",
       "      <td>-0.040306</td>\n",
       "      <td>0.105587</td>\n",
       "      <td>0.017631</td>\n",
       "      <td>-0.095319</td>\n",
       "      <td>0.004551</td>\n",
       "      <td>0.093276</td>\n",
       "      <td>0.085279</td>\n",
       "      <td>0.069063</td>\n",
       "    </tr>\n",
       "    <tr>\n",
       "      <th>2</th>\n",
       "      <td>-0.338625</td>\n",
       "      <td>0.148377</td>\n",
       "      <td>-0.077649</td>\n",
       "      <td>-0.134405</td>\n",
       "      <td>0.047846</td>\n",
       "      <td>-0.182347</td>\n",
       "      <td>-0.007667</td>\n",
       "      <td>-0.045173</td>\n",
       "      <td>-0.059510</td>\n",
       "      <td>-0.050704</td>\n",
       "      <td>...</td>\n",
       "      <td>0.042242</td>\n",
       "      <td>-0.003162</td>\n",
       "      <td>-0.060399</td>\n",
       "      <td>-0.026337</td>\n",
       "      <td>0.048483</td>\n",
       "      <td>0.003257</td>\n",
       "      <td>-0.031907</td>\n",
       "      <td>0.128212</td>\n",
       "      <td>0.051673</td>\n",
       "      <td>-0.008626</td>\n",
       "    </tr>\n",
       "    <tr>\n",
       "      <th>3</th>\n",
       "      <td>0.028331</td>\n",
       "      <td>0.476897</td>\n",
       "      <td>-0.257952</td>\n",
       "      <td>-0.074680</td>\n",
       "      <td>-0.051795</td>\n",
       "      <td>-0.500693</td>\n",
       "      <td>-0.159460</td>\n",
       "      <td>0.087375</td>\n",
       "      <td>0.088301</td>\n",
       "      <td>0.201072</td>\n",
       "      <td>...</td>\n",
       "      <td>-0.747967</td>\n",
       "      <td>-0.062795</td>\n",
       "      <td>0.133393</td>\n",
       "      <td>-0.001448</td>\n",
       "      <td>0.014829</td>\n",
       "      <td>0.220493</td>\n",
       "      <td>0.517379</td>\n",
       "      <td>0.032667</td>\n",
       "      <td>-0.001708</td>\n",
       "      <td>-0.101146</td>\n",
       "    </tr>\n",
       "    <tr>\n",
       "      <th>4</th>\n",
       "      <td>-0.334127</td>\n",
       "      <td>0.142917</td>\n",
       "      <td>-0.038638</td>\n",
       "      <td>-0.115698</td>\n",
       "      <td>0.092089</td>\n",
       "      <td>-0.206111</td>\n",
       "      <td>-0.057320</td>\n",
       "      <td>-0.052802</td>\n",
       "      <td>-0.084854</td>\n",
       "      <td>0.044623</td>\n",
       "      <td>...</td>\n",
       "      <td>0.323982</td>\n",
       "      <td>0.094643</td>\n",
       "      <td>0.045124</td>\n",
       "      <td>-0.352466</td>\n",
       "      <td>0.053035</td>\n",
       "      <td>0.127221</td>\n",
       "      <td>0.009173</td>\n",
       "      <td>-0.003378</td>\n",
       "      <td>-0.082074</td>\n",
       "      <td>-0.049718</td>\n",
       "    </tr>\n",
       "    <tr>\n",
       "      <th>5</th>\n",
       "      <td>-0.117623</td>\n",
       "      <td>0.377637</td>\n",
       "      <td>-0.194716</td>\n",
       "      <td>-0.184875</td>\n",
       "      <td>-0.087093</td>\n",
       "      <td>0.403258</td>\n",
       "      <td>-0.572386</td>\n",
       "      <td>-0.026354</td>\n",
       "      <td>-0.118713</td>\n",
       "      <td>0.003709</td>\n",
       "      <td>...</td>\n",
       "      <td>-0.039017</td>\n",
       "      <td>0.068865</td>\n",
       "      <td>0.763764</td>\n",
       "      <td>0.131357</td>\n",
       "      <td>0.248175</td>\n",
       "      <td>-0.308051</td>\n",
       "      <td>-0.121162</td>\n",
       "      <td>-0.017199</td>\n",
       "      <td>0.072447</td>\n",
       "      <td>-0.210354</td>\n",
       "    </tr>\n",
       "    <tr>\n",
       "      <th>6</th>\n",
       "      <td>-0.290270</td>\n",
       "      <td>0.184811</td>\n",
       "      <td>-0.132351</td>\n",
       "      <td>-0.052202</td>\n",
       "      <td>0.031169</td>\n",
       "      <td>-0.245061</td>\n",
       "      <td>-0.009563</td>\n",
       "      <td>-0.005548</td>\n",
       "      <td>0.119785</td>\n",
       "      <td>-0.069459</td>\n",
       "      <td>...</td>\n",
       "      <td>0.066595</td>\n",
       "      <td>0.025792</td>\n",
       "      <td>0.001381</td>\n",
       "      <td>0.045633</td>\n",
       "      <td>-0.024132</td>\n",
       "      <td>-0.035450</td>\n",
       "      <td>-0.063264</td>\n",
       "      <td>-0.014280</td>\n",
       "      <td>0.008729</td>\n",
       "      <td>-0.046865</td>\n",
       "    </tr>\n",
       "    <tr>\n",
       "      <th>7</th>\n",
       "      <td>-0.337188</td>\n",
       "      <td>0.125138</td>\n",
       "      <td>-0.093541</td>\n",
       "      <td>-0.127864</td>\n",
       "      <td>0.071954</td>\n",
       "      <td>-0.205098</td>\n",
       "      <td>-0.012350</td>\n",
       "      <td>-0.043688</td>\n",
       "      <td>-0.061082</td>\n",
       "      <td>-0.047946</td>\n",
       "      <td>...</td>\n",
       "      <td>0.012575</td>\n",
       "      <td>0.034621</td>\n",
       "      <td>-0.000917</td>\n",
       "      <td>-0.060980</td>\n",
       "      <td>0.033476</td>\n",
       "      <td>-0.000603</td>\n",
       "      <td>-0.029864</td>\n",
       "      <td>0.008386</td>\n",
       "      <td>-0.025273</td>\n",
       "      <td>-0.008386</td>\n",
       "    </tr>\n",
       "    <tr>\n",
       "      <th>8</th>\n",
       "      <td>-0.339927</td>\n",
       "      <td>0.158331</td>\n",
       "      <td>-0.108719</td>\n",
       "      <td>0.250199</td>\n",
       "      <td>0.048929</td>\n",
       "      <td>-0.181107</td>\n",
       "      <td>0.006551</td>\n",
       "      <td>-0.067565</td>\n",
       "      <td>-0.150016</td>\n",
       "      <td>-0.059046</td>\n",
       "      <td>...</td>\n",
       "      <td>0.091440</td>\n",
       "      <td>0.018461</td>\n",
       "      <td>0.045694</td>\n",
       "      <td>-0.075352</td>\n",
       "      <td>-0.108523</td>\n",
       "      <td>-0.029620</td>\n",
       "      <td>-0.007448</td>\n",
       "      <td>-0.014940</td>\n",
       "      <td>0.006914</td>\n",
       "      <td>0.037729</td>\n",
       "    </tr>\n",
       "    <tr>\n",
       "      <th>9</th>\n",
       "      <td>-0.331822</td>\n",
       "      <td>0.138421</td>\n",
       "      <td>0.044811</td>\n",
       "      <td>-0.137309</td>\n",
       "      <td>0.061707</td>\n",
       "      <td>-0.173676</td>\n",
       "      <td>-0.012732</td>\n",
       "      <td>-0.031304</td>\n",
       "      <td>-0.081576</td>\n",
       "      <td>0.055454</td>\n",
       "      <td>...</td>\n",
       "      <td>-0.055699</td>\n",
       "      <td>0.146798</td>\n",
       "      <td>-0.055632</td>\n",
       "      <td>-0.765462</td>\n",
       "      <td>0.486719</td>\n",
       "      <td>0.266821</td>\n",
       "      <td>-0.077770</td>\n",
       "      <td>0.017070</td>\n",
       "      <td>-0.160000</td>\n",
       "      <td>-0.206387</td>\n",
       "    </tr>\n",
       "  </tbody>\n",
       "</table>\n",
       "<p>10 rows × 30 columns</p>\n",
       "</div>"
      ],
      "text/plain": [
       "   Dimension 0  Dimension 1  Dimension 2  Dimension 3  Dimension 4  \\\n",
       "0     0.046368     0.786888    -0.231216     4.598301    -0.136285   \n",
       "1    -0.322102     0.156673    -0.120399    -0.137727     0.020624   \n",
       "2    -0.338625     0.148377    -0.077649    -0.134405     0.047846   \n",
       "3     0.028331     0.476897    -0.257952    -0.074680    -0.051795   \n",
       "4    -0.334127     0.142917    -0.038638    -0.115698     0.092089   \n",
       "5    -0.117623     0.377637    -0.194716    -0.184875    -0.087093   \n",
       "6    -0.290270     0.184811    -0.132351    -0.052202     0.031169   \n",
       "7    -0.337188     0.125138    -0.093541    -0.127864     0.071954   \n",
       "8    -0.339927     0.158331    -0.108719     0.250199     0.048929   \n",
       "9    -0.331822     0.138421     0.044811    -0.137309     0.061707   \n",
       "\n",
       "   Dimension 5  Dimension 6  Dimension 7  Dimension 8  Dimension 9  \\\n",
       "0    -0.075529     0.118595     0.139840     0.878148    -0.123236   \n",
       "1    -0.084764     0.064322    -0.039915    -0.026245    -0.013298   \n",
       "2    -0.182347    -0.007667    -0.045173    -0.059510    -0.050704   \n",
       "3    -0.500693    -0.159460     0.087375     0.088301     0.201072   \n",
       "4    -0.206111    -0.057320    -0.052802    -0.084854     0.044623   \n",
       "5     0.403258    -0.572386    -0.026354    -0.118713     0.003709   \n",
       "6    -0.245061    -0.009563    -0.005548     0.119785    -0.069459   \n",
       "7    -0.205098    -0.012350    -0.043688    -0.061082    -0.047946   \n",
       "8    -0.181107     0.006551    -0.067565    -0.150016    -0.059046   \n",
       "9    -0.173676    -0.012732    -0.031304    -0.081576     0.055454   \n",
       "\n",
       "       ...       Dimension 20  Dimension 21  Dimension 22  Dimension 23  \\\n",
       "0      ...           0.069740     -0.042303     -0.149248      0.483637   \n",
       "1      ...           0.081741     -0.026192     -0.040306      0.105587   \n",
       "2      ...           0.042242     -0.003162     -0.060399     -0.026337   \n",
       "3      ...          -0.747967     -0.062795      0.133393     -0.001448   \n",
       "4      ...           0.323982      0.094643      0.045124     -0.352466   \n",
       "5      ...          -0.039017      0.068865      0.763764      0.131357   \n",
       "6      ...           0.066595      0.025792      0.001381      0.045633   \n",
       "7      ...           0.012575      0.034621     -0.000917     -0.060980   \n",
       "8      ...           0.091440      0.018461      0.045694     -0.075352   \n",
       "9      ...          -0.055699      0.146798     -0.055632     -0.765462   \n",
       "\n",
       "   Dimension 24  Dimension 25  Dimension 26  Dimension 27  Dimension 28  \\\n",
       "0      0.506710     -0.046629      0.178113     -0.203427     -0.064847   \n",
       "1      0.017631     -0.095319      0.004551      0.093276      0.085279   \n",
       "2      0.048483      0.003257     -0.031907      0.128212      0.051673   \n",
       "3      0.014829      0.220493      0.517379      0.032667     -0.001708   \n",
       "4      0.053035      0.127221      0.009173     -0.003378     -0.082074   \n",
       "5      0.248175     -0.308051     -0.121162     -0.017199      0.072447   \n",
       "6     -0.024132     -0.035450     -0.063264     -0.014280      0.008729   \n",
       "7      0.033476     -0.000603     -0.029864      0.008386     -0.025273   \n",
       "8     -0.108523     -0.029620     -0.007448     -0.014940      0.006914   \n",
       "9      0.486719      0.266821     -0.077770      0.017070     -0.160000   \n",
       "\n",
       "   Dimension 29  \n",
       "0     -0.044465  \n",
       "1      0.069063  \n",
       "2     -0.008626  \n",
       "3     -0.101146  \n",
       "4     -0.049718  \n",
       "5     -0.210354  \n",
       "6     -0.046865  \n",
       "7     -0.008386  \n",
       "8      0.037729  \n",
       "9     -0.206387  \n",
       "\n",
       "[10 rows x 30 columns]"
      ]
     },
     "metadata": {},
     "output_type": "display_data"
    }
   ],
   "source": [
    "# Exiba a amostra de log-data depois de aplicada a transformação da PCA em duas dimensões\n",
    "display(reduced_data[0:10])"
   ]
  },
  {
   "cell_type": "markdown",
   "metadata": {},
   "source": [
    "## Clustering\n",
    "\n",
    "Nesta seção, os dados serão clusterizados para que sejam definidos grupos com comportamentos em comum. Será utilizado o algoritmo de clustering K-Means. "
   ]
  },
  {
   "cell_type": "code",
   "execution_count": 20,
   "metadata": {},
   "outputs": [],
   "source": [
    "from sklearn.cluster import KMeans\n",
    "from sklearn.metrics import silhouette_score\n",
    "\n",
    "def make_clusterer(data, number_of_clusters): #função que cria um clusterer e o retorna treinado\n",
    "    \n",
    "    clusterer_test = KMeans(n_clusters=number_of_clusters) #Algorítimo de clusters escolhido: KMeans\n",
    "    clusterer_test.fit(data)\n",
    "    return clusterer_test\n",
    "\n",
    "# Clusterizando os dados reduzidos em 30 clusters\n",
    "clusterer = make_clusterer(reduced_data, 30) \n",
    "        \n",
    "# Prevendo o cluster para cada ponto de dado\n",
    "preds = clusterer.predict(reduced_data)"
   ]
  },
  {
   "cell_type": "markdown",
   "metadata": {},
   "source": [
    "### Visualização de Cluster\n",
    "Os dados foram clusterizados com 30 dimensões, portanto não há como plotar um gráfico de dispersão com 30 dimensões. Uma forma de se ter uma idéia de como os pontos estão distribuídos entre os segmentos é um gráfico de barras em que cada barra representa a frequência dos pontos para cada segmento.\n",
    "\n",
    "Como a frequência entre os segmentos tem valores discrepantes umas das outras, para melhor visualização do gráfico será utilizada uma escala logarítimica."
   ]
  },
  {
   "cell_type": "code",
   "execution_count": 170,
   "metadata": {},
   "outputs": [],
   "source": [
    "def plot_bar_graph(dados, labels, cor=\"blue\", x_label = \" \", y_label = \" \", title = \" \"): #função que traça o gráfico de barra\n",
    "    import matplotlib.pyplot as plt\n",
    "    width = 1/1.5\n",
    "    plt.xlabel(x_label)\n",
    "    plt.ylabel(y_label)\n",
    "    plt.title(title)\n",
    "    plt.grid(True)\n",
    "    plt.bar(labels, dados, width, color=cor)\n",
    "    return None"
   ]
  },
  {
   "cell_type": "code",
   "execution_count": 175,
   "metadata": {},
   "outputs": [
    {
     "data": {
      "image/png": "[encoded data removed]",
      "text/plain": [
       "<matplotlib.figure.Figure at 0xc69cc50>"
      ]
     },
     "metadata": {},
     "output_type": "display_data"
    }
   ],
   "source": [
    "labels = clusterer.labels_\n",
    "x_labels =  np.arange(0, (1+labels.max()))\n",
    "freq_labels = np.bincount(labels)\n",
    "log_freq = np.log(freq_labels)\n",
    "plot_bar_graph(log_freq, x_labels, x_label = \"Seguimento\", y_label = \"log(frequencia de amostras)\", title = \"Distribuicao das amostras nos seguimentos\")"
   ]
  },
  {
   "cell_type": "code",
   "execution_count": 172,
   "metadata": {},
   "outputs": [
    {
     "name": "stdout",
     "output_type": "stream",
     "text": [
      "[ 0  1  2  3  4  5  6  7  8  9 10 11 12 13 14 15 16 17 18 19 20 21 22 23 24\n",
      " 25 26 27 28]\n"
     ]
    }
   ],
   "source": [
    "print np.arange(0, labels.max())"
   ]
  },
  {
   "cell_type": "markdown",
   "metadata": {},
   "source": [
    "### Análise dos segmentos obtidos\n",
    "O gráfico acima representa trinta padrões de comportamentos de veículos durante dois dias. A partir desse ponto, pode-se usar os segmentos para verificar veículos que se comportam de forma parecida. \n",
    "\n",
    "Um segundo conjunto de dados contém veículos com restrições de envolvimento em crimes, como roubo/furto, clonados e proprietários com passagem na polícia. Esse segundo conjunto de dados são dos dias 21 e 22 de setembro de 2017, também uma Quinta e Sexta-feria, porém em dias diferentes do primeiro conjunto de dados. "
   ]
  },
  {
   "cell_type": "code",
   "execution_count": 242,
   "metadata": {},
   "outputs": [
    {
     "name": "stdout",
     "output_type": "stream",
     "text": [
      "Base de dados contém 2455346 passagens com 3 características cada.\n"
     ]
    }
   ],
   "source": [
    "try:\n",
    "    data_csv2 = pd.read_csv(\"veiculos_restricao_21e22set_trans.csv\")\n",
    "    \n",
    "    print \"Base de dados contém {} passagens com {} características cada.\".format(*data_csv.shape)\n",
    "except:\n",
    "    print \"Dataset could not be loaded. Is the dataset missing??\""
   ]
  },
  {
   "cell_type": "code",
   "execution_count": 24,
   "metadata": {},
   "outputs": [
    {
     "name": "stdout",
     "output_type": "stream",
     "text": [
      "Index([u'Unnamed: 0', u'placa', u'codocorrencia', u'loc_latitude',\n",
      "       u'loc_longitude', u'count'],\n",
      "      dtype='object')\n"
     ]
    }
   ],
   "source": [
    "print data_csv2.columns"
   ]
  },
  {
   "cell_type": "code",
   "execution_count": 25,
   "metadata": {},
   "outputs": [
    {
     "name": "stdout",
     "output_type": "stream",
     "text": [
      "Foram encontrados 2377 veículos passando por 198 pontos.\n"
     ]
    }
   ],
   "source": [
    "data_csv2['local'] = data_csv2['loc_latitude'].map(str) + \" \" + data_csv2['loc_longitude'].map(str) #cria coluna concatenando latitude e longitude\n",
    "data_csv2.drop(['loc_latitude', 'loc_longitude'], axis = 1, inplace = True)\n",
    "lista_veiculos = set(data_csv2['placa'])\n",
    "lista_locais = set(data_csv2['local'])\n",
    "print \"Foram encontrados {} veículos passando por {} pontos.\" .format(len(lista_veiculos), len(lista_locais))"
   ]
  },
  {
   "cell_type": "code",
   "execution_count": 26,
   "metadata": {
    "collapsed": true,
    "scrolled": true
   },
   "outputs": [],
   "source": [
    "#Criação de tabela prévia para receber os dados de veículos por locais\n",
    "data_restricao_prev = create_df_placaporpontos(data_csv2, 'placa', 'local')"
   ]
  },
  {
   "cell_type": "code",
   "execution_count": 27,
   "metadata": {
    "collapsed": true
   },
   "outputs": [],
   "source": [
    "#Cria nova tabela data_restricao, indexa pela placa e colunas igual às dos dados de veículos geral, \n",
    "#é somada a data_restricao_prev\n",
    "\n",
    "data_restricao = pd.DataFrame(index = data_restricao_prev.index, columns = data.columns) \n",
    "data_restricao.fillna(0, inplace = True)\n",
    "data_restricao = data_restricao.add(data_restricao_prev, fill_value = 0)"
   ]
  },
  {
   "cell_type": "markdown",
   "metadata": {},
   "source": [
    "Este segundo conjunto de dados contem 198 pontos de controle de veículo, porém para comparar a rota desses veículos com os padrões ja definidos anteriormente, serão considerados somente os 135 pontos de controle utilizados antecoriormente.\n",
    "\n",
    "O bloco abaixo faz esse ajuste de características."
   ]
  },
  {
   "cell_type": "code",
   "execution_count": 28,
   "metadata": {},
   "outputs": [
    {
     "name": "stdout",
     "output_type": "stream",
     "text": [
      "(3802, 135)\n"
     ]
    }
   ],
   "source": [
    "data_restricao_locais_treinados = pd.DataFrame()\n",
    "lista_locais_treinados = set(data_csv['local'])\n",
    "for loc in lista_locais_treinados:\n",
    "    data_restricao_locais_treinados[loc] = data_restricao[loc]\n",
    "data_restricao_locais_treinados.fillna(0, inplace = True)\n",
    "print data_restricao_locais_treinados.shape"
   ]
  },
  {
   "cell_type": "markdown",
   "metadata": {},
   "source": [
    "Transformando as dimensões de data_restrição_locais_treinados nas dimensões PCA"
   ]
  },
  {
   "cell_type": "code",
   "execution_count": 68,
   "metadata": {},
   "outputs": [
    {
     "name": "stdout",
     "output_type": "stream",
     "text": [
      "[2 2 2 ..., 2 2 2]\n",
      "[   2    0 3589    0    0    0    0    0    0    0    3    3    5    1   11\n",
      "    2    0    3    1   84   40    0    0    3   39    0    0    6   10]\n"
     ]
    },
    {
     "name": "stderr",
     "output_type": "stream",
     "text": [
      "C:\\ProgramData\\Anaconda2\\lib\\site-packages\\ipykernel_launcher.py:7: RuntimeWarning: divide by zero encountered in log\n",
      "  import sys\n"
     ]
    }
   ],
   "source": [
    "data_restricao_pca = pca.transform(data_restricao_locais_treinados) #aplica PCA\n",
    "data_restricao_pca = pd.DataFrame(data_restricao_pca, columns = pca_dimensions) #coloca os dados em um DataFrame\n",
    "data_restricao_pred = clusterer.predict(data_restricao_pca) #predição dos dados nos clusteres treinados\n",
    "print data_restricao_pred\n",
    "freq_restricao = np.bincount(data_restricao_pred) #distribuição de frequência de cada cluster para veículos com restrição\n",
    "print freq_restricao\n",
    "log_freq_restricao = np.log(freq_restricao)"
   ]
  },
  {
   "cell_type": "markdown",
   "metadata": {},
   "source": [
    "### Comparando os dados\n",
    "Agora que os veículos com restrição foram divididos nos seguimentos de veículos calculados anteriormente, será verificado como eles se distribuem nos seguimentos.\n",
    "Em azul será plotado os veículos em geral, em vermelho os veículos com restrição. É importante lembrar que a escala utilizada com o gráfico não é decimal, e sim logarítimica."
   ]
  },
  {
   "cell_type": "code",
   "execution_count": 205,
   "metadata": {
    "collapsed": true
   },
   "outputs": [],
   "source": [
    "def plot_thwo_bars_graph(a, b, x_label = \"\", y_label = \"\", title = \"\"):\n",
    "    import numpy as np\n",
    "    import matplotlib.pyplot as plt\n",
    "\n",
    "    x_a = range(len(a))\n",
    "    x_b = range(len(b))\n",
    "    width = 1/1.5\n",
    "    fig, ax = plt.subplots()\n",
    "    rect_a = ax.bar(x_a, a, width, color='b')\n",
    "    rect_b = ax.bar(x_b, b, width, color='r')\n",
    "    plt.grid(True)\n",
    "    plt.xlabel(x_label)\n",
    "    plt.ylabel(y_label)\n",
    "    plt.title(title)\n",
    "    plt.show()\n",
    "    return None"
   ]
  },
  {
   "cell_type": "code",
   "execution_count": 207,
   "metadata": {},
   "outputs": [
    {
     "data": {
      "image/png": "[encoded data removed]",
      "text/plain": [
       "<matplotlib.figure.Figure at 0x126c08d0>"
      ]
     },
     "metadata": {},
     "output_type": "display_data"
    }
   ],
   "source": [
    "plot_thwo_bars_graph(log_freq, log_freq_restricao, title = \"Comparativo veiculos geral e veiculos com restricao por seguimento\", y_label = \"log\", x_label = \"Seguimentos\")"
   ]
  },
  {
   "cell_type": "code",
   "execution_count": 69,
   "metadata": {},
   "outputs": [
    {
     "name": "stdout",
     "output_type": "stream",
     "text": [
      "(29L,)\n",
      "(30L,)\n"
     ]
    }
   ],
   "source": [
    "# verificando o tamanho de cada array\n",
    "print freq_restricao.shape\n",
    "print freq_labels.shape"
   ]
  },
  {
   "cell_type": "markdown",
   "metadata": {},
   "source": [
    "### Calculando a taxa de veículos com restrição em cada seguimento\n",
    "\n",
    "Será calculado a porcentagem da frequência dos veículos com restrição com relação aos veículos gerais.\n",
    "\n",
    "O array freq_restricao tem uma unidade a menos porque não foi classificado nenhum veículo no último seguimento, para que seja calculada a taxa será acrecentado um zero na sua última posição."
   ]
  },
  {
   "cell_type": "code",
   "execution_count": 74,
   "metadata": {},
   "outputs": [],
   "source": [
    "a = freq_labels.shape[0]-freq_restricao.shape[0]\n",
    "freq_restricao = np.append(freq_restricao, np.zeros(a))"
   ]
  },
  {
   "cell_type": "code",
   "execution_count": 75,
   "metadata": {},
   "outputs": [],
   "source": [
    "x=freq_restricao.astype(float)\n",
    "restricao_ratio=np.divide(x,freq_labels)"
   ]
  },
  {
   "cell_type": "code",
   "execution_count": 178,
   "metadata": {},
   "outputs": [
    {
     "data": {
      "image/png": "[encoded data removed]",
      "text/plain": [
       "<matplotlib.figure.Figure at 0x14b91f60>"
      ]
     },
     "metadata": {},
     "output_type": "display_data"
    }
   ],
   "source": [
    "plot_bar_graph(restricao_ratio, x_labels, cor='red', x_label = \"Seguimentos\", y_label = \"\", title = \"Taxa de veiculos com restricao em cada seguimento\")"
   ]
  },
  {
   "cell_type": "code",
   "execution_count": 77,
   "metadata": {},
   "outputs": [
    {
     "data": {
      "text/plain": [
       "0.010128547037491709"
      ]
     },
     "execution_count": 77,
     "metadata": {},
     "output_type": "execute_result"
    }
   ],
   "source": [
    "np.max(restricao_ratio)"
   ]
  },
  {
   "cell_type": "code",
   "execution_count": 215,
   "metadata": {},
   "outputs": [],
   "source": [
    "def find_best_number_of_clusters(data, data_target, range_of_clusters):\n",
    "    \n",
    "    max_ratio_per_n_cluster = pd.DataFrame(index=range_of_clusters, columns = ['max_ratio'])\n",
    "    max_ratio = 0\n",
    "\n",
    "    for test_n_cluster in range_of_clusters:\n",
    "        clusterer = make_clusterer(data, test_n_cluster) #clusterização\n",
    "        labels = clusterer.labels_\n",
    "        freq_labels = np.bincount(labels)\n",
    "        \n",
    "        data_target_pred = clusterer.predict(data_target) #predição dos dados alvo nos clusteres treinados\n",
    "        freq_target = np.bincount(data_target_pred) #distribuição de frequência por clusters dos dados alvo\n",
    "        \n",
    "        a = freq_labels.shape[0]-freq_target.shape[0]\n",
    "        freq_target = np.append(freq_target, np.zeros(a))\n",
    "        \n",
    "        x=freq_target.astype(float)\n",
    "        target_ratio=np.divide(x,freq_labels)\n",
    "        \n",
    "        max_ratio_per_n_cluster['max_ratio'].loc[test_n_cluster] = np.max(target_ratio)\n",
    "        if max_ratio < max_ratio_per_n_cluster['max_ratio'].loc[test_n_cluster]:\n",
    "            best_clusterer = clusterer\n",
    "            max_ratio = max_ratio_per_n_cluster['max_ratio'].loc[test_n_cluster]\n",
    "    \n",
    "    return (max_ratio_per_n_cluster, best_clusterer)"
   ]
  },
  {
   "cell_type": "code",
   "execution_count": 108,
   "metadata": {},
   "outputs": [],
   "source": [
    "range_of_clusters = np.arange(9,41)\n",
    "max_ratio_per_n_cluster = find_best_number_of_clusters(reduced_data, data_restricao_pca, range_of_clusters)"
   ]
  },
  {
   "cell_type": "code",
   "execution_count": 209,
   "metadata": {},
   "outputs": [
    {
     "name": "stdout",
     "output_type": "stream",
     "text": [
      "Melhor ajuste encontrado foi com 38 clusters, que atingiu uma taxa maxima de 0.0109.\n"
     ]
    },
    {
     "data": {
      "image/png": "[encoded data removed]",
      "text/plain": [
       "<matplotlib.figure.Figure at 0x3c006358>"
      ]
     },
     "metadata": {},
     "output_type": "display_data"
    }
   ],
   "source": [
    "plot_bar_graph(max_ratio_per_n_cluster['max_ratio'], range_of_clusters, cor='green', x_label = \"numero de clusters\", y_label = \"taxa maxima\", title = \"Maxima razao por numero de clusters\")\n",
    "best_n_cluster = max_ratio_per_n_cluster['max_ratio'].idxmax()\n",
    "print \"Melhor ajuste encontrado foi com {} clusters, que atingiu uma taxa maxima de {:.4f}.\" .format(best_n_cluster, max_ratio_per_n_cluster['max_ratio'].loc[best_n_cluster])"
   ]
  },
  {
   "cell_type": "code",
   "execution_count": 112,
   "metadata": {
    "collapsed": true
   },
   "outputs": [],
   "source": [
    "range_of_clusters2 = np.arange(40,81)\n",
    "max_ratio_per_n_cluster2 = find_best_number_of_clusters(reduced_data, data_restricao_pca, range_of_clusters2)"
   ]
  },
  {
   "cell_type": "code",
   "execution_count": 210,
   "metadata": {},
   "outputs": [
    {
     "name": "stdout",
     "output_type": "stream",
     "text": [
      "Melhor ajuste encontrado foi com 74 clusters, que atingiu uma taxa maxima de 0.0135.\n"
     ]
    },
    {
     "data": {
      "image/png": "[encoded data removed]",
      "text/plain": [
       "<matplotlib.figure.Figure at 0x167e6be0>"
      ]
     },
     "metadata": {},
     "output_type": "display_data"
    }
   ],
   "source": [
    "plot_bar_graph(max_ratio_per_n_cluster2['max_ratio'], range_of_clusters2, cor='green', x_label = \"numero de clusters\", y_label = \"taxa maxima\", title = \"Maxima razao por numero de clusters\")\n",
    "best_n_cluster = max_ratio_per_n_cluster2['max_ratio'].idxmax()\n",
    "print \"Melhor ajuste encontrado foi com {} clusters, que atingiu uma taxa maxima de {:.4f}.\" .format(best_n_cluster, max_ratio_per_n_cluster2['max_ratio'].loc[best_n_cluster])"
   ]
  },
  {
   "cell_type": "code",
   "execution_count": 220,
   "metadata": {
    "collapsed": true
   },
   "outputs": [],
   "source": [
    "range_of_clusters4 = np.arange(100,111)\n",
    "(max_ratio_per_n_cluster4, best_clusterer) = find_best_number_of_clusters(reduced_data, data_restricao_pca, range_of_clusters4)"
   ]
  },
  {
   "cell_type": "code",
   "execution_count": 221,
   "metadata": {},
   "outputs": [
    {
     "name": "stdout",
     "output_type": "stream",
     "text": [
      "Melhor ajuste encontrado foi com 101 clusters, que atingiu uma taxa maxima de 0.0312.\n"
     ]
    },
    {
     "data": {
      "image/png": "[encoded data removed]",
      "text/plain": [
       "<matplotlib.figure.Figure at 0x121675c0>"
      ]
     },
     "metadata": {},
     "output_type": "display_data"
    }
   ],
   "source": [
    "plot_bar_graph(max_ratio_per_n_cluster4['max_ratio'], range_of_clusters4, cor='green', x_label = \"numero de clusters\", y_label = \"razao maxima\", title = \"Maxima razao por numero de clusters\")\n",
    "best_n_cluster = max_ratio_per_n_cluster4['max_ratio'].idxmax()\n",
    "print \"Melhor ajuste encontrado foi com {} clusters, que atingiu uma taxa maxima de {:.4f}.\" .format(best_n_cluster, max_ratio_per_n_cluster4['max_ratio'].loc[best_n_cluster])"
   ]
  },
  {
   "cell_type": "code",
   "execution_count": 119,
   "metadata": {
    "collapsed": true
   },
   "outputs": [],
   "source": [
    "range_of_clusters3 = np.arange(111,121)\n",
    "max_ratio_per_n_cluster3 = find_best_number_of_clusters(reduced_data, data_restricao_pca, range_of_clusters3)"
   ]
  },
  {
   "cell_type": "code",
   "execution_count": 213,
   "metadata": {},
   "outputs": [
    {
     "name": "stdout",
     "output_type": "stream",
     "text": [
      "Melhor ajuste encontrado foi com 119 clusters, que atingiu uma taxa maxima de 0.0323.\n"
     ]
    },
    {
     "data": {
      "image/png": "[encoded data removed]",
      "text/plain": [
       "<matplotlib.figure.Figure at 0x16d81cf8>"
      ]
     },
     "metadata": {},
     "output_type": "display_data"
    }
   ],
   "source": [
    "plot_bar_graph(max_ratio_per_n_cluster3['max_ratio'], range_of_clusters3, cor='green', x_label = \"numero de clusters\", y_label = \"razao maxima\", title = \"Maxima razao por numero de clusters\")\n",
    "best_n_cluster = max_ratio_per_n_cluster3['max_ratio'].idxmax()\n",
    "print \"Melhor ajuste encontrado foi com {} clusters, que atingiu uma taxa maxima de {:.4f}.\" .format(best_n_cluster, max_ratio_per_n_cluster3['max_ratio'].loc[best_n_cluster])"
   ]
  },
  {
   "cell_type": "code",
   "execution_count": 223,
   "metadata": {
    "collapsed": true
   },
   "outputs": [],
   "source": [
    "range_of_clusters5 = np.arange(121,131)\n",
    "(max_ratio_per_n_cluster5, best_clusterer5) = find_best_number_of_clusters(reduced_data, data_restricao_pca, range_of_clusters5)"
   ]
  },
  {
   "cell_type": "code",
   "execution_count": 224,
   "metadata": {},
   "outputs": [
    {
     "name": "stdout",
     "output_type": "stream",
     "text": [
      "Melhor ajuste encontrado foi com 128 clusters, que atingiu uma taxa maxima de 0.0357.\n"
     ]
    },
    {
     "data": {
      "image/png": "[encoded data removed]",
      "text/plain": [
       "<matplotlib.figure.Figure at 0x12167588>"
      ]
     },
     "metadata": {},
     "output_type": "display_data"
    }
   ],
   "source": [
    "plot_bar_graph(max_ratio_per_n_cluster5['max_ratio'], range_of_clusters5, cor='green', x_label = \"numero de clusters\", y_label = \"razao maxima\", title = \"Maxima razao por numero de clusters\")\n",
    "best_n_cluster = max_ratio_per_n_cluster5['max_ratio'].idxmax()\n",
    "print \"Melhor ajuste encontrado foi com {} clusters, que atingiu uma taxa maxima de {:.4f}.\" .format(best_n_cluster, max_ratio_per_n_cluster5['max_ratio'].loc[best_n_cluster])"
   ]
  },
  {
   "cell_type": "code",
   "execution_count": 272,
   "metadata": {
    "scrolled": true
   },
   "outputs": [
    {
     "name": "stderr",
     "output_type": "stream",
     "text": [
      "C:\\ProgramData\\Anaconda2\\lib\\site-packages\\ipykernel_launcher.py:14: RuntimeWarning: divide by zero encountered in log\n",
      "  \n"
     ]
    },
    {
     "data": {
      "image/png": "[encoded data removed]",
      "text/plain": [
       "<matplotlib.figure.Figure at 0xc964f28>"
      ]
     },
     "metadata": {},
     "output_type": "display_data"
    }
   ],
   "source": [
    "#Melhor clusterer: best_clusterer\n",
    "best_labels = best_clusterer5.labels_\n",
    "best_freq_labels = np.bincount(best_labels)\n",
    "        \n",
    "best_data_restricao_pred = best_clusterer5.predict(data_restricao_pca) #predição dos dados alvo nos clusteres treinados\n",
    "best_freq_restricao = np.bincount(best_data_restricao_pred) #distribuição de frequência por clusters dos dados alvo\n",
    "        \n",
    "a = best_freq_labels.shape[0] - best_freq_restricao.shape[0]\n",
    "best_freq_restricao = np.append(best_freq_restricao, np.zeros(a))\n",
    "\n",
    "best_restricao_ratio=np.divide(best_freq_restricao.astype(float),best_freq_labels)\n",
    "\n",
    "log_best_freq = np.log(best_freq_labels)\n",
    "log_best_freq_restricao = np.log(best_freq_restricao)\n",
    "\n",
    "x_best_labels =  np.arange(0, (1+best_labels.max()))\n",
    "\n",
    "plot_thwo_bars_graph(log_best_freq, log_best_freq_restricao, title = \"Comparativo veiculos geral e veiculos com restricao por seguimento\", y_label = \"log\", x_label = \"Seguimentos\")"
   ]
  },
  {
   "cell_type": "code",
   "execution_count": 273,
   "metadata": {},
   "outputs": [
    {
     "data": {
      "image/png": "[encoded data removed]",
      "text/plain": [
       "<matplotlib.figure.Figure at 0x1688ef28>"
      ]
     },
     "metadata": {},
     "output_type": "display_data"
    }
   ],
   "source": [
    "plot_bar_graph(best_restricao_ratio, x_best_labels, cor='red', x_label = \"Seguimentos\", y_label = \"\", title = \"Taxa de veiculos com restricao em cada seguimento\")"
   ]
  },
  {
   "cell_type": "code",
   "execution_count": 270,
   "metadata": {},
   "outputs": [
    {
     "name": "stdout",
     "output_type": "stream",
     "text": [
      "O Sequimento 93 é o seguimento com maior taxa de veículos com restricao, 0.0357\n"
     ]
    }
   ],
   "source": [
    "print \"O Sequimento {} é o seguimento com maior taxa de veículos com restricao, {:.4f}\" .format(np.argmax(best_restricao_ratio), np.max(best_restricao_ratio))"
   ]
  },
  {
   "cell_type": "markdown",
   "metadata": {},
   "source": [
    "### Validação"
   ]
  },
  {
   "cell_type": "code",
   "execution_count": 248,
   "metadata": {},
   "outputs": [
    {
     "name": "stdout",
     "output_type": "stream",
     "text": [
      "Base de dados contém 3950 passagens com 6 características cada.\n"
     ]
    }
   ],
   "source": [
    "try:\n",
    "    data_csv3 = pd.read_csv(\"veiculosrestricao12e13out_trans.csv\")\n",
    "    \n",
    "    print \"Base de dados contém {} passagens com {} características cada.\".format(*data_csv3.shape)\n",
    "except:\n",
    "    print \"Dataset could not be loaded. Is the dataset missing??\""
   ]
  },
  {
   "cell_type": "code",
   "execution_count": 249,
   "metadata": {},
   "outputs": [
    {
     "name": "stdout",
     "output_type": "stream",
     "text": [
      "Foram encontrados 2458 veículos passando por 194 pontos.\n"
     ]
    }
   ],
   "source": [
    "data_csv3['local'] = data_csv3['loc_latitude'].map(str) + \" \" + data_csv3['loc_longitude'].map(str) #cria coluna concatenando latitude e longitude\n",
    "data_csv3.drop(['loc_latitude', 'loc_longitude'], axis = 1, inplace = True)\n",
    "lista_veiculos_val = set(data_csv3['placa'])\n",
    "lista_locais_val = set(data_csv3['local'])\n",
    "print \"Foram encontrados {} veículos passando por {} pontos.\" .format(len(lista_veiculos_val), len(lista_locais_val))"
   ]
  },
  {
   "cell_type": "code",
   "execution_count": 250,
   "metadata": {
    "collapsed": true
   },
   "outputs": [],
   "source": [
    "#Criação de tabela prévia para receber os dados de veículos por locais\n",
    "data_validacao_prev = create_df_placaporpontos(data_csv3, 'placa', 'local')"
   ]
  },
  {
   "cell_type": "code",
   "execution_count": 251,
   "metadata": {
    "collapsed": true
   },
   "outputs": [],
   "source": [
    "#Cria nova tabela data_validacao, indexa pela placa e colunas igual às dos dados de veículos geral, \n",
    "#é somada a data_restricao_prev\n",
    "\n",
    "data_validacao = pd.DataFrame(index = data_validacao_prev.index, columns = data.columns) \n",
    "data_validacao.fillna(0, inplace = True)\n",
    "data_validacao = data_validacao.add(data_validacao_prev, fill_value = 0)"
   ]
  },
  {
   "cell_type": "code",
   "execution_count": 252,
   "metadata": {},
   "outputs": [
    {
     "name": "stdout",
     "output_type": "stream",
     "text": [
      "(3950, 135)\n"
     ]
    }
   ],
   "source": [
    "data_validacao_locais_treinados = pd.DataFrame()\n",
    "lista_locais_treinados = set(data_csv['local'])\n",
    "for loc in lista_locais_treinados:\n",
    "    data_validacao_locais_treinados[loc] = data_validacao[loc]\n",
    "data_validacao_locais_treinados.fillna(0, inplace = True)\n",
    "print data_validacao_locais_treinados.shape"
   ]
  },
  {
   "cell_type": "markdown",
   "metadata": {},
   "source": [
    "Aplicação de PCA nos dados de validação, predição nos clusteres e calculando a frequencia em cada cluster"
   ]
  },
  {
   "cell_type": "code",
   "execution_count": 253,
   "metadata": {},
   "outputs": [],
   "source": [
    "data_validacao_pca = pca.transform(data_validacao_locais_treinados) #aplica PCA\n",
    "data_validacao_pca = pd.DataFrame(data_validacao_pca, columns = pca_dimensions) #coloca os dados em um DataFrame"
   ]
  },
  {
   "cell_type": "code",
   "execution_count": 263,
   "metadata": {},
   "outputs": [
    {
     "name": "stderr",
     "output_type": "stream",
     "text": [
      "C:\\ProgramData\\Anaconda2\\lib\\site-packages\\ipykernel_launcher.py:10: RuntimeWarning: divide by zero encountered in log\n",
      "  # Remove the CWD from sys.path while we load stuff.\n"
     ]
    },
    {
     "data": {
      "image/png": "[encoded data removed]",
      "text/plain": [
       "<matplotlib.figure.Figure at 0x3abadfd0>"
      ]
     },
     "metadata": {},
     "output_type": "display_data"
    },
    {
     "data": {
      "image/png": "[encoded data removed]",
      "text/plain": [
       "<matplotlib.figure.Figure at 0x147690f0>"
      ]
     },
     "metadata": {},
     "output_type": "display_data"
    }
   ],
   "source": [
    "data_validacao_pred = best_clusterer5.predict(data_validacao_pca) #predição dos dados alvo nos clusteres treinados\n",
    "freq_validacao = np.bincount(data_validacao_pred) #distribuição de frequência por clusters dos dados alvo\n",
    "        \n",
    "a = best_freq_labels.shape[0] - freq_validacao.shape[0]\n",
    "freq_validacao = np.append(freq_validacao, np.zeros(a))\n",
    "\n",
    "validacao_ratio=np.divide(freq_validacao.astype(float),best_freq_labels)\n",
    "\n",
    "log_best_freq = np.log(best_freq_labels)\n",
    "log_freq_validacao = np.log(freq_validacao)\n",
    "\n",
    "x_best_labels =  np.arange(0, (1+best_labels.max()))\n",
    "\n",
    "plot_thwo_bars_graph(log_best_freq, log_freq_validacao, title = \"Validacao\", y_label = \"log\", x_label = \"Seguimentos\")\n",
    "plot_bar_graph(validacao_ratio, x_best_labels, cor='red', x_label = \"Seguimentos\", y_label = \"\", title = \"Taxa de veiculos com restricao em cada seguimento\")"
   ]
  },
  {
   "cell_type": "code",
   "execution_count": 279,
   "metadata": {},
   "outputs": [
    {
     "name": "stdout",
     "output_type": "stream",
     "text": [
      "115.0000 2109.0\n",
      "115.0000 2134.0\n",
      "28.0000\n"
     ]
    }
   ],
   "source": [
    "print \"{:.4f} {}\" .format(np.argmax(freq_validacao), np.max(freq_validacao))\n",
    "print \"{:.4f} {}\" .format(np.argmax(best_freq_restricao), np.max(best_freq_restricao))\n",
    "print \"{:.4f}\" .format(best_freq_labels[93])"
   ]
  },
  {
   "cell_type": "code",
   "execution_count": 264,
   "metadata": {},
   "outputs": [
    {
     "name": "stdout",
     "output_type": "stream",
     "text": [
      "O Sequimento 93 é o seguimento com maior taxa de veículos com restricao, 0.0357\n"
     ]
    }
   ],
   "source": [
    "print \"O Sequimento {} é o seguimento com maior taxa de veículos com restricao, {:.4f}\" .format(np.argmax(validacao_ratio), np.max(validacao_ratio))"
   ]
  },
  {
   "cell_type": "code",
   "execution_count": 283,
   "metadata": {},
   "outputs": [
    {
     "data": {
      "image/png": "[encoded data removed]",
      "text/plain": [
       "<matplotlib.figure.Figure at 0x18f28d68>"
      ]
     },
     "metadata": {},
     "output_type": "display_data"
    }
   ],
   "source": [
    "plot_bar_graph(freq_validacao, x_best_labels, cor='red', x_label = \"Seguimentos\", y_label = \"\", title = \"Total de veiculos com restricao em cada seguimento\")"
   ]
  },
  {
   "cell_type": "code",
   "execution_count": 285,
   "metadata": {},
   "outputs": [
    {
     "name": "stdout",
     "output_type": "stream",
     "text": [
      "O Sequimento 115 possui 2109 veículos com restricao.\n"
     ]
    }
   ],
   "source": [
    "print \"O Sequimento {} possui {:.0f} veículos com restricao.\" .format(np.argmax(freq_validacao), np.max(freq_validacao))"
   ]
  },
  {
   "cell_type": "code",
   "execution_count": null,
   "metadata": {
    "collapsed": true
   },
   "outputs": [],
   "source": []
  }
 ],
 "metadata": {
  "kernelspec": {
   "display_name": "Python 2",
   "language": "python",
   "name": "python2"
  },
  "language_info": {
   "codemirror_mode": {
    "name": "ipython",
    "version": 2
   },
   "file_extension": ".py",
   "mimetype": "text/x-python",
   "name": "python",
   "nbconvert_exporter": "python",
   "pygments_lexer": "ipython2",
   "version": "2.7.13"
  }
 },
 "nbformat": 4,
 "nbformat_minor": 1
}
