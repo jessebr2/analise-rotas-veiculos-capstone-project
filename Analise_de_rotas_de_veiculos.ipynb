{
 "cells": [
  {
   "cell_type": "markdown",
   "metadata": {},
   "source": [
    "# Nanodegree Engenheiro de Machine Learning\n",
    "## Projeto de Conclusão de Curso\n",
    "## Project 5: Análise de padrões de rotas de veículos"
   ]
  },
  {
   "cell_type": "markdown",
   "metadata": {},
   "source": [
    "## Introdução\n",
    "\n",
    "Neste projeto será analisado o conjunto de dados de passagens de veículos por pontos de uma cidade. A base de dados contém a placa do veículo e a latitude e longitude do ponto de monitoramento. Esses dados se referem aos dias 14 e 15 de setembro de 2017. O objetivo deste projeto é identificar padrões de rotas de veículos, considerando para isso, a quantidade de vezes que cada veículo passou pelo ponto de controle em durante dois dias. "
   ]
  },
  {
   "cell_type": "markdown",
   "metadata": {},
   "source": [
    "**Política de privacidade e confidencialidade das informações**\n",
    "\n",
    "Para que não seja infligida a privacidade dos donos dos veículos e a confidencialidade dos dados, tanto as placas quanto os dados dos pontos de controle foram cifrados para que se tornassem ininteligíveis. "
   ]
  },
  {
   "cell_type": "markdown",
   "metadata": {},
   "source": [
    "## Preparação dos dados\n",
    "Aqui serão importados os dados e preparada a tabela de pontos por características (placa por locais)."
   ]
  },
  {
   "cell_type": "code",
   "execution_count": 64,
   "metadata": {},
   "outputs": [
    {
     "name": "stdout",
     "output_type": "stream",
     "text": [
      "Base de dados contém 2455348 passagens com 5 características cada.\n"
     ]
    }
   ],
   "source": [
    "# Bibliotecas necessárias para este projeto\n",
    "import numpy as np\n",
    "import pandas as pd\n",
    "import renders as rs\n",
    "from IPython.display import display # Allows the use of display() for DataFrames\n",
    "\n",
    "# Mostre matplotlib no corpo do texto (bem formatado no Notebook)\n",
    "%matplotlib inline\n",
    "\n",
    "# Carregamento do conjunto de dados dos veículos\n",
    "try:\n",
    "    data_csv = pd.read_csv(\"veiculos_14e15set_trans.csv\")\n",
    "    print \"Base de dados contém {} passagens com {} características cada.\".format(*data_csv.shape)\n",
    "except:\n",
    "    print \"Dataset could not be loaded. Is the dataset missing??\""
   ]
  },
  {
   "cell_type": "markdown",
   "metadata": {},
   "source": [
    "- Verificando quais colunas foram importadas, a coluna 'count' conta quantas vezes o veículo passou no ponto; \n",
    "- Removendo linhas que contenham latitude igual a zero, pois trata-se de um erro nos dados;\n",
    "- Verificando quantas linhas e colunas possui a base de dados"
   ]
  },
  {
   "cell_type": "code",
   "execution_count": 65,
   "metadata": {},
   "outputs": [
    {
     "data": {
      "text/plain": [
       "Index([u'Unnamed: 0', u'loc_placa', u'loc_latitude', u'loc_longitude',\n",
       "       u'count'],\n",
       "      dtype='object')"
      ]
     },
     "metadata": {},
     "output_type": "display_data"
    },
    {
     "name": "stdout",
     "output_type": "stream",
     "text": [
      "(2455346, 5)\n"
     ]
    }
   ],
   "source": [
    "display(data_csv.columns)\n",
    "data_csv.drop(data_csv.loc_latitude == 0, inplace=True)\n",
    "print data_csv.shape"
   ]
  },
  {
   "cell_type": "markdown",
   "metadata": {},
   "source": [
    "Concatenando as colunas latitude e longitude em apenas uma coluna denominada \"local\":"
   ]
  },
  {
   "cell_type": "code",
   "execution_count": 3,
   "metadata": {},
   "outputs": [
    {
     "name": "stdout",
     "output_type": "stream",
     "text": [
      "Foram encontrados 618757 veículos passando por 135 pontos.\n"
     ]
    }
   ],
   "source": [
    "data_csv['local'] = data_csv['loc_latitude'].map(str) + \" \" + data_csv['loc_longitude'].map(str) #cria coluna concatenando latitude e longitude\n",
    "data_csv.drop(['loc_latitude', 'loc_longitude'], axis = 1, inplace = True)\n",
    "lista_veiculos = set(data_csv['loc_placa'])\n",
    "lista_locais = set(data_csv['local'])\n",
    "print \"Foram encontrados {} veículos passando por {} pontos.\" .format(len(lista_veiculos), len(lista_locais))"
   ]
  },
  {
   "cell_type": "code",
   "execution_count": 4,
   "metadata": {},
   "outputs": [
    {
     "data": {
      "text/html": [
       "<div>\n",
       "<style>\n",
       "    .dataframe thead tr:only-child th {\n",
       "        text-align: right;\n",
       "    }\n",
       "\n",
       "    .dataframe thead th {\n",
       "        text-align: left;\n",
       "    }\n",
       "\n",
       "    .dataframe tbody tr th {\n",
       "        vertical-align: top;\n",
       "    }\n",
       "</style>\n",
       "<table border=\"1\" class=\"dataframe\">\n",
       "  <thead>\n",
       "    <tr style=\"text-align: right;\">\n",
       "      <th></th>\n",
       "      <th>Unnamed: 0</th>\n",
       "      <th>count</th>\n",
       "      <th>local</th>\n",
       "    </tr>\n",
       "    <tr>\n",
       "      <th>loc_placa</th>\n",
       "      <th></th>\n",
       "      <th></th>\n",
       "      <th></th>\n",
       "    </tr>\n",
       "  </thead>\n",
       "  <tbody>\n",
       "    <tr>\n",
       "      <th>OTS5855</th>\n",
       "      <td>4</td>\n",
       "      <td>1</td>\n",
       "      <td>1412 9134</td>\n",
       "    </tr>\n",
       "    <tr>\n",
       "      <th>APS9101</th>\n",
       "      <td>5</td>\n",
       "      <td>1</td>\n",
       "      <td>5825 9794</td>\n",
       "    </tr>\n",
       "    <tr>\n",
       "      <th>HRN6599</th>\n",
       "      <td>6</td>\n",
       "      <td>2</td>\n",
       "      <td>9222 5020</td>\n",
       "    </tr>\n",
       "    <tr>\n",
       "      <th>OFI2494</th>\n",
       "      <td>7</td>\n",
       "      <td>1</td>\n",
       "      <td>2324 8727</td>\n",
       "    </tr>\n",
       "    <tr>\n",
       "      <th>PAM3495</th>\n",
       "      <td>8</td>\n",
       "      <td>1</td>\n",
       "      <td>3444 967</td>\n",
       "    </tr>\n",
       "  </tbody>\n",
       "</table>\n",
       "</div>"
      ],
      "text/plain": [
       "           Unnamed: 0  count      local\n",
       "loc_placa                              \n",
       "OTS5855             4      1  1412 9134\n",
       "APS9101             5      1  5825 9794\n",
       "HRN6599             6      2  9222 5020\n",
       "OFI2494             7      1  2324 8727\n",
       "PAM3495             8      1   3444 967"
      ]
     },
     "metadata": {},
     "output_type": "display_data"
    }
   ],
   "source": [
    "#indexa o DataFrame pelo campo 'loc_placa'\n",
    "data_csv.set_index(['loc_placa'], inplace = True)\n",
    "display(data_csv.head(n=5))"
   ]
  },
  {
   "cell_type": "markdown",
   "metadata": {},
   "source": [
    "O próximo passo é criar uma tabela em que cada linha contenha um veículo e cada coluna a latitude e longitude de um ponto de controle."
   ]
  },
  {
   "cell_type": "code",
   "execution_count": 5,
   "metadata": {
    "collapsed": true
   },
   "outputs": [],
   "source": [
    "def create_df_placaporpontos(data_csv, local_column):\n",
    "    lista_veiculos = set(data_csv.index)\n",
    "    lista_locais = set(data_csv[local_column])\n",
    "    data = pd.DataFrame(index = lista_veiculos, columns = lista_locais)\n",
    "    data.fillna(0, inplace=True)\n",
    "    for local in lista_locais:\n",
    "        try:\n",
    "            data_temp = pd.DataFrame(data_csv[data_csv[local_column] == local])\n",
    "            data[local]=data[local].add(data_temp['count'], fill_value = 0)\n",
    "        except:\n",
    "            display(data_temp)\n",
    "            data_temp.to_csv('data_temp.csv')\n",
    "    return data"
   ]
  },
  {
   "cell_type": "code",
   "execution_count": 6,
   "metadata": {},
   "outputs": [
    {
     "name": "stdout",
     "output_type": "stream",
     "text": [
      "tabela criada com sucesso\n"
     ]
    }
   ],
   "source": [
    "data = create_df_placaporpontos(data_csv, 'local')\n",
    "print \"tabela criada com sucesso\""
   ]
  },
  {
   "cell_type": "markdown",
   "metadata": {},
   "source": [
    "Salvando o dataframe em arquivo:"
   ]
  },
  {
   "cell_type": "code",
   "execution_count": 7,
   "metadata": {},
   "outputs": [
    {
     "name": "stdout",
     "output_type": "stream",
     "text": [
      "arquivo salvo com sucesso\n"
     ]
    }
   ],
   "source": [
    "try:\n",
    "    data.to_csv('placas_por_pontos_geral.csv')\n",
    "    print \"arquivo salvo com sucesso\"\n",
    "except:\n",
    "    print \"erro ao salvar arquivo\""
   ]
  },
  {
   "cell_type": "markdown",
   "metadata": {},
   "source": [
    "### Apresentando a tabela\n",
    "A tabela abaixo é a tabela que será utilizada para desenvolvimento do projeto, cada linha contém um veículo e em cada coluna a quantidade de vezes que o veículo passou por cada ponto de controle, as colunas serão tratadas como características de cada veículo. "
   ]
  },
  {
   "cell_type": "code",
   "execution_count": 7,
   "metadata": {
    "scrolled": true
   },
   "outputs": [
    {
     "data": {
      "text/html": [
       "<div>\n",
       "<style>\n",
       "    .dataframe thead tr:only-child th {\n",
       "        text-align: right;\n",
       "    }\n",
       "\n",
       "    .dataframe thead th {\n",
       "        text-align: left;\n",
       "    }\n",
       "\n",
       "    .dataframe tbody tr th {\n",
       "        vertical-align: top;\n",
       "    }\n",
       "</style>\n",
       "<table border=\"1\" class=\"dataframe\">\n",
       "  <thead>\n",
       "    <tr style=\"text-align: right;\">\n",
       "      <th></th>\n",
       "      <th>5613 8278</th>\n",
       "      <th>4738 6727</th>\n",
       "      <th>4332 2860</th>\n",
       "      <th>8053 4258</th>\n",
       "      <th>3444 967</th>\n",
       "      <th>1412 9134</th>\n",
       "      <th>5880 8554</th>\n",
       "      <th>2833 1278</th>\n",
       "      <th>3416 1233</th>\n",
       "      <th>2374 6763</th>\n",
       "      <th>...</th>\n",
       "      <th>5000 4778</th>\n",
       "      <th>4162 7589</th>\n",
       "      <th>472 5552</th>\n",
       "      <th>1382 4248</th>\n",
       "      <th>4853 8470</th>\n",
       "      <th>9430 4736</th>\n",
       "      <th>5303 7658</th>\n",
       "      <th>7723 5667</th>\n",
       "      <th>9666 833</th>\n",
       "      <th>7272 1070</th>\n",
       "    </tr>\n",
       "  </thead>\n",
       "  <tbody>\n",
       "    <tr>\n",
       "      <th>HXX6311</th>\n",
       "      <td>0.0</td>\n",
       "      <td>0.0</td>\n",
       "      <td>1.0</td>\n",
       "      <td>0.0</td>\n",
       "      <td>0.0</td>\n",
       "      <td>0.0</td>\n",
       "      <td>0.0</td>\n",
       "      <td>0.0</td>\n",
       "      <td>0.0</td>\n",
       "      <td>0.0</td>\n",
       "      <td>...</td>\n",
       "      <td>0.0</td>\n",
       "      <td>0.0</td>\n",
       "      <td>0.0</td>\n",
       "      <td>0.0</td>\n",
       "      <td>0.0</td>\n",
       "      <td>0.0</td>\n",
       "      <td>0.0</td>\n",
       "      <td>0.0</td>\n",
       "      <td>0.0</td>\n",
       "      <td>0.0</td>\n",
       "    </tr>\n",
       "    <tr>\n",
       "      <th>OES0945</th>\n",
       "      <td>0.0</td>\n",
       "      <td>0.0</td>\n",
       "      <td>0.0</td>\n",
       "      <td>0.0</td>\n",
       "      <td>0.0</td>\n",
       "      <td>0.0</td>\n",
       "      <td>0.0</td>\n",
       "      <td>0.0</td>\n",
       "      <td>0.0</td>\n",
       "      <td>0.0</td>\n",
       "      <td>...</td>\n",
       "      <td>0.0</td>\n",
       "      <td>0.0</td>\n",
       "      <td>0.0</td>\n",
       "      <td>0.0</td>\n",
       "      <td>0.0</td>\n",
       "      <td>0.0</td>\n",
       "      <td>0.0</td>\n",
       "      <td>0.0</td>\n",
       "      <td>0.0</td>\n",
       "      <td>0.0</td>\n",
       "    </tr>\n",
       "    <tr>\n",
       "      <th>HWC4722</th>\n",
       "      <td>0.0</td>\n",
       "      <td>0.0</td>\n",
       "      <td>0.0</td>\n",
       "      <td>0.0</td>\n",
       "      <td>0.0</td>\n",
       "      <td>0.0</td>\n",
       "      <td>0.0</td>\n",
       "      <td>0.0</td>\n",
       "      <td>0.0</td>\n",
       "      <td>0.0</td>\n",
       "      <td>...</td>\n",
       "      <td>0.0</td>\n",
       "      <td>0.0</td>\n",
       "      <td>0.0</td>\n",
       "      <td>0.0</td>\n",
       "      <td>0.0</td>\n",
       "      <td>0.0</td>\n",
       "      <td>0.0</td>\n",
       "      <td>0.0</td>\n",
       "      <td>0.0</td>\n",
       "      <td>0.0</td>\n",
       "    </tr>\n",
       "    <tr>\n",
       "      <th>HXX6312</th>\n",
       "      <td>0.0</td>\n",
       "      <td>0.0</td>\n",
       "      <td>0.0</td>\n",
       "      <td>0.0</td>\n",
       "      <td>0.0</td>\n",
       "      <td>0.0</td>\n",
       "      <td>0.0</td>\n",
       "      <td>0.0</td>\n",
       "      <td>0.0</td>\n",
       "      <td>0.0</td>\n",
       "      <td>...</td>\n",
       "      <td>0.0</td>\n",
       "      <td>0.0</td>\n",
       "      <td>0.0</td>\n",
       "      <td>0.0</td>\n",
       "      <td>1.0</td>\n",
       "      <td>0.0</td>\n",
       "      <td>0.0</td>\n",
       "      <td>0.0</td>\n",
       "      <td>1.0</td>\n",
       "      <td>0.0</td>\n",
       "    </tr>\n",
       "    <tr>\n",
       "      <th>NMQ8671</th>\n",
       "      <td>0.0</td>\n",
       "      <td>0.0</td>\n",
       "      <td>0.0</td>\n",
       "      <td>0.0</td>\n",
       "      <td>0.0</td>\n",
       "      <td>0.0</td>\n",
       "      <td>0.0</td>\n",
       "      <td>0.0</td>\n",
       "      <td>0.0</td>\n",
       "      <td>0.0</td>\n",
       "      <td>...</td>\n",
       "      <td>0.0</td>\n",
       "      <td>0.0</td>\n",
       "      <td>0.0</td>\n",
       "      <td>0.0</td>\n",
       "      <td>0.0</td>\n",
       "      <td>0.0</td>\n",
       "      <td>0.0</td>\n",
       "      <td>0.0</td>\n",
       "      <td>0.0</td>\n",
       "      <td>0.0</td>\n",
       "    </tr>\n",
       "    <tr>\n",
       "      <th>NTM2610</th>\n",
       "      <td>0.0</td>\n",
       "      <td>0.0</td>\n",
       "      <td>0.0</td>\n",
       "      <td>0.0</td>\n",
       "      <td>0.0</td>\n",
       "      <td>0.0</td>\n",
       "      <td>0.0</td>\n",
       "      <td>0.0</td>\n",
       "      <td>0.0</td>\n",
       "      <td>0.0</td>\n",
       "      <td>...</td>\n",
       "      <td>0.0</td>\n",
       "      <td>0.0</td>\n",
       "      <td>0.0</td>\n",
       "      <td>0.0</td>\n",
       "      <td>0.0</td>\n",
       "      <td>0.0</td>\n",
       "      <td>0.0</td>\n",
       "      <td>0.0</td>\n",
       "      <td>0.0</td>\n",
       "      <td>0.0</td>\n",
       "    </tr>\n",
       "    <tr>\n",
       "      <th>ODI1168</th>\n",
       "      <td>0.0</td>\n",
       "      <td>0.0</td>\n",
       "      <td>0.0</td>\n",
       "      <td>0.0</td>\n",
       "      <td>0.0</td>\n",
       "      <td>0.0</td>\n",
       "      <td>0.0</td>\n",
       "      <td>0.0</td>\n",
       "      <td>0.0</td>\n",
       "      <td>0.0</td>\n",
       "      <td>...</td>\n",
       "      <td>0.0</td>\n",
       "      <td>0.0</td>\n",
       "      <td>0.0</td>\n",
       "      <td>0.0</td>\n",
       "      <td>0.0</td>\n",
       "      <td>0.0</td>\n",
       "      <td>0.0</td>\n",
       "      <td>0.0</td>\n",
       "      <td>0.0</td>\n",
       "      <td>0.0</td>\n",
       "    </tr>\n",
       "    <tr>\n",
       "      <th>OES0947</th>\n",
       "      <td>0.0</td>\n",
       "      <td>0.0</td>\n",
       "      <td>0.0</td>\n",
       "      <td>0.0</td>\n",
       "      <td>0.0</td>\n",
       "      <td>0.0</td>\n",
       "      <td>0.0</td>\n",
       "      <td>0.0</td>\n",
       "      <td>0.0</td>\n",
       "      <td>0.0</td>\n",
       "      <td>...</td>\n",
       "      <td>0.0</td>\n",
       "      <td>0.0</td>\n",
       "      <td>0.0</td>\n",
       "      <td>0.0</td>\n",
       "      <td>0.0</td>\n",
       "      <td>0.0</td>\n",
       "      <td>0.0</td>\n",
       "      <td>0.0</td>\n",
       "      <td>0.0</td>\n",
       "      <td>0.0</td>\n",
       "    </tr>\n",
       "    <tr>\n",
       "      <th>NTQ9976</th>\n",
       "      <td>0.0</td>\n",
       "      <td>0.0</td>\n",
       "      <td>0.0</td>\n",
       "      <td>0.0</td>\n",
       "      <td>0.0</td>\n",
       "      <td>0.0</td>\n",
       "      <td>0.0</td>\n",
       "      <td>0.0</td>\n",
       "      <td>0.0</td>\n",
       "      <td>0.0</td>\n",
       "      <td>...</td>\n",
       "      <td>0.0</td>\n",
       "      <td>0.0</td>\n",
       "      <td>0.0</td>\n",
       "      <td>0.0</td>\n",
       "      <td>0.0</td>\n",
       "      <td>0.0</td>\n",
       "      <td>0.0</td>\n",
       "      <td>0.0</td>\n",
       "      <td>0.0</td>\n",
       "      <td>0.0</td>\n",
       "    </tr>\n",
       "    <tr>\n",
       "      <th>ODI1161</th>\n",
       "      <td>0.0</td>\n",
       "      <td>0.0</td>\n",
       "      <td>0.0</td>\n",
       "      <td>0.0</td>\n",
       "      <td>0.0</td>\n",
       "      <td>0.0</td>\n",
       "      <td>0.0</td>\n",
       "      <td>0.0</td>\n",
       "      <td>0.0</td>\n",
       "      <td>0.0</td>\n",
       "      <td>...</td>\n",
       "      <td>0.0</td>\n",
       "      <td>0.0</td>\n",
       "      <td>0.0</td>\n",
       "      <td>0.0</td>\n",
       "      <td>0.0</td>\n",
       "      <td>0.0</td>\n",
       "      <td>0.0</td>\n",
       "      <td>0.0</td>\n",
       "      <td>0.0</td>\n",
       "      <td>0.0</td>\n",
       "    </tr>\n",
       "  </tbody>\n",
       "</table>\n",
       "<p>10 rows × 135 columns</p>\n",
       "</div>"
      ],
      "text/plain": [
       "         5613 8278  4738 6727  4332 2860  8053 4258  3444 967  1412 9134  \\\n",
       "HXX6311        0.0        0.0        1.0        0.0       0.0        0.0   \n",
       "OES0945        0.0        0.0        0.0        0.0       0.0        0.0   \n",
       "HWC4722        0.0        0.0        0.0        0.0       0.0        0.0   \n",
       "HXX6312        0.0        0.0        0.0        0.0       0.0        0.0   \n",
       "NMQ8671        0.0        0.0        0.0        0.0       0.0        0.0   \n",
       "NTM2610        0.0        0.0        0.0        0.0       0.0        0.0   \n",
       "ODI1168        0.0        0.0        0.0        0.0       0.0        0.0   \n",
       "OES0947        0.0        0.0        0.0        0.0       0.0        0.0   \n",
       "NTQ9976        0.0        0.0        0.0        0.0       0.0        0.0   \n",
       "ODI1161        0.0        0.0        0.0        0.0       0.0        0.0   \n",
       "\n",
       "         5880 8554  2833 1278  3416 1233  2374 6763    ...      5000 4778  \\\n",
       "HXX6311        0.0        0.0        0.0        0.0    ...            0.0   \n",
       "OES0945        0.0        0.0        0.0        0.0    ...            0.0   \n",
       "HWC4722        0.0        0.0        0.0        0.0    ...            0.0   \n",
       "HXX6312        0.0        0.0        0.0        0.0    ...            0.0   \n",
       "NMQ8671        0.0        0.0        0.0        0.0    ...            0.0   \n",
       "NTM2610        0.0        0.0        0.0        0.0    ...            0.0   \n",
       "ODI1168        0.0        0.0        0.0        0.0    ...            0.0   \n",
       "OES0947        0.0        0.0        0.0        0.0    ...            0.0   \n",
       "NTQ9976        0.0        0.0        0.0        0.0    ...            0.0   \n",
       "ODI1161        0.0        0.0        0.0        0.0    ...            0.0   \n",
       "\n",
       "         4162 7589  472 5552  1382 4248  4853 8470  9430 4736  5303 7658  \\\n",
       "HXX6311        0.0       0.0        0.0        0.0        0.0        0.0   \n",
       "OES0945        0.0       0.0        0.0        0.0        0.0        0.0   \n",
       "HWC4722        0.0       0.0        0.0        0.0        0.0        0.0   \n",
       "HXX6312        0.0       0.0        0.0        1.0        0.0        0.0   \n",
       "NMQ8671        0.0       0.0        0.0        0.0        0.0        0.0   \n",
       "NTM2610        0.0       0.0        0.0        0.0        0.0        0.0   \n",
       "ODI1168        0.0       0.0        0.0        0.0        0.0        0.0   \n",
       "OES0947        0.0       0.0        0.0        0.0        0.0        0.0   \n",
       "NTQ9976        0.0       0.0        0.0        0.0        0.0        0.0   \n",
       "ODI1161        0.0       0.0        0.0        0.0        0.0        0.0   \n",
       "\n",
       "         7723 5667  9666 833  7272 1070  \n",
       "HXX6311        0.0       0.0        0.0  \n",
       "OES0945        0.0       0.0        0.0  \n",
       "HWC4722        0.0       0.0        0.0  \n",
       "HXX6312        0.0       1.0        0.0  \n",
       "NMQ8671        0.0       0.0        0.0  \n",
       "NTM2610        0.0       0.0        0.0  \n",
       "ODI1168        0.0       0.0        0.0  \n",
       "OES0947        0.0       0.0        0.0  \n",
       "NTQ9976        0.0       0.0        0.0  \n",
       "ODI1161        0.0       0.0        0.0  \n",
       "\n",
       "[10 rows x 135 columns]"
      ]
     },
     "metadata": {},
     "output_type": "display_data"
    }
   ],
   "source": [
    "display(data.head(n=10))"
   ]
  },
  {
   "cell_type": "code",
   "execution_count": 8,
   "metadata": {
    "collapsed": true
   },
   "outputs": [],
   "source": [
    "def plot_bar_graph(dados, labels, cor=\"blue\", x_label = \" \", y_label = \" \", title = \" \"): #função que traça o gráfico de barra\n",
    "    import matplotlib.pyplot as plt\n",
    "    width = 1/1.5\n",
    "    plt.xlabel(x_label)\n",
    "    plt.ylabel(y_label)\n",
    "    plt.title(title)\n",
    "    plt.grid(True)\n",
    "    plt.bar(labels, dados, width, color=cor)\n",
    "    return None"
   ]
  },
  {
   "cell_type": "code",
   "execution_count": 9,
   "metadata": {},
   "outputs": [
    {
     "data": {
      "image/png": "[encoded data removed]",
      "text/plain": [
       "<matplotlib.figure.Figure at 0x606e4e0>"
      ]
     },
     "metadata": {},
     "output_type": "display_data"
    }
   ],
   "source": [
    "plot_bar_graph(data.sum(), np.arange(data.shape[1]), x_label = \"locais\", y_label = \"numero de passagens\", title = \"Passagens de veiculos por Ponto de Monitoramento\", cor = 'black')"
   ]
  },
  {
   "cell_type": "code",
   "execution_count": 10,
   "metadata": {},
   "outputs": [
    {
     "data": {
      "text/html": [
       "<div>\n",
       "<style>\n",
       "    .dataframe thead tr:only-child th {\n",
       "        text-align: right;\n",
       "    }\n",
       "\n",
       "    .dataframe thead th {\n",
       "        text-align: left;\n",
       "    }\n",
       "\n",
       "    .dataframe tbody tr th {\n",
       "        vertical-align: top;\n",
       "    }\n",
       "</style>\n",
       "<table border=\"1\" class=\"dataframe\">\n",
       "  <thead>\n",
       "    <tr style=\"text-align: right;\">\n",
       "      <th></th>\n",
       "      <th>5613 8278</th>\n",
       "      <th>4738 6727</th>\n",
       "      <th>4332 2860</th>\n",
       "      <th>8053 4258</th>\n",
       "      <th>3444 967</th>\n",
       "      <th>1412 9134</th>\n",
       "      <th>5880 8554</th>\n",
       "      <th>2833 1278</th>\n",
       "      <th>3416 1233</th>\n",
       "      <th>2374 6763</th>\n",
       "      <th>...</th>\n",
       "      <th>5000 4778</th>\n",
       "      <th>4162 7589</th>\n",
       "      <th>472 5552</th>\n",
       "      <th>1382 4248</th>\n",
       "      <th>4853 8470</th>\n",
       "      <th>9430 4736</th>\n",
       "      <th>5303 7658</th>\n",
       "      <th>7723 5667</th>\n",
       "      <th>9666 833</th>\n",
       "      <th>7272 1070</th>\n",
       "    </tr>\n",
       "  </thead>\n",
       "  <tbody>\n",
       "    <tr>\n",
       "      <th>count</th>\n",
       "      <td>618757.000000</td>\n",
       "      <td>618757.000000</td>\n",
       "      <td>618757.000000</td>\n",
       "      <td>618757.000000</td>\n",
       "      <td>618757.000000</td>\n",
       "      <td>618757.000000</td>\n",
       "      <td>618757.000000</td>\n",
       "      <td>618757.000000</td>\n",
       "      <td>618757.00000</td>\n",
       "      <td>618757.000000</td>\n",
       "      <td>...</td>\n",
       "      <td>618757.000000</td>\n",
       "      <td>618757.000000</td>\n",
       "      <td>618757.000000</td>\n",
       "      <td>618757.000000</td>\n",
       "      <td>618757.000000</td>\n",
       "      <td>618757.000000</td>\n",
       "      <td>618757.000000</td>\n",
       "      <td>618757.000000</td>\n",
       "      <td>618757.000000</td>\n",
       "      <td>618757.000000</td>\n",
       "    </tr>\n",
       "    <tr>\n",
       "      <th>mean</th>\n",
       "      <td>0.006311</td>\n",
       "      <td>0.052074</td>\n",
       "      <td>0.014161</td>\n",
       "      <td>0.034257</td>\n",
       "      <td>0.080246</td>\n",
       "      <td>0.025758</td>\n",
       "      <td>0.033116</td>\n",
       "      <td>0.040683</td>\n",
       "      <td>0.02160</td>\n",
       "      <td>0.017370</td>\n",
       "      <td>...</td>\n",
       "      <td>0.040292</td>\n",
       "      <td>0.034631</td>\n",
       "      <td>0.063458</td>\n",
       "      <td>0.036882</td>\n",
       "      <td>0.042560</td>\n",
       "      <td>0.024396</td>\n",
       "      <td>0.053027</td>\n",
       "      <td>0.046273</td>\n",
       "      <td>0.039922</td>\n",
       "      <td>0.074368</td>\n",
       "    </tr>\n",
       "    <tr>\n",
       "      <th>std</th>\n",
       "      <td>0.095645</td>\n",
       "      <td>0.474153</td>\n",
       "      <td>0.148592</td>\n",
       "      <td>0.285901</td>\n",
       "      <td>0.814628</td>\n",
       "      <td>0.184976</td>\n",
       "      <td>0.231416</td>\n",
       "      <td>0.244743</td>\n",
       "      <td>0.17967</td>\n",
       "      <td>0.173292</td>\n",
       "      <td>...</td>\n",
       "      <td>0.276702</td>\n",
       "      <td>0.238282</td>\n",
       "      <td>0.386831</td>\n",
       "      <td>0.307453</td>\n",
       "      <td>0.643333</td>\n",
       "      <td>0.215558</td>\n",
       "      <td>0.313068</td>\n",
       "      <td>0.261491</td>\n",
       "      <td>0.517614</td>\n",
       "      <td>0.376809</td>\n",
       "    </tr>\n",
       "    <tr>\n",
       "      <th>min</th>\n",
       "      <td>0.000000</td>\n",
       "      <td>0.000000</td>\n",
       "      <td>0.000000</td>\n",
       "      <td>0.000000</td>\n",
       "      <td>0.000000</td>\n",
       "      <td>0.000000</td>\n",
       "      <td>0.000000</td>\n",
       "      <td>0.000000</td>\n",
       "      <td>0.00000</td>\n",
       "      <td>0.000000</td>\n",
       "      <td>...</td>\n",
       "      <td>0.000000</td>\n",
       "      <td>0.000000</td>\n",
       "      <td>0.000000</td>\n",
       "      <td>0.000000</td>\n",
       "      <td>0.000000</td>\n",
       "      <td>0.000000</td>\n",
       "      <td>0.000000</td>\n",
       "      <td>0.000000</td>\n",
       "      <td>0.000000</td>\n",
       "      <td>0.000000</td>\n",
       "    </tr>\n",
       "    <tr>\n",
       "      <th>25%</th>\n",
       "      <td>0.000000</td>\n",
       "      <td>0.000000</td>\n",
       "      <td>0.000000</td>\n",
       "      <td>0.000000</td>\n",
       "      <td>0.000000</td>\n",
       "      <td>0.000000</td>\n",
       "      <td>0.000000</td>\n",
       "      <td>0.000000</td>\n",
       "      <td>0.00000</td>\n",
       "      <td>0.000000</td>\n",
       "      <td>...</td>\n",
       "      <td>0.000000</td>\n",
       "      <td>0.000000</td>\n",
       "      <td>0.000000</td>\n",
       "      <td>0.000000</td>\n",
       "      <td>0.000000</td>\n",
       "      <td>0.000000</td>\n",
       "      <td>0.000000</td>\n",
       "      <td>0.000000</td>\n",
       "      <td>0.000000</td>\n",
       "      <td>0.000000</td>\n",
       "    </tr>\n",
       "    <tr>\n",
       "      <th>50%</th>\n",
       "      <td>0.000000</td>\n",
       "      <td>0.000000</td>\n",
       "      <td>0.000000</td>\n",
       "      <td>0.000000</td>\n",
       "      <td>0.000000</td>\n",
       "      <td>0.000000</td>\n",
       "      <td>0.000000</td>\n",
       "      <td>0.000000</td>\n",
       "      <td>0.00000</td>\n",
       "      <td>0.000000</td>\n",
       "      <td>...</td>\n",
       "      <td>0.000000</td>\n",
       "      <td>0.000000</td>\n",
       "      <td>0.000000</td>\n",
       "      <td>0.000000</td>\n",
       "      <td>0.000000</td>\n",
       "      <td>0.000000</td>\n",
       "      <td>0.000000</td>\n",
       "      <td>0.000000</td>\n",
       "      <td>0.000000</td>\n",
       "      <td>0.000000</td>\n",
       "    </tr>\n",
       "    <tr>\n",
       "      <th>75%</th>\n",
       "      <td>0.000000</td>\n",
       "      <td>0.000000</td>\n",
       "      <td>0.000000</td>\n",
       "      <td>0.000000</td>\n",
       "      <td>0.000000</td>\n",
       "      <td>0.000000</td>\n",
       "      <td>0.000000</td>\n",
       "      <td>0.000000</td>\n",
       "      <td>0.00000</td>\n",
       "      <td>0.000000</td>\n",
       "      <td>...</td>\n",
       "      <td>0.000000</td>\n",
       "      <td>0.000000</td>\n",
       "      <td>0.000000</td>\n",
       "      <td>0.000000</td>\n",
       "      <td>0.000000</td>\n",
       "      <td>0.000000</td>\n",
       "      <td>0.000000</td>\n",
       "      <td>0.000000</td>\n",
       "      <td>0.000000</td>\n",
       "      <td>0.000000</td>\n",
       "    </tr>\n",
       "    <tr>\n",
       "      <th>max</th>\n",
       "      <td>11.000000</td>\n",
       "      <td>295.000000</td>\n",
       "      <td>21.000000</td>\n",
       "      <td>39.000000</td>\n",
       "      <td>578.000000</td>\n",
       "      <td>22.000000</td>\n",
       "      <td>77.000000</td>\n",
       "      <td>12.000000</td>\n",
       "      <td>10.00000</td>\n",
       "      <td>18.000000</td>\n",
       "      <td>...</td>\n",
       "      <td>28.000000</td>\n",
       "      <td>20.000000</td>\n",
       "      <td>192.000000</td>\n",
       "      <td>23.000000</td>\n",
       "      <td>468.000000</td>\n",
       "      <td>89.000000</td>\n",
       "      <td>28.000000</td>\n",
       "      <td>11.000000</td>\n",
       "      <td>353.000000</td>\n",
       "      <td>61.000000</td>\n",
       "    </tr>\n",
       "  </tbody>\n",
       "</table>\n",
       "<p>8 rows × 135 columns</p>\n",
       "</div>"
      ],
      "text/plain": [
       "           5613 8278      4738 6727      4332 2860      8053 4258  \\\n",
       "count  618757.000000  618757.000000  618757.000000  618757.000000   \n",
       "mean        0.006311       0.052074       0.014161       0.034257   \n",
       "std         0.095645       0.474153       0.148592       0.285901   \n",
       "min         0.000000       0.000000       0.000000       0.000000   \n",
       "25%         0.000000       0.000000       0.000000       0.000000   \n",
       "50%         0.000000       0.000000       0.000000       0.000000   \n",
       "75%         0.000000       0.000000       0.000000       0.000000   \n",
       "max        11.000000     295.000000      21.000000      39.000000   \n",
       "\n",
       "            3444 967      1412 9134      5880 8554      2833 1278  \\\n",
       "count  618757.000000  618757.000000  618757.000000  618757.000000   \n",
       "mean        0.080246       0.025758       0.033116       0.040683   \n",
       "std         0.814628       0.184976       0.231416       0.244743   \n",
       "min         0.000000       0.000000       0.000000       0.000000   \n",
       "25%         0.000000       0.000000       0.000000       0.000000   \n",
       "50%         0.000000       0.000000       0.000000       0.000000   \n",
       "75%         0.000000       0.000000       0.000000       0.000000   \n",
       "max       578.000000      22.000000      77.000000      12.000000   \n",
       "\n",
       "          3416 1233      2374 6763      ...            5000 4778  \\\n",
       "count  618757.00000  618757.000000      ...        618757.000000   \n",
       "mean        0.02160       0.017370      ...             0.040292   \n",
       "std         0.17967       0.173292      ...             0.276702   \n",
       "min         0.00000       0.000000      ...             0.000000   \n",
       "25%         0.00000       0.000000      ...             0.000000   \n",
       "50%         0.00000       0.000000      ...             0.000000   \n",
       "75%         0.00000       0.000000      ...             0.000000   \n",
       "max        10.00000      18.000000      ...            28.000000   \n",
       "\n",
       "           4162 7589       472 5552      1382 4248      4853 8470  \\\n",
       "count  618757.000000  618757.000000  618757.000000  618757.000000   \n",
       "mean        0.034631       0.063458       0.036882       0.042560   \n",
       "std         0.238282       0.386831       0.307453       0.643333   \n",
       "min         0.000000       0.000000       0.000000       0.000000   \n",
       "25%         0.000000       0.000000       0.000000       0.000000   \n",
       "50%         0.000000       0.000000       0.000000       0.000000   \n",
       "75%         0.000000       0.000000       0.000000       0.000000   \n",
       "max        20.000000     192.000000      23.000000     468.000000   \n",
       "\n",
       "           9430 4736      5303 7658      7723 5667       9666 833  \\\n",
       "count  618757.000000  618757.000000  618757.000000  618757.000000   \n",
       "mean        0.024396       0.053027       0.046273       0.039922   \n",
       "std         0.215558       0.313068       0.261491       0.517614   \n",
       "min         0.000000       0.000000       0.000000       0.000000   \n",
       "25%         0.000000       0.000000       0.000000       0.000000   \n",
       "50%         0.000000       0.000000       0.000000       0.000000   \n",
       "75%         0.000000       0.000000       0.000000       0.000000   \n",
       "max        89.000000      28.000000      11.000000     353.000000   \n",
       "\n",
       "           7272 1070  \n",
       "count  618757.000000  \n",
       "mean        0.074368  \n",
       "std         0.376809  \n",
       "min         0.000000  \n",
       "25%         0.000000  \n",
       "50%         0.000000  \n",
       "75%         0.000000  \n",
       "max        61.000000  \n",
       "\n",
       "[8 rows x 135 columns]"
      ]
     },
     "metadata": {},
     "output_type": "display_data"
    },
    {
     "name": "stdout",
     "output_type": "stream",
     "text": [
      "arquivo salvo com sucesso\n"
     ]
    }
   ],
   "source": [
    "display(data.describe())\n",
    "try:\n",
    "    data.describe().to_csv('data_describe.csv')\n",
    "    print \"arquivo salvo com sucesso\"\n",
    "except:\n",
    "    print \"erro ao salvar arquivo\""
   ]
  },
  {
   "cell_type": "markdown",
   "metadata": {},
   "source": [
    "### Implementação: PCA\n",
    "\n",
    "Como existem 135 características, será utilizado o PCA para descobrir qual dimensão dos dados melhor maximizam a variância dos atributos envolvidos. Além de descobrir essas dimensões, a PCA também irá reportar a *razão da variância explicada* de cada dimensão – quanta variância dentro dos dados é explicada pela dimensão sozinha. Note que o componente (dimensão) da PCA pode ser considerado como um novo \"feature\" do espaço, entretanto, ele é uma composição do atributo original presente nos dados."
   ]
  },
  {
   "cell_type": "code",
   "execution_count": 11,
   "metadata": {},
   "outputs": [
    {
     "name": "stdout",
     "output_type": "stream",
     "text": [
      "Array com a variança explicada acumulada:\n"
     ]
    },
    {
     "data": {
      "text/plain": [
       "array([ 0.47496722,  0.5282771 ,  0.56556268,  0.58944722,  0.60864399,\n",
       "        0.62347305,  0.6367917 ,  0.6495455 ,  0.66147761,  0.6719452 ,\n",
       "        0.68173067,  0.69093638,  0.69981432,  0.70845341,  0.71694802,\n",
       "        0.72514737,  0.73278869,  0.73972053,  0.74618339,  0.75230353,\n",
       "        0.75804191,  0.76323077,  0.76815682,  0.77301976,  0.77775253,\n",
       "        0.78243464,  0.78706639,  0.79151248,  0.79579023,  0.80000811,\n",
       "        0.80417421,  0.80820658,  0.81212292,  0.81594846,  0.81955968,\n",
       "        0.82311048,  0.82653188,  0.82987783,  0.83319075,  0.83647433,\n",
       "        0.83972484,  0.84293782,  0.84610096,  0.84922782,  0.85224638,\n",
       "        0.85523146,  0.85814351,  0.86101591,  0.86382724,  0.86659326])"
      ]
     },
     "execution_count": 11,
     "metadata": {},
     "output_type": "execute_result"
    }
   ],
   "source": [
    "# PCA\n",
    "from sklearn.decomposition import PCA\n",
    "pca = PCA(n_components = 50)\n",
    "pca.fit(data)\n",
    "print \"Array com a variança explicada acumulada:\"\n",
    "np.cumsum(pca.explained_variance_ratio_)\n"
   ]
  },
  {
   "cell_type": "markdown",
   "metadata": {},
   "source": [
    "### Redução da Dimensionalidade\n",
    "Ao utilizar um componente principal de análise, um dos objetivos principais é reduzir a dimensionalidade dos dados – na realidade, reduzindo a complexidade do problema. Redução de dimensionalidade tem um custo: Poucas dimensões utilizadas implicam em menor variância total dos dados que estão sendo explicados. Por causo disso, a *taxa de variância explicada cumulativa* é extremamente importante para saber como várias dimensões são necessárias para o problema. Além disso, se uma quantidade significativa de variância é explicada por apenas duas ou três dimensões, os dados reduzidos podem ser visualizados depois.\n",
    "\n",
    "Pelo Array de variança explicada pode-se ver que com 30 dimensões 80% da variança dos dados é explicada, portanto será utilizada a redução de dimensionalidade pelo PCA de **135** para **30** dimensões"
   ]
  },
  {
   "cell_type": "code",
   "execution_count": 12,
   "metadata": {
    "collapsed": true
   },
   "outputs": [],
   "source": [
    "# Ajustanto o PCA com 30 dimensões\n",
    "pca = PCA(n_components = 30)\n",
    "pca.fit(data)\n",
    "\n",
    "# Transformando os dados utilizando o ajuste do PCA acima\n",
    "reduced_data = pca.transform(data)\n",
    "\n",
    "# Criando o DataFrame para os dados reduzidos\n",
    "pca_dimensions = list()\n",
    "for x in range(30):\n",
    "    pca_dimensions.append(\"Dimension \" + str(x))\n",
    "reduced_data = pd.DataFrame(reduced_data, columns = pca_dimensions)"
   ]
  },
  {
   "cell_type": "code",
   "execution_count": 13,
   "metadata": {},
   "outputs": [
    {
     "data": {
      "text/html": [
       "<div>\n",
       "<style>\n",
       "    .dataframe thead tr:only-child th {\n",
       "        text-align: right;\n",
       "    }\n",
       "\n",
       "    .dataframe thead th {\n",
       "        text-align: left;\n",
       "    }\n",
       "\n",
       "    .dataframe tbody tr th {\n",
       "        vertical-align: top;\n",
       "    }\n",
       "</style>\n",
       "<table border=\"1\" class=\"dataframe\">\n",
       "  <thead>\n",
       "    <tr style=\"text-align: right;\">\n",
       "      <th></th>\n",
       "      <th>Dimension 0</th>\n",
       "      <th>Dimension 1</th>\n",
       "      <th>Dimension 2</th>\n",
       "      <th>Dimension 3</th>\n",
       "      <th>Dimension 4</th>\n",
       "      <th>Dimension 5</th>\n",
       "      <th>Dimension 6</th>\n",
       "      <th>Dimension 7</th>\n",
       "      <th>Dimension 8</th>\n",
       "      <th>Dimension 9</th>\n",
       "      <th>...</th>\n",
       "      <th>Dimension 20</th>\n",
       "      <th>Dimension 21</th>\n",
       "      <th>Dimension 22</th>\n",
       "      <th>Dimension 23</th>\n",
       "      <th>Dimension 24</th>\n",
       "      <th>Dimension 25</th>\n",
       "      <th>Dimension 26</th>\n",
       "      <th>Dimension 27</th>\n",
       "      <th>Dimension 28</th>\n",
       "      <th>Dimension 29</th>\n",
       "    </tr>\n",
       "  </thead>\n",
       "  <tbody>\n",
       "    <tr>\n",
       "      <th>0</th>\n",
       "      <td>0.046368</td>\n",
       "      <td>0.786888</td>\n",
       "      <td>-0.231217</td>\n",
       "      <td>4.598311</td>\n",
       "      <td>-0.136251</td>\n",
       "      <td>-0.075393</td>\n",
       "      <td>0.118652</td>\n",
       "      <td>0.139594</td>\n",
       "      <td>0.878143</td>\n",
       "      <td>-0.122852</td>\n",
       "      <td>...</td>\n",
       "      <td>0.063125</td>\n",
       "      <td>-0.108645</td>\n",
       "      <td>-0.152743</td>\n",
       "      <td>0.262823</td>\n",
       "      <td>0.647691</td>\n",
       "      <td>0.201593</td>\n",
       "      <td>-0.032836</td>\n",
       "      <td>-0.125419</td>\n",
       "      <td>-0.191826</td>\n",
       "      <td>-0.109289</td>\n",
       "    </tr>\n",
       "    <tr>\n",
       "      <th>1</th>\n",
       "      <td>-0.322102</td>\n",
       "      <td>0.156673</td>\n",
       "      <td>-0.120396</td>\n",
       "      <td>-0.137725</td>\n",
       "      <td>0.020574</td>\n",
       "      <td>-0.084712</td>\n",
       "      <td>0.064879</td>\n",
       "      <td>-0.040052</td>\n",
       "      <td>-0.026321</td>\n",
       "      <td>-0.012002</td>\n",
       "      <td>...</td>\n",
       "      <td>0.105933</td>\n",
       "      <td>-0.050102</td>\n",
       "      <td>-0.074857</td>\n",
       "      <td>0.051545</td>\n",
       "      <td>0.038042</td>\n",
       "      <td>-0.130580</td>\n",
       "      <td>0.103019</td>\n",
       "      <td>0.175777</td>\n",
       "      <td>0.117640</td>\n",
       "      <td>0.088462</td>\n",
       "    </tr>\n",
       "    <tr>\n",
       "      <th>2</th>\n",
       "      <td>-0.338625</td>\n",
       "      <td>0.148377</td>\n",
       "      <td>-0.077650</td>\n",
       "      <td>-0.134412</td>\n",
       "      <td>0.047867</td>\n",
       "      <td>-0.182348</td>\n",
       "      <td>-0.007760</td>\n",
       "      <td>-0.045206</td>\n",
       "      <td>-0.059833</td>\n",
       "      <td>-0.050904</td>\n",
       "      <td>...</td>\n",
       "      <td>0.043979</td>\n",
       "      <td>-0.013787</td>\n",
       "      <td>-0.055949</td>\n",
       "      <td>-0.035314</td>\n",
       "      <td>-0.003011</td>\n",
       "      <td>0.003662</td>\n",
       "      <td>-0.029128</td>\n",
       "      <td>0.108638</td>\n",
       "      <td>-0.081193</td>\n",
       "      <td>0.017529</td>\n",
       "    </tr>\n",
       "    <tr>\n",
       "      <th>3</th>\n",
       "      <td>0.028331</td>\n",
       "      <td>0.476897</td>\n",
       "      <td>-0.257951</td>\n",
       "      <td>-0.074674</td>\n",
       "      <td>-0.051786</td>\n",
       "      <td>-0.500588</td>\n",
       "      <td>-0.159454</td>\n",
       "      <td>0.087696</td>\n",
       "      <td>0.088431</td>\n",
       "      <td>0.200579</td>\n",
       "      <td>...</td>\n",
       "      <td>-0.747656</td>\n",
       "      <td>0.041722</td>\n",
       "      <td>0.205719</td>\n",
       "      <td>0.239638</td>\n",
       "      <td>0.078862</td>\n",
       "      <td>0.180429</td>\n",
       "      <td>0.370713</td>\n",
       "      <td>0.030365</td>\n",
       "      <td>0.145034</td>\n",
       "      <td>-0.029498</td>\n",
       "    </tr>\n",
       "    <tr>\n",
       "      <th>4</th>\n",
       "      <td>-0.334127</td>\n",
       "      <td>0.142917</td>\n",
       "      <td>-0.038640</td>\n",
       "      <td>-0.115720</td>\n",
       "      <td>0.092119</td>\n",
       "      <td>-0.205978</td>\n",
       "      <td>-0.057621</td>\n",
       "      <td>-0.052584</td>\n",
       "      <td>-0.084572</td>\n",
       "      <td>0.044554</td>\n",
       "      <td>...</td>\n",
       "      <td>0.276830</td>\n",
       "      <td>0.087826</td>\n",
       "      <td>0.048934</td>\n",
       "      <td>-0.376932</td>\n",
       "      <td>-0.105030</td>\n",
       "      <td>0.051523</td>\n",
       "      <td>0.152695</td>\n",
       "      <td>0.014542</td>\n",
       "      <td>-0.078289</td>\n",
       "      <td>0.197228</td>\n",
       "    </tr>\n",
       "    <tr>\n",
       "      <th>5</th>\n",
       "      <td>-0.117623</td>\n",
       "      <td>0.377637</td>\n",
       "      <td>-0.194717</td>\n",
       "      <td>-0.184886</td>\n",
       "      <td>-0.087086</td>\n",
       "      <td>0.403394</td>\n",
       "      <td>-0.572041</td>\n",
       "      <td>-0.026516</td>\n",
       "      <td>-0.118525</td>\n",
       "      <td>0.004584</td>\n",
       "      <td>...</td>\n",
       "      <td>-0.003009</td>\n",
       "      <td>0.056655</td>\n",
       "      <td>0.752017</td>\n",
       "      <td>-0.020626</td>\n",
       "      <td>0.337584</td>\n",
       "      <td>-0.215828</td>\n",
       "      <td>-0.197415</td>\n",
       "      <td>0.102431</td>\n",
       "      <td>-0.034324</td>\n",
       "      <td>-0.237894</td>\n",
       "    </tr>\n",
       "    <tr>\n",
       "      <th>6</th>\n",
       "      <td>-0.290270</td>\n",
       "      <td>0.184811</td>\n",
       "      <td>-0.132350</td>\n",
       "      <td>-0.052194</td>\n",
       "      <td>0.031188</td>\n",
       "      <td>-0.245091</td>\n",
       "      <td>-0.009659</td>\n",
       "      <td>-0.005572</td>\n",
       "      <td>0.120335</td>\n",
       "      <td>-0.069448</td>\n",
       "      <td>...</td>\n",
       "      <td>0.085741</td>\n",
       "      <td>0.007343</td>\n",
       "      <td>-0.019078</td>\n",
       "      <td>0.011036</td>\n",
       "      <td>0.016101</td>\n",
       "      <td>-0.044164</td>\n",
       "      <td>-0.051282</td>\n",
       "      <td>-0.031248</td>\n",
       "      <td>-0.015429</td>\n",
       "      <td>0.006075</td>\n",
       "    </tr>\n",
       "    <tr>\n",
       "      <th>7</th>\n",
       "      <td>-0.337188</td>\n",
       "      <td>0.125138</td>\n",
       "      <td>-0.093540</td>\n",
       "      <td>-0.127865</td>\n",
       "      <td>0.071926</td>\n",
       "      <td>-0.205023</td>\n",
       "      <td>-0.012229</td>\n",
       "      <td>-0.043576</td>\n",
       "      <td>-0.061263</td>\n",
       "      <td>-0.047586</td>\n",
       "      <td>...</td>\n",
       "      <td>0.011105</td>\n",
       "      <td>0.052404</td>\n",
       "      <td>0.005107</td>\n",
       "      <td>-0.054691</td>\n",
       "      <td>0.004132</td>\n",
       "      <td>0.014695</td>\n",
       "      <td>-0.007914</td>\n",
       "      <td>0.049798</td>\n",
       "      <td>-0.076148</td>\n",
       "      <td>0.027238</td>\n",
       "    </tr>\n",
       "    <tr>\n",
       "      <th>8</th>\n",
       "      <td>-0.339927</td>\n",
       "      <td>0.158331</td>\n",
       "      <td>-0.108719</td>\n",
       "      <td>0.250194</td>\n",
       "      <td>0.048905</td>\n",
       "      <td>-0.181299</td>\n",
       "      <td>0.006794</td>\n",
       "      <td>-0.067687</td>\n",
       "      <td>-0.150710</td>\n",
       "      <td>-0.059602</td>\n",
       "      <td>...</td>\n",
       "      <td>0.087829</td>\n",
       "      <td>0.039344</td>\n",
       "      <td>0.027843</td>\n",
       "      <td>0.000770</td>\n",
       "      <td>-0.114117</td>\n",
       "      <td>-0.085585</td>\n",
       "      <td>0.011464</td>\n",
       "      <td>-0.026329</td>\n",
       "      <td>0.016413</td>\n",
       "      <td>-0.027026</td>\n",
       "    </tr>\n",
       "    <tr>\n",
       "      <th>9</th>\n",
       "      <td>-0.331822</td>\n",
       "      <td>0.138421</td>\n",
       "      <td>0.044811</td>\n",
       "      <td>-0.137309</td>\n",
       "      <td>0.061678</td>\n",
       "      <td>-0.173654</td>\n",
       "      <td>-0.012456</td>\n",
       "      <td>-0.031453</td>\n",
       "      <td>-0.082368</td>\n",
       "      <td>0.053460</td>\n",
       "      <td>...</td>\n",
       "      <td>-0.108125</td>\n",
       "      <td>0.206554</td>\n",
       "      <td>0.029959</td>\n",
       "      <td>-0.781493</td>\n",
       "      <td>0.082978</td>\n",
       "      <td>0.391191</td>\n",
       "      <td>0.216442</td>\n",
       "      <td>0.085141</td>\n",
       "      <td>-0.174183</td>\n",
       "      <td>0.005824</td>\n",
       "    </tr>\n",
       "  </tbody>\n",
       "</table>\n",
       "<p>10 rows × 30 columns</p>\n",
       "</div>"
      ],
      "text/plain": [
       "   Dimension 0  Dimension 1  Dimension 2  Dimension 3  Dimension 4  \\\n",
       "0     0.046368     0.786888    -0.231217     4.598311    -0.136251   \n",
       "1    -0.322102     0.156673    -0.120396    -0.137725     0.020574   \n",
       "2    -0.338625     0.148377    -0.077650    -0.134412     0.047867   \n",
       "3     0.028331     0.476897    -0.257951    -0.074674    -0.051786   \n",
       "4    -0.334127     0.142917    -0.038640    -0.115720     0.092119   \n",
       "5    -0.117623     0.377637    -0.194717    -0.184886    -0.087086   \n",
       "6    -0.290270     0.184811    -0.132350    -0.052194     0.031188   \n",
       "7    -0.337188     0.125138    -0.093540    -0.127865     0.071926   \n",
       "8    -0.339927     0.158331    -0.108719     0.250194     0.048905   \n",
       "9    -0.331822     0.138421     0.044811    -0.137309     0.061678   \n",
       "\n",
       "   Dimension 5  Dimension 6  Dimension 7  Dimension 8  Dimension 9  \\\n",
       "0    -0.075393     0.118652     0.139594     0.878143    -0.122852   \n",
       "1    -0.084712     0.064879    -0.040052    -0.026321    -0.012002   \n",
       "2    -0.182348    -0.007760    -0.045206    -0.059833    -0.050904   \n",
       "3    -0.500588    -0.159454     0.087696     0.088431     0.200579   \n",
       "4    -0.205978    -0.057621    -0.052584    -0.084572     0.044554   \n",
       "5     0.403394    -0.572041    -0.026516    -0.118525     0.004584   \n",
       "6    -0.245091    -0.009659    -0.005572     0.120335    -0.069448   \n",
       "7    -0.205023    -0.012229    -0.043576    -0.061263    -0.047586   \n",
       "8    -0.181299     0.006794    -0.067687    -0.150710    -0.059602   \n",
       "9    -0.173654    -0.012456    -0.031453    -0.082368     0.053460   \n",
       "\n",
       "       ...       Dimension 20  Dimension 21  Dimension 22  Dimension 23  \\\n",
       "0      ...           0.063125     -0.108645     -0.152743      0.262823   \n",
       "1      ...           0.105933     -0.050102     -0.074857      0.051545   \n",
       "2      ...           0.043979     -0.013787     -0.055949     -0.035314   \n",
       "3      ...          -0.747656      0.041722      0.205719      0.239638   \n",
       "4      ...           0.276830      0.087826      0.048934     -0.376932   \n",
       "5      ...          -0.003009      0.056655      0.752017     -0.020626   \n",
       "6      ...           0.085741      0.007343     -0.019078      0.011036   \n",
       "7      ...           0.011105      0.052404      0.005107     -0.054691   \n",
       "8      ...           0.087829      0.039344      0.027843      0.000770   \n",
       "9      ...          -0.108125      0.206554      0.029959     -0.781493   \n",
       "\n",
       "   Dimension 24  Dimension 25  Dimension 26  Dimension 27  Dimension 28  \\\n",
       "0      0.647691      0.201593     -0.032836     -0.125419     -0.191826   \n",
       "1      0.038042     -0.130580      0.103019      0.175777      0.117640   \n",
       "2     -0.003011      0.003662     -0.029128      0.108638     -0.081193   \n",
       "3      0.078862      0.180429      0.370713      0.030365      0.145034   \n",
       "4     -0.105030      0.051523      0.152695      0.014542     -0.078289   \n",
       "5      0.337584     -0.215828     -0.197415      0.102431     -0.034324   \n",
       "6      0.016101     -0.044164     -0.051282     -0.031248     -0.015429   \n",
       "7      0.004132      0.014695     -0.007914      0.049798     -0.076148   \n",
       "8     -0.114117     -0.085585      0.011464     -0.026329      0.016413   \n",
       "9      0.082978      0.391191      0.216442      0.085141     -0.174183   \n",
       "\n",
       "   Dimension 29  \n",
       "0     -0.109289  \n",
       "1      0.088462  \n",
       "2      0.017529  \n",
       "3     -0.029498  \n",
       "4      0.197228  \n",
       "5     -0.237894  \n",
       "6      0.006075  \n",
       "7      0.027238  \n",
       "8     -0.027026  \n",
       "9      0.005824  \n",
       "\n",
       "[10 rows x 30 columns]"
      ]
     },
     "metadata": {},
     "output_type": "display_data"
    }
   ],
   "source": [
    "# Exiba a amostra de log-data depois de aplicada a transformação da PCA em duas dimensões\n",
    "display(reduced_data[0:10])"
   ]
  },
  {
   "cell_type": "markdown",
   "metadata": {},
   "source": [
    "## Clustering\n",
    "\n",
    "Nesta seção, os dados serão clusterizados para que sejam definidos grupos com comportamentos em comum. Será utilizado o algoritmo de clustering K-Means. "
   ]
  },
  {
   "cell_type": "code",
   "execution_count": 14,
   "metadata": {
    "collapsed": true
   },
   "outputs": [],
   "source": [
    "from sklearn.cluster import KMeans\n",
    "\n",
    "def make_clusterer(data, number_of_clusters): #função que cria um clusterer e o retorna treinado\n",
    "    \n",
    "    clusterer_test = KMeans(n_clusters=number_of_clusters) #Algorítimo de clusters escolhido: KMeans\n",
    "    clusterer_test.fit(data)\n",
    "    return clusterer_test"
   ]
  },
  {
   "cell_type": "code",
   "execution_count": null,
   "metadata": {
    "collapsed": true
   },
   "outputs": [],
   "source": [
    "# Clusterizando os dados reduzidos em 30 clusters\n",
    "clusterer = make_clusterer(reduced_data, 30) \n",
    "        \n",
    "# Prevendo o cluster para cada ponto de dado\n",
    "preds = clusterer.predict(reduced_data)"
   ]
  },
  {
   "cell_type": "markdown",
   "metadata": {},
   "source": [
    "### Visualização de Clusters\n",
    "Os dados foram clusterizados com 30 dimensões, portanto não há como plotar um gráfico de dispersão com 30 dimensões. Uma forma de se ter uma idéia de como os pontos estão distribuídos entre os segmentos é um gráfico de barras em que cada barra representa a frequência dos pontos para cada segmento.\n",
    "\n",
    "Como a frequência entre os segmentos tem valores discrepantes umas das outras, para melhor visualização do gráfico será utilizada uma escala logarítimica."
   ]
  },
  {
   "cell_type": "code",
   "execution_count": 17,
   "metadata": {},
   "outputs": [
    {
     "data": {
      "image/png": "[encoded data removed]",
      "text/plain": [
       "<matplotlib.figure.Figure at 0x1a1add4c90>"
      ]
     },
     "metadata": {},
     "output_type": "display_data"
    }
   ],
   "source": [
    "labels = clusterer.labels_\n",
    "x_labels =  np.arange(0, (1+labels.max()))\n",
    "freq_labels = np.bincount(labels)\n",
    "log_freq = np.log(freq_labels)\n",
    "plot_bar_graph(log_freq, x_labels, x_label = \"Segmento\", y_label = \"log(frequencia de amostras)\", title = \"Distribuicao das amostras nos segmentos\")"
   ]
  },
  {
   "cell_type": "markdown",
   "metadata": {},
   "source": [
    "### Análise dos segmentos obtidos\n",
    "O gráfico acima representa trinta padrões de comportamentos de veículos durante dois dias. A partir desse ponto, pode-se usar os segmentos para verificar veículos que se comportam de forma parecida. \n",
    "\n",
    "Um segundo conjunto de dados contém veículos com restrições de envolvimento em crimes, como roubo/furto, clonados e proprietários com passagem na polícia. Esse segundo conjunto de dados são dos dias 21 e 22 de setembro de 2017, também uma Quinta e Sexta-feria, porém em dias diferentes do primeiro conjunto de dados. "
   ]
  },
  {
   "cell_type": "code",
   "execution_count": 15,
   "metadata": {},
   "outputs": [
    {
     "name": "stdout",
     "output_type": "stream",
     "text": [
      "Base de dados contém 3761 pontos com 5 características cada.\n"
     ]
    }
   ],
   "source": [
    "try:\n",
    "    data_csv2 = pd.read_csv(\"veiculosrestricao21e22set_trans.csv\")\n",
    "    \n",
    "    print \"Base de dados contém {} pontos com {} características cada.\".format(*data_csv2.shape)\n",
    "except:\n",
    "    print \"Dataset could not be loaded. Is the dataset missing??\""
   ]
  },
  {
   "cell_type": "code",
   "execution_count": 16,
   "metadata": {},
   "outputs": [
    {
     "data": {
      "text/plain": [
       "Index([u'Unnamed: 0', u'placa', u'loc_latitude', u'loc_longitude', u'count'], dtype='object')"
      ]
     },
     "metadata": {},
     "output_type": "display_data"
    }
   ],
   "source": [
    "display(data_csv2.columns)"
   ]
  },
  {
   "cell_type": "code",
   "execution_count": 17,
   "metadata": {
    "scrolled": true
   },
   "outputs": [
    {
     "name": "stdout",
     "output_type": "stream",
     "text": [
      "Foram encontrados 2375 veículos passando por 196 pontos.\n"
     ]
    }
   ],
   "source": [
    "data_csv2['local'] = data_csv2['loc_latitude'].map(str) + \" \" + data_csv2['loc_longitude'].map(str) #cria coluna concatenando latitude e longitude\n",
    "data_csv2.drop(['loc_latitude', 'loc_longitude'], axis = 1, inplace = True)\n",
    "lista_veiculos = set(data_csv2['placa'])\n",
    "lista_locais = set(data_csv2['local'])\n",
    "print \"Foram encontrados {} veículos passando por {} pontos.\" .format(len(lista_veiculos), len(lista_locais))"
   ]
  },
  {
   "cell_type": "code",
   "execution_count": 18,
   "metadata": {},
   "outputs": [
    {
     "data": {
      "text/html": [
       "<div>\n",
       "<style>\n",
       "    .dataframe thead tr:only-child th {\n",
       "        text-align: right;\n",
       "    }\n",
       "\n",
       "    .dataframe thead th {\n",
       "        text-align: left;\n",
       "    }\n",
       "\n",
       "    .dataframe tbody tr th {\n",
       "        vertical-align: top;\n",
       "    }\n",
       "</style>\n",
       "<table border=\"1\" class=\"dataframe\">\n",
       "  <thead>\n",
       "    <tr style=\"text-align: right;\">\n",
       "      <th></th>\n",
       "      <th>Unnamed: 0</th>\n",
       "      <th>placa</th>\n",
       "      <th>count</th>\n",
       "      <th>local</th>\n",
       "    </tr>\n",
       "  </thead>\n",
       "  <tbody>\n",
       "    <tr>\n",
       "      <th>0</th>\n",
       "      <td>1</td>\n",
       "      <td>ODT2896</td>\n",
       "      <td>1</td>\n",
       "      <td>4316 3639</td>\n",
       "    </tr>\n",
       "    <tr>\n",
       "      <th>1</th>\n",
       "      <td>2</td>\n",
       "      <td>ICN7385</td>\n",
       "      <td>1</td>\n",
       "      <td>2403 9277</td>\n",
       "    </tr>\n",
       "    <tr>\n",
       "      <th>2</th>\n",
       "      <td>3</td>\n",
       "      <td>HQX7704</td>\n",
       "      <td>1</td>\n",
       "      <td>1000 833</td>\n",
       "    </tr>\n",
       "    <tr>\n",
       "      <th>3</th>\n",
       "      <td>4</td>\n",
       "      <td>BUI6155</td>\n",
       "      <td>1</td>\n",
       "      <td>2822 0</td>\n",
       "    </tr>\n",
       "    <tr>\n",
       "      <th>4</th>\n",
       "      <td>5</td>\n",
       "      <td>LNB4997</td>\n",
       "      <td>1</td>\n",
       "      <td>3553 9819</td>\n",
       "    </tr>\n",
       "  </tbody>\n",
       "</table>\n",
       "</div>"
      ],
      "text/plain": [
       "   Unnamed: 0    placa  count      local\n",
       "0           1  ODT2896      1  4316 3639\n",
       "1           2  ICN7385      1  2403 9277\n",
       "2           3  HQX7704      1   1000 833\n",
       "3           4  BUI6155      1     2822 0\n",
       "4           5  LNB4997      1  3553 9819"
      ]
     },
     "metadata": {},
     "output_type": "display_data"
    }
   ],
   "source": [
    "display(data_csv2.head(n=5))"
   ]
  },
  {
   "cell_type": "code",
   "execution_count": 19,
   "metadata": {},
   "outputs": [
    {
     "data": {
      "text/html": [
       "<div>\n",
       "<style>\n",
       "    .dataframe thead tr:only-child th {\n",
       "        text-align: right;\n",
       "    }\n",
       "\n",
       "    .dataframe thead th {\n",
       "        text-align: left;\n",
       "    }\n",
       "\n",
       "    .dataframe tbody tr th {\n",
       "        vertical-align: top;\n",
       "    }\n",
       "</style>\n",
       "<table border=\"1\" class=\"dataframe\">\n",
       "  <thead>\n",
       "    <tr style=\"text-align: right;\">\n",
       "      <th></th>\n",
       "      <th>count</th>\n",
       "      <th>local</th>\n",
       "    </tr>\n",
       "    <tr>\n",
       "      <th>placa</th>\n",
       "      <th></th>\n",
       "      <th></th>\n",
       "    </tr>\n",
       "  </thead>\n",
       "  <tbody>\n",
       "    <tr>\n",
       "      <th>ODT2896</th>\n",
       "      <td>1</td>\n",
       "      <td>4316 3639</td>\n",
       "    </tr>\n",
       "    <tr>\n",
       "      <th>ICN7385</th>\n",
       "      <td>1</td>\n",
       "      <td>2403 9277</td>\n",
       "    </tr>\n",
       "    <tr>\n",
       "      <th>HQX7704</th>\n",
       "      <td>1</td>\n",
       "      <td>1000 833</td>\n",
       "    </tr>\n",
       "    <tr>\n",
       "      <th>BUI6155</th>\n",
       "      <td>1</td>\n",
       "      <td>2822 0</td>\n",
       "    </tr>\n",
       "    <tr>\n",
       "      <th>LNB4997</th>\n",
       "      <td>1</td>\n",
       "      <td>3553 9819</td>\n",
       "    </tr>\n",
       "  </tbody>\n",
       "</table>\n",
       "</div>"
      ],
      "text/plain": [
       "         count      local\n",
       "placa                    \n",
       "ODT2896      1  4316 3639\n",
       "ICN7385      1  2403 9277\n",
       "HQX7704      1   1000 833\n",
       "BUI6155      1     2822 0\n",
       "LNB4997      1  3553 9819"
      ]
     },
     "metadata": {},
     "output_type": "display_data"
    }
   ],
   "source": [
    "data_csv2.set_index(['placa'], inplace = True)\n",
    "data_csv2.drop(['Unnamed: 0'], axis=1, inplace = True)\n",
    "display(data_csv2.head(n=5))"
   ]
  },
  {
   "cell_type": "code",
   "execution_count": 20,
   "metadata": {},
   "outputs": [
    {
     "data": {
      "text/plain": [
       "(3761, 2)"
      ]
     },
     "metadata": {},
     "output_type": "display_data"
    },
    {
     "data": {
      "text/plain": [
       "2375"
      ]
     },
     "metadata": {},
     "output_type": "display_data"
    }
   ],
   "source": [
    "display(data_csv2.shape)\n",
    "display(len(set(data_csv2.index)))"
   ]
  },
  {
   "cell_type": "code",
   "execution_count": 21,
   "metadata": {
    "scrolled": true
   },
   "outputs": [
    {
     "data": {
      "text/plain": [
       "(2375, 196)"
      ]
     },
     "metadata": {},
     "output_type": "display_data"
    }
   ],
   "source": [
    "#Criação de tabela prévia para receber os dados de veículos por locais\n",
    "data_restricao_prev = create_df_placaporpontos(data_csv2, 'local')\n",
    "display(data_restricao_prev.shape)"
   ]
  },
  {
   "cell_type": "markdown",
   "metadata": {},
   "source": [
    "Este segundo conjunto de dados contem 196 pontos de controle de veículo, porém para comparar a rota desses veículos com os padrões ja definidos anteriormente, serão considerados somente os 135 pontos de controle utilizados antecoriormente.\n",
    "\n",
    "O bloco abaixo faz esse ajuste de características."
   ]
  },
  {
   "cell_type": "code",
   "execution_count": 22,
   "metadata": {},
   "outputs": [
    {
     "name": "stdout",
     "output_type": "stream",
     "text": [
      "196\n",
      "67\n"
     ]
    }
   ],
   "source": [
    "# Encontra as colunas que nao foram treinadas com o conjunto principal de dados\n",
    "colunas_nao_treinadas = list(data_restricao_prev.columns)\n",
    "print len(colunas_nao_treinadas)\n",
    "\n",
    "for loc in data.columns:\n",
    "    if loc in colunas_nao_treinadas:\n",
    "        colunas_nao_treinadas.remove(loc)\n",
    "print len(colunas_nao_treinadas)"
   ]
  },
  {
   "cell_type": "code",
   "execution_count": 23,
   "metadata": {},
   "outputs": [
    {
     "data": {
      "text/plain": [
       "(2375, 129)"
      ]
     },
     "metadata": {},
     "output_type": "display_data"
    }
   ],
   "source": [
    "#Retira as colunas não treinadas \n",
    "data_restricao = data_restricao_prev.drop(colunas_nao_treinadas, axis = 1)\n",
    "display(data_restricao.shape)"
   ]
  },
  {
   "cell_type": "markdown",
   "metadata": {},
   "source": [
    "Agora que as colunas não treinadas foram retiradas do novo data frame, é necessário incluir as colunas que estão contidas nos dados principais e não estão neste segundo conjunto, a fim de que os dados tenham as mesmas características e possam ser comparados."
   ]
  },
  {
   "cell_type": "code",
   "execution_count": 24,
   "metadata": {},
   "outputs": [
    {
     "name": "stdout",
     "output_type": "stream",
     "text": [
      "['0 9999', '4111 7000', '9556 4000', '9999 9999', '6967 2919', '6000 6194']\n"
     ]
    }
   ],
   "source": [
    "colunas_faltantes = list()\n",
    "for c in data.columns:\n",
    "    if c in data_restricao.columns:\n",
    "        None\n",
    "    else:\n",
    "        colunas_faltantes.append(c)\n",
    "print colunas_faltantes"
   ]
  },
  {
   "cell_type": "code",
   "execution_count": 25,
   "metadata": {},
   "outputs": [
    {
     "name": "stdout",
     "output_type": "stream",
     "text": [
      "Tamanho final do data frame:\n"
     ]
    },
    {
     "data": {
      "text/plain": [
       "(2375, 135)"
      ]
     },
     "metadata": {},
     "output_type": "display_data"
    }
   ],
   "source": [
    "colunas_faltantes_frame = np.zeros(shape=(len(data_restricao.index),len(colunas_faltantes)))\n",
    "colunas_faltantes_df=pd.DataFrame(colunas_faltantes_frame, index = data_restricao.index, columns=[colunas_faltantes])\n",
    "data_restricao=pd.concat([data_restricao, colunas_faltantes_df], axis=1)\n",
    "print \"Tamanho final do data frame:\" \n",
    "display(data_restricao.shape)\n",
    "data_restricao.fillna(0, inplace = True)"
   ]
  },
  {
   "cell_type": "markdown",
   "metadata": {},
   "source": [
    "O conjunto de dados de veículos com restrição possui veículos de outras localidades, por esse motivo que haviam as colunas a mais que foram retiradas. Agora, é necessário retirar do data frame os veículos que não passaram por nenhum ponto de monitoramento treinado."
   ]
  },
  {
   "cell_type": "code",
   "execution_count": 26,
   "metadata": {
    "collapsed": true
   },
   "outputs": [],
   "source": [
    "#removendo os veículos que nao passaram por nenhum ponto treinado\n",
    "data_restricao = data_restricao.loc[(data_restricao!=0).any(axis=1)]"
   ]
  },
  {
   "cell_type": "code",
   "execution_count": 27,
   "metadata": {},
   "outputs": [
    {
     "name": "stdout",
     "output_type": "stream",
     "text": [
      "O data frame final possui 2068 veículos passando nos 135 pontos treinados\n"
     ]
    }
   ],
   "source": [
    "print \"O data frame final possui {} veículos passando nos {} pontos treinados\" .format(*data_restricao.shape)"
   ]
  },
  {
   "cell_type": "markdown",
   "metadata": {},
   "source": [
    "Transformando as dimensões de data_restrição nas dimensões PCA treinadas anteriormente"
   ]
  },
  {
   "cell_type": "code",
   "execution_count": 29,
   "metadata": {
    "collapsed": true
   },
   "outputs": [],
   "source": [
    "data_restricao_pca = pca.transform(data_restricao) #aplica PCA\n",
    "data_restricao_pca = pd.DataFrame(data_restricao_pca, columns = pca_dimensions) #coloca os dados em um DataFrame"
   ]
  },
  {
   "cell_type": "code",
   "execution_count": null,
   "metadata": {
    "collapsed": true
   },
   "outputs": [],
   "source": [
    "data_restricao_pred = clusterer.predict(data_restricao_pca) #predição dos dados nos clusteres treinados\n",
    "freq_restricao = np.bincount(data_restricao_pred) #distribuição de frequência de cada cluster para veículos com restrição\n",
    "log_freq_restricao = np.log(freq_restricao)"
   ]
  },
  {
   "cell_type": "markdown",
   "metadata": {},
   "source": [
    "### Comparando os dados\n",
    "Agora que os veículos com restrição foram divididos nos segmentos de veículos calculados anteriormente, será verificado como eles se distribuem nos segmentos.\n",
    "Em azul será plotado os veículos em geral, em vermelho os veículos com restrição. É importante lembrar que a escala utilizada com o gráfico não é decimal, e sim logarítimica."
   ]
  },
  {
   "cell_type": "code",
   "execution_count": 30,
   "metadata": {
    "collapsed": true
   },
   "outputs": [],
   "source": [
    "def plot_thwo_bars_graph(a, b, x_label = \"\", y_label = \"\", title = \"\"):\n",
    "    import numpy as np\n",
    "    import matplotlib.pyplot as plt\n",
    "\n",
    "    x_a = range(len(a))\n",
    "    x_b = range(len(b))\n",
    "    width = 1/1.5\n",
    "    fig, ax = plt.subplots()\n",
    "    rect_a = ax.bar(x_a, a, width, color='b')\n",
    "    rect_b = ax.bar(x_b, b, width, color='r')\n",
    "    plt.grid(True)\n",
    "    plt.xlabel(x_label)\n",
    "    plt.ylabel(y_label)\n",
    "    plt.title(title)\n",
    "    plt.show()\n",
    "    return None"
   ]
  },
  {
   "cell_type": "code",
   "execution_count": 70,
   "metadata": {},
   "outputs": [
    {
     "data": {
      "image/png": "[encoded data removed]",
      "text/plain": [
       "<matplotlib.figure.Figure at 0x1a1ae1d150>"
      ]
     },
     "metadata": {},
     "output_type": "display_data"
    }
   ],
   "source": [
    "plot_thwo_bars_graph(log_freq, log_freq_restricao, title = \"Comparativo veiculos geral e veiculos com restricao por segmento\", y_label = \"log\", x_label = \"Segmentos\")"
   ]
  },
  {
   "cell_type": "code",
   "execution_count": 71,
   "metadata": {},
   "outputs": [
    {
     "name": "stdout",
     "output_type": "stream",
     "text": [
      "(30,)\n",
      "(30,)\n"
     ]
    }
   ],
   "source": [
    "# verificando o tamanho de cada array\n",
    "print freq_restricao.shape\n",
    "print freq_labels.shape"
   ]
  },
  {
   "cell_type": "markdown",
   "metadata": {},
   "source": [
    "### Calculando a taxa de veículos com restrição em cada segmento\n",
    "\n",
    "Será calculado a porcentagem da frequência dos veículos com restrição com relação aos veículos gerais."
   ]
  },
  {
   "cell_type": "code",
   "execution_count": 72,
   "metadata": {
    "collapsed": true
   },
   "outputs": [],
   "source": [
    "#a = freq_labels.shape[0]-freq_restricao.shape[0]\n",
    "#freq_restricao = np.append(freq_restricao, np.zeros(a))"
   ]
  },
  {
   "cell_type": "code",
   "execution_count": 73,
   "metadata": {
    "collapsed": true
   },
   "outputs": [],
   "source": [
    "x=freq_restricao.astype(float)\n",
    "restricao_ratio=np.divide(x,freq_labels)"
   ]
  },
  {
   "cell_type": "code",
   "execution_count": 74,
   "metadata": {},
   "outputs": [
    {
     "data": {
      "image/png": "[encoded data removed]",
      "text/plain": [
       "<matplotlib.figure.Figure at 0x110ea7610>"
      ]
     },
     "metadata": {},
     "output_type": "display_data"
    }
   ],
   "source": [
    "plot_bar_graph(restricao_ratio, x_labels, cor='red', x_label = \"Segmentos\", y_label = \"\", title = \"Taxa de veiculos com restricao em cada segmento\")"
   ]
  },
  {
   "cell_type": "code",
   "execution_count": 70,
   "metadata": {
    "collapsed": true
   },
   "outputs": [],
   "source": [
    "def make_score(freq_target, freq_labels):\n",
    "    a = freq_labels.shape[0]-freq_target.shape[0]\n",
    "    freq_target = np.append(freq_target, np.zeros(a))\n",
    "  \n",
    "    target_ratio=np.divide(freq_target.astype(float), freq_labels)\n",
    "    score = np.multiply(target_ratio, freq_target)\n",
    "    max_score=np.max(score)\n",
    "    \n",
    "    return max_score"
   ]
  },
  {
   "cell_type": "code",
   "execution_count": 78,
   "metadata": {},
   "outputs": [
    {
     "name": "stdout",
     "output_type": "stream",
     "text": [
      "A maior taxa foi de 0.00516380759483 no Segmento 2.\n",
      "O score para essa clusterização é 10.3741.\n"
     ]
    }
   ],
   "source": [
    "print \"A maior taxa foi de {} no Segmento {}.\" .format(np.max(restricao_ratio), np.argmax(restricao_ratio))\n",
    "score=make_score(freq_restricao,freq_labels)\n",
    "print \"O score para essa clusterização é {:.4f}.\" .format(score)"
   ]
  },
  {
   "cell_type": "markdown",
   "metadata": {},
   "source": [
    "### Otimização\n",
    "Será buscado agora uma clusterização que maximize o Score."
   ]
  },
  {
   "cell_type": "code",
   "execution_count": 268,
   "metadata": {
    "collapsed": true
   },
   "outputs": [],
   "source": [
    "def test_n_clusters(data, data_target, n_clusters):\n",
    "    \n",
    "    max_ratio = 0\n",
    "\n",
    "    clusterer = make_clusterer(data, n_clusters) #clusterização\n",
    "    labels = clusterer.labels_\n",
    "    freq_labels = np.bincount(labels)\n",
    "        \n",
    "    data_target_pred = clusterer.predict(data_target) #predição dos dados alvo nos clusteres treinados\n",
    "    freq_target = np.bincount(data_target_pred) #distribuição de frequência por clusters dos dados alvo\n",
    "      \n",
    "    score = make_score(freq_target, freq_labels)\n",
    "        \n",
    "    return (score, clusterer)"
   ]
  },
  {
   "cell_type": "code",
   "execution_count": 88,
   "metadata": {
    "collapsed": true
   },
   "outputs": [],
   "source": [
    "def test_range_of_clusters(data, data_target, range_of_clusters):\n",
    "    \n",
    "    score_per_n_clusters = dict()\n",
    "    max_score = 0\n",
    "\n",
    "    for n in range_of_clusters:\n",
    "        (score_per_n_clusters[n], clusterer) = test_n_clusters(reduced_data, data_restricao_pca, n)\n",
    "        print \"Para {} segmentos, Score = {}\" .format(n, score_per_n_clusters[n])\n",
    "        \n",
    "        if max_score < score_per_n_clusters[n]:\n",
    "            best_clusterer = clusterer\n",
    "            max_score = score_per_n_clusters[n]\n",
    "    \n",
    "    return (score_per_n_clusters, best_clusterer)"
   ]
  },
  {
   "cell_type": "code",
   "execution_count": 89,
   "metadata": {},
   "outputs": [
    {
     "name": "stdout",
     "output_type": "stream",
     "text": [
      "Testando as clusterizações: [10, 20, 40, 50, 60, 70, 80, 90, 100]\n",
      "Para 10 segmentos, Score = 8.55316367845\n",
      "Para 20 segmentos, Score = 9.46419482842\n",
      "Para 40 segmentos, Score = 10.9924953096\n",
      "Para 50 segmentos, Score = 10.9900282293\n",
      "Para 60 segmentos, Score = 12.0521528726\n",
      "Para 70 segmentos, Score = 11.3382518369\n",
      "Para 80 segmentos, Score = 12.1896617341\n",
      "Para 90 segmentos, Score = 12.6171970908\n",
      "Para 100 segmentos, Score = 12.2236953489\n"
     ]
    }
   ],
   "source": [
    "range_of_clusters1=range(10, 101, 10) #Numeros de clusters a serem testados\n",
    "range_of_clusters1.remove(30) #Removendo a clusterização que já foi testada anteriormente\n",
    "print \"Testando as clusterizações: {}\" .format(range_of_clusters1)\n",
    "(score_range1, best_clusterer1) = test_range_of_clusters(reduced_data, data_restricao_pca, range_of_clusters1)"
   ]
  },
  {
   "cell_type": "code",
   "execution_count": 150,
   "metadata": {},
   "outputs": [
    {
     "name": "stdout",
     "output_type": "stream",
     "text": [
      "Testando as clusterizações: [110, 120, 130, 140, 150]\n",
      "Para 110 segmentos, Score = 11.8894258651\n",
      "Para 120 segmentos, Score = 12.0624076745\n",
      "Para 130 segmentos, Score = 11.3405010546\n",
      "Para 140 segmentos, Score = 10.5466315693\n",
      "Para 150 segmentos, Score = 12.2641370669\n"
     ]
    }
   ],
   "source": [
    "range_of_clusters2=range(110, 151, 10) #Numeros de clusters a serem testados\n",
    "print \"Testando as clusterizações: {}\" .format(range_of_clusters2)\n",
    "(score_range2, best_clusterer2) = test_range_of_clusters(reduced_data, data_restricao_pca, range_of_clusters2)"
   ]
  },
  {
   "cell_type": "code",
   "execution_count": 154,
   "metadata": {},
   "outputs": [
    {
     "name": "stdout",
     "output_type": "stream",
     "text": [
      "Testando as clusterizações: [88 89 91 93]\n",
      "Para 88 segmentos, Score = 11.9591641471\n",
      "Para 89 segmentos, Score = 12.1922626026\n",
      "Para 91 segmentos, Score = 11.8714149878\n",
      "Para 93 segmentos, Score = 11.3888944273\n"
     ]
    }
   ],
   "source": [
    "range_of_clusters3=np.append(range(88, 90), (91,93)) #Numeros de clusters a serem testados\n",
    "print \"Testando as clusterizações: {}\" .format(range_of_clusters3)\n",
    "(score_range3, best_clusterer3) = test_range_of_clusters(reduced_data, data_restricao_pca, range_of_clusters3)"
   ]
  },
  {
   "cell_type": "code",
   "execution_count": 162,
   "metadata": {},
   "outputs": [
    {
     "data": {
      "text/html": [
       "<div>\n",
       "<style>\n",
       "    .dataframe thead tr:only-child th {\n",
       "        text-align: right;\n",
       "    }\n",
       "\n",
       "    .dataframe thead th {\n",
       "        text-align: left;\n",
       "    }\n",
       "\n",
       "    .dataframe tbody tr th {\n",
       "        vertical-align: top;\n",
       "    }\n",
       "</style>\n",
       "<table border=\"1\" class=\"dataframe\">\n",
       "  <thead>\n",
       "    <tr style=\"text-align: right;\">\n",
       "      <th></th>\n",
       "      <th>score</th>\n",
       "    </tr>\n",
       "  </thead>\n",
       "  <tbody>\n",
       "    <tr>\n",
       "      <th>10</th>\n",
       "      <td>8.553164</td>\n",
       "    </tr>\n",
       "    <tr>\n",
       "      <th>20</th>\n",
       "      <td>9.464195</td>\n",
       "    </tr>\n",
       "    <tr>\n",
       "      <th>40</th>\n",
       "      <td>10.992495</td>\n",
       "    </tr>\n",
       "    <tr>\n",
       "      <th>50</th>\n",
       "      <td>10.990028</td>\n",
       "    </tr>\n",
       "    <tr>\n",
       "      <th>60</th>\n",
       "      <td>12.052153</td>\n",
       "    </tr>\n",
       "    <tr>\n",
       "      <th>70</th>\n",
       "      <td>11.338252</td>\n",
       "    </tr>\n",
       "    <tr>\n",
       "      <th>80</th>\n",
       "      <td>12.189662</td>\n",
       "    </tr>\n",
       "    <tr>\n",
       "      <th>90</th>\n",
       "      <td>12.617197</td>\n",
       "    </tr>\n",
       "    <tr>\n",
       "      <th>100</th>\n",
       "      <td>12.223695</td>\n",
       "    </tr>\n",
       "    <tr>\n",
       "      <th>110</th>\n",
       "      <td>11.889426</td>\n",
       "    </tr>\n",
       "    <tr>\n",
       "      <th>120</th>\n",
       "      <td>12.062408</td>\n",
       "    </tr>\n",
       "    <tr>\n",
       "      <th>130</th>\n",
       "      <td>11.340501</td>\n",
       "    </tr>\n",
       "    <tr>\n",
       "      <th>140</th>\n",
       "      <td>10.546632</td>\n",
       "    </tr>\n",
       "    <tr>\n",
       "      <th>150</th>\n",
       "      <td>12.264137</td>\n",
       "    </tr>\n",
       "    <tr>\n",
       "      <th>88</th>\n",
       "      <td>11.959164</td>\n",
       "    </tr>\n",
       "    <tr>\n",
       "      <th>89</th>\n",
       "      <td>12.192263</td>\n",
       "    </tr>\n",
       "    <tr>\n",
       "      <th>91</th>\n",
       "      <td>11.871415</td>\n",
       "    </tr>\n",
       "    <tr>\n",
       "      <th>93</th>\n",
       "      <td>11.388894</td>\n",
       "    </tr>\n",
       "    <tr>\n",
       "      <th>30</th>\n",
       "      <td>10.374089</td>\n",
       "    </tr>\n",
       "  </tbody>\n",
       "</table>\n",
       "</div>"
      ],
      "text/plain": [
       "         score\n",
       "10    8.553164\n",
       "20    9.464195\n",
       "40   10.992495\n",
       "50   10.990028\n",
       "60   12.052153\n",
       "70   11.338252\n",
       "80   12.189662\n",
       "90   12.617197\n",
       "100  12.223695\n",
       "110  11.889426\n",
       "120  12.062408\n",
       "130  11.340501\n",
       "140  10.546632\n",
       "150  12.264137\n",
       "88   11.959164\n",
       "89   12.192263\n",
       "91   11.871415\n",
       "93   11.388894\n",
       "30   10.374089"
      ]
     },
     "metadata": {},
     "output_type": "display_data"
    }
   ],
   "source": [
    "score_per_clustering=pd.concat([pd.DataFrame([score_range1]), pd.DataFrame([score_range2]), pd.DataFrame([score_range3])], axis=1)\n",
    "score_per_clustering=score_per_clustering.T\n",
    "score_per_clustering = score_per_clustering.rename(columns = {0:'score'})\n",
    "score_per_clustering.loc[30] = score #Score calculado anteriormente para 30 clusteres\n",
    "display(score_per_clustering)"
   ]
  },
  {
   "cell_type": "code",
   "execution_count": 163,
   "metadata": {},
   "outputs": [
    {
     "name": "stdout",
     "output_type": "stream",
     "text": [
      "Melhor ajuste encontrado foi com 90 clusters, que atingiu um score de 12.6171970908.\n"
     ]
    },
    {
     "data": {
      "image/png": "[encoded data removed]",
      "text/plain": [
       "<matplotlib.figure.Figure at 0x1a184a4750>"
      ]
     },
     "metadata": {},
     "output_type": "display_data"
    }
   ],
   "source": [
    "plot_bar_graph(score_per_clustering['score'], score_per_clustering.index, cor='green', x_label = \"numero de clusters\", y_label = \"Score\", title = \"Score por numero de clusters\")\n",
    "print \"Melhor ajuste encontrado foi com {} clusters, que atingiu um score de {}.\" .format(score_per_clustering['score'].idxmax(), score_per_clustering['score'].max())"
   ]
  },
  {
   "cell_type": "code",
   "execution_count": 173,
   "metadata": {
    "scrolled": true
   },
   "outputs": [
    {
     "name": "stderr",
     "output_type": "stream",
     "text": [
      "/Users/tamara/anaconda2/lib/python2.7/site-packages/ipykernel_launcher.py:17: RuntimeWarning: divide by zero encountered in log\n"
     ]
    },
    {
     "data": {
      "image/png": "[encoded data removed]",
      "text/plain": [
       "<matplotlib.figure.Figure at 0x1a1835e6d0>"
      ]
     },
     "metadata": {},
     "output_type": "display_data"
    }
   ],
   "source": [
    "#Melhor clusterer: best_clusterer\n",
    "best_clusterer = best_clusterer1\n",
    "best_labels = best_clusterer.labels_\n",
    "best_freq_labels = np.bincount(best_labels)\n",
    "        \n",
    "best_data_restricao_pred = best_clusterer.predict(data_restricao_pca) #predição dos dados alvo nos clusteres treinados\n",
    "best_freq_restricao = np.bincount(best_data_restricao_pred) #distribuição de frequência por clusters dos dados alvo\n",
    "        \n",
    "a = best_freq_labels.shape[0] - best_freq_restricao.shape[0]        #ajusta o tamanho de vest_freq_resticao\n",
    "best_freq_restricao = np.append(best_freq_restricao, np.zeros(a))   #ao tamanho de best_freq_labels\n",
    "\n",
    "best_restricao_ratio=np.divide(best_freq_restricao.astype(float),best_freq_labels)\n",
    "best_restricao_score = np.multiply(best_freq_restricao, best_restricao_ratio)\n",
    "perc_max_restricao=100*best_freq_restricao[np.argmax(best_freq_restricao)]/np.sum(best_freq_restricao)\n",
    "\n",
    "log_best_freq = np.log(best_freq_labels)\n",
    "log_best_freq_restricao = np.log(best_freq_restricao)\n",
    "\n",
    "x_best_labels =  np.arange(0, (1+best_labels.max()))\n",
    "\n",
    "plot_thwo_bars_graph(log_best_freq, log_best_freq_restricao, title = \"Comparativo veiculos geral e veiculos com restricao por segmento\", y_label = \"log\", x_label = \"Segmentos\")"
   ]
  },
  {
   "cell_type": "code",
   "execution_count": 261,
   "metadata": {},
   "outputs": [
    {
     "name": "stdout",
     "output_type": "stream",
     "text": [
      "O Segmento 18 é o segmento com maior taxa de veículos com restricao, 0.0081\n"
     ]
    },
    {
     "data": {
      "image/png": "[encoded data removed]",
      "text/plain": [
       "<matplotlib.figure.Figure at 0x1a1baaac90>"
      ]
     },
     "metadata": {},
     "output_type": "display_data"
    }
   ],
   "source": [
    "plot_bar_graph(best_restricao_ratio, x_best_labels, cor='red', x_label = \"Segmentos\", y_label = \"\", title = \"Taxa de veiculos com restricao em cada segmento\")\n",
    "print \"O Segmento {} é o segmento com maior taxa de veículos com restricao, {:.4f}\" .format(np.argmax(best_restricao_ratio), np.max(best_restricao_ratio))"
   ]
  },
  {
   "cell_type": "code",
   "execution_count": 262,
   "metadata": {},
   "outputs": [
    {
     "name": "stdout",
     "output_type": "stream",
     "text": [
      "O Segmento 18 é o segmento com maior score, 12.6172.\n",
      "Esse seguimento possui 75.63% dos veículos com restricao\n"
     ]
    },
    {
     "data": {
      "image/png": "[encoded data removed]",
      "text/plain": [
       "<matplotlib.figure.Figure at 0x1a19f07d50>"
      ]
     },
     "metadata": {},
     "output_type": "display_data"
    }
   ],
   "source": [
    "plot_bar_graph(best_restricao_score, x_best_labels, cor='green', x_label = \"Segmentos\", y_label = \"\", title = \"Score em cada segmento\")\n",
    "print \"O Segmento {} é o segmento com maior score, {:.4f}.\" .format(np.argmax(best_restricao_score), np.max(best_restricao_score))\n",
    "print \"Esse seguimento possui {:.2f}% dos veículos com restricao\" .format(perc_max_restricao)"
   ]
  },
  {
   "cell_type": "code",
   "execution_count": 263,
   "metadata": {},
   "outputs": [
    {
     "name": "stdout",
     "output_type": "stream",
     "text": [
      "O segmento 18 representa 31.33% dos veículos em geral.\n"
     ]
    }
   ],
   "source": [
    "perc_max_labels=100*best_freq_labels[np.argmax(best_freq_restricao)].astype(float)/np.sum(best_freq_labels)\n",
    "print \"O segmento {} representa {:.2f}% dos veículos em geral.\" .format(np.argmax(best_freq_restricao), perc_max_labels)\n"
   ]
  },
  {
   "cell_type": "markdown",
   "metadata": {},
   "source": [
    "### Benchmark\n",
    "O Critério de pontuação até agora utilizado será comparado com a pontuação de silhuetta, de sklearn.metrics.silhoete_score"
   ]
  },
  {
   "cell_type": "code",
   "execution_count": 35,
   "metadata": {
    "collapsed": true
   },
   "outputs": [],
   "source": [
    "from sklearn.cluster import KMeans\n",
    "from sklearn.metrics import silhouette_score\n",
    "\n",
    "def get_sil_score(data, number_of_clusters): #função que retorna a pontuação silhoueta dado o número de clusters\n",
    "    clusterer = make_clusterer(data, number_of_clusters)\n",
    "    preds = clusterer.predict(data)\n",
    "    score = silhouette_score(data, preds)\n",
    "    return (score, clusterer)ac"
   ]
  },
  {
   "cell_type": "code",
   "execution_count": 43,
   "metadata": {
    "collapsed": true
   },
   "outputs": [],
   "source": [
    "def test_range_sil_score(range_sil_score):\n",
    "    best_sil_score = 0\n",
    "    best_n_clusters_sil = 0\n",
    "    for n_clusters in range_sil_score: #loop que testa e exibe o silhouette para 2 a 10 clusters\n",
    "        (sil_score, clusterer_sil) = get_sil_score(reduced_data_sample, n_clusters)\n",
    "        print \"Silhouette Score = {:.4f} para {} clusters\"  .format(sil_score, n_clusters)\n",
    "        if sil_score > best_sil_score: #Verifica se a pontuação atual é a melhor até agora\n",
    "            best_sil_score = sil_score #armazena e melhor pontuação\n",
    "            best_n_clusters_sil = n_clusters #armazena o melhor número de clusters\n",
    "            best_clusterer_sil = clusterer_sil\n",
    "\n",
    "    print \"Os dados foram melhor clusterizados em {} clusters.\" .format(best_n_clusters_sil)\n",
    "    \n",
    "    return(best_clusterer_sil)"
   ]
  },
  {
   "cell_type": "code",
   "execution_count": 55,
   "metadata": {},
   "outputs": [
    {
     "data": {
      "text/plain": [
       "(6188, 30)"
      ]
     },
     "metadata": {},
     "output_type": "display_data"
    }
   ],
   "source": [
    "reduced_data_sample = reduced_data.sample(frac=0.01)\n",
    "display(reduced_data_sample.shape)"
   ]
  },
  {
   "cell_type": "code",
   "execution_count": 56,
   "metadata": {
    "scrolled": true
   },
   "outputs": [
    {
     "name": "stdout",
     "output_type": "stream",
     "text": [
      "Silhouette Score = 0.6291 para 2 clusters\n",
      "Silhouette Score = 0.4245 para 7 clusters\n",
      "Silhouette Score = 0.3753 para 12 clusters\n",
      "Os dados foram melhor clusterizados em 2 clusters.\n"
     ]
    }
   ],
   "source": [
    "best_clusterer_sil1 = test_range_sil_score(range(2,15,5))"
   ]
  },
  {
   "cell_type": "code",
   "execution_count": 58,
   "metadata": {},
   "outputs": [
    {
     "name": "stdout",
     "output_type": "stream",
     "text": [
      "Silhouette Score = 0.6156 para 3 clusters\n",
      "Silhouette Score = 0.4677 para 4 clusters\n",
      "Silhouette Score = 0.4734 para 5 clusters\n",
      "Silhouette Score = 0.4731 para 6 clusters\n",
      "Os dados foram melhor clusterizados em 3 clusters.\n"
     ]
    }
   ],
   "source": [
    "best_clusterer_sil2 = test_range_sil_score(range(3,7))"
   ]
  },
  {
   "cell_type": "code",
   "execution_count": 66,
   "metadata": {},
   "outputs": [
    {
     "data": {
      "image/png": "[encoded data removed]",
      "text/plain": [
       "<matplotlib.figure.Figure at 0x24b4fda0>"
      ]
     },
     "metadata": {},
     "output_type": "display_data"
    }
   ],
   "source": [
    "#Melhor clusterer: best_clusterer\n",
    "best_clusterer_sil = best_clusterer_sil1\n",
    "best_labels_sil = best_clusterer_sil.predict(reduced_data)\n",
    "best_freq_labels_sil = np.bincount(best_labels_sil)\n",
    "        \n",
    "best_data_restricao_pred_sil = best_clusterer_sil.predict(data_restricao_pca) #predição dos dados alvo nos clusteres treinados\n",
    "best_freq_restricao_sil = np.bincount(best_data_restricao_pred_sil) #distribuição de frequência por clusters dos dados alvo\n",
    "        \n",
    "a = best_freq_labels_sil.shape[0] - best_freq_restricao_sil.shape[0]        #ajusta o tamanho de vest_freq_resticao\n",
    "best_freq_restricao_sil = np.append(best_freq_restricao_sil, np.zeros(a))   #ao tamanho de best_freq_labels\n",
    "\n",
    "best_restricao_ratio_sil=np.divide(best_freq_restricao_sil.astype(float),best_freq_labels_sil)\n",
    "best_restricao_score_sil = np.multiply(best_freq_restricao_sil, best_restricao_ratio_sil)\n",
    "perc_max_restricao_sil=100*best_freq_restricao_sil[np.argmax(best_freq_restricao_sil)]/np.sum(best_freq_restricao_sil)\n",
    "\n",
    "log_best_freq_sil = np.log(best_freq_labels_sil)\n",
    "log_best_freq_restricao_sil = np.log(best_freq_restricao_sil)\n",
    "\n",
    "x_best_labels =  np.arange(0, (1+best_labels_sil.max()))\n",
    "\n",
    "plot_thwo_bars_graph(log_best_freq_sil, log_best_freq_restricao_sil, title = \"Comparativo veiculos geral e veiculos com restricao por segmento\", y_label = \"log\", x_label = \"Segmentos\")"
   ]
  },
  {
   "cell_type": "code",
   "execution_count": 67,
   "metadata": {},
   "outputs": [
    {
     "name": "stdout",
     "output_type": "stream",
     "text": [
      "O Segmento 1 é o segmento com maior taxa de veículos com restricao, 0.0035\n"
     ]
    },
    {
     "data": {
      "image/png": "[encoded data removed]",
      "text/plain": [
       "<matplotlib.figure.Figure at 0x245ce908>"
      ]
     },
     "metadata": {},
     "output_type": "display_data"
    }
   ],
   "source": [
    "plot_bar_graph(best_restricao_ratio_sil, x_best_labels, cor='red', x_label = \"Segmentos\", y_label = \"\", title = \"Taxa de veiculos com restricao em cada segmento\")\n",
    "print \"O Segmento {} é o segmento com maior taxa de veículos com restricao, {:.4f}\" .format(np.argmax(best_restricao_ratio_sil), np.max(best_restricao_ratio_sil))"
   ]
  },
  {
   "cell_type": "code",
   "execution_count": 68,
   "metadata": {},
   "outputs": [
    {
     "name": "stdout",
     "output_type": "stream",
     "text": [
      "O Segmento 1 é o segmento com maior score, 7.2666.\n",
      "Esse seguimento possui 99.85% dos veículos com restricao\n"
     ]
    },
    {
     "data": {
      "image/png": "[encoded data removed]",
      "text/plain": [
       "<matplotlib.figure.Figure at 0x33de5400>"
      ]
     },
     "metadata": {},
     "output_type": "display_data"
    }
   ],
   "source": [
    "plot_bar_graph(best_restricao_score_sil, x_best_labels, cor='green', x_label = \"Segmentos\", y_label = \"\", title = \"Score em cada segmento\")\n",
    "print \"O Segmento {} é o segmento com maior score, {:.4f}.\" .format(np.argmax(best_restricao_score_sil), np.max(best_restricao_score_sil))\n",
    "print \"Esse seguimento possui {:.2f}% dos veículos com restricao\" .format(perc_max_restricao_sil)"
   ]
  },
  {
   "cell_type": "code",
   "execution_count": 69,
   "metadata": {},
   "outputs": [
    {
     "name": "stdout",
     "output_type": "stream",
     "text": [
      "O segmento 1 representa 94.84% dos veículos em geral.\n"
     ]
    }
   ],
   "source": [
    "perc_max_labels_sil=100*best_freq_labels_sil[np.argmax(best_freq_restricao_sil)].astype(float)/np.sum(best_freq_labels_sil)\n",
    "print \"O segmento {} representa {:.2f}% dos veículos em geral.\" .format(np.argmax(best_freq_restricao_sil), perc_max_labels_sil)"
   ]
  },
  {
   "cell_type": "markdown",
   "metadata": {},
   "source": [
    "### Validação"
   ]
  },
  {
   "cell_type": "code",
   "execution_count": 248,
   "metadata": {},
   "outputs": [
    {
     "name": "stdout",
     "output_type": "stream",
     "text": [
      "Base de dados contém 3939 passagens com 5 características cada.\n"
     ]
    }
   ],
   "source": [
    "try:\n",
    "    data_csv3 = pd.read_csv(\"veiculosrestricao12e13out_trans.csv\")\n",
    "    \n",
    "    print \"Base de dados contém {} passagens com {} características cada.\".format(*data_csv3.shape)\n",
    "except:\n",
    "    print \"Dataset could not be loaded. Is the dataset missing??\""
   ]
  },
  {
   "cell_type": "code",
   "execution_count": 249,
   "metadata": {},
   "outputs": [
    {
     "name": "stdout",
     "output_type": "stream",
     "text": [
      "Foram encontrados 2458 veículos passando por 195 pontos.\n"
     ]
    }
   ],
   "source": [
    "data_csv3['local'] = data_csv3['loc_latitude'].map(str) + \" \" + data_csv3['loc_longitude'].map(str) #cria coluna concatenando latitude e longitude\n",
    "data_csv3.drop(['loc_latitude', 'loc_longitude'], axis = 1, inplace = True)\n",
    "lista_veiculos_val = set(data_csv3['placa'])\n",
    "lista_locais_val = set(data_csv3['local'])\n",
    "print \"Foram encontrados {} veículos passando por {} pontos.\" .format(len(lista_veiculos_val), len(lista_locais_val))"
   ]
  },
  {
   "cell_type": "code",
   "execution_count": 250,
   "metadata": {},
   "outputs": [
    {
     "name": "stdout",
     "output_type": "stream",
     "text": [
      "Index([u'Unnamed: 0', u'placa', u'count', u'local'], dtype='object')\n"
     ]
    }
   ],
   "source": [
    "print data_csv3.columns"
   ]
  },
  {
   "cell_type": "code",
   "execution_count": 251,
   "metadata": {},
   "outputs": [
    {
     "data": {
      "text/html": [
       "<div>\n",
       "<style>\n",
       "    .dataframe thead tr:only-child th {\n",
       "        text-align: right;\n",
       "    }\n",
       "\n",
       "    .dataframe thead th {\n",
       "        text-align: left;\n",
       "    }\n",
       "\n",
       "    .dataframe tbody tr th {\n",
       "        vertical-align: top;\n",
       "    }\n",
       "</style>\n",
       "<table border=\"1\" class=\"dataframe\">\n",
       "  <thead>\n",
       "    <tr style=\"text-align: right;\">\n",
       "      <th></th>\n",
       "      <th>count</th>\n",
       "      <th>local</th>\n",
       "    </tr>\n",
       "    <tr>\n",
       "      <th>placa</th>\n",
       "      <th></th>\n",
       "      <th></th>\n",
       "    </tr>\n",
       "  </thead>\n",
       "  <tbody>\n",
       "    <tr>\n",
       "      <th>JSU6950</th>\n",
       "      <td>1</td>\n",
       "      <td>312 1961</td>\n",
       "    </tr>\n",
       "    <tr>\n",
       "      <th>PHM8690</th>\n",
       "      <td>1</td>\n",
       "      <td>7812 6182</td>\n",
       "    </tr>\n",
       "    <tr>\n",
       "      <th>PLF9114</th>\n",
       "      <td>1</td>\n",
       "      <td>7260 9133</td>\n",
       "    </tr>\n",
       "    <tr>\n",
       "      <th>HYT6516</th>\n",
       "      <td>1</td>\n",
       "      <td>6072 9488</td>\n",
       "    </tr>\n",
       "    <tr>\n",
       "      <th>OLS7252</th>\n",
       "      <td>1</td>\n",
       "      <td>224 9684</td>\n",
       "    </tr>\n",
       "  </tbody>\n",
       "</table>\n",
       "</div>"
      ],
      "text/plain": [
       "         count      local\n",
       "placa                    \n",
       "JSU6950      1   312 1961\n",
       "PHM8690      1  7812 6182\n",
       "PLF9114      1  7260 9133\n",
       "HYT6516      1  6072 9488\n",
       "OLS7252      1   224 9684"
      ]
     },
     "metadata": {},
     "output_type": "display_data"
    }
   ],
   "source": [
    "data_csv3.set_index(['placa'], inplace = True)\n",
    "data_csv3.drop(['Unnamed: 0'], axis=1, inplace = True)\n",
    "display(data_csv3.head(n=5))"
   ]
  },
  {
   "cell_type": "code",
   "execution_count": 252,
   "metadata": {},
   "outputs": [
    {
     "data": {
      "text/plain": [
       "(2458, 195)"
      ]
     },
     "metadata": {},
     "output_type": "display_data"
    }
   ],
   "source": [
    "#Criação de tabela prévia para receber os dados de veículos por locais\n",
    "data_validacao_prev = create_df_placaporpontos(data_csv3, 'local')\n",
    "display(data_validacao_prev.shape)"
   ]
  },
  {
   "cell_type": "code",
   "execution_count": 253,
   "metadata": {},
   "outputs": [
    {
     "data": {
      "text/html": [
       "<div>\n",
       "<style>\n",
       "    .dataframe thead tr:only-child th {\n",
       "        text-align: right;\n",
       "    }\n",
       "\n",
       "    .dataframe thead th {\n",
       "        text-align: left;\n",
       "    }\n",
       "\n",
       "    .dataframe tbody tr th {\n",
       "        vertical-align: top;\n",
       "    }\n",
       "</style>\n",
       "<table border=\"1\" class=\"dataframe\">\n",
       "  <thead>\n",
       "    <tr style=\"text-align: right;\">\n",
       "      <th></th>\n",
       "      <th>9988 1800</th>\n",
       "      <th>3366 9194</th>\n",
       "      <th>4738 6727</th>\n",
       "      <th>4332 2860</th>\n",
       "      <th>8053 4258</th>\n",
       "      <th>638 3103</th>\n",
       "      <th>7210 1962</th>\n",
       "      <th>1412 9134</th>\n",
       "      <th>5880 8554</th>\n",
       "      <th>2422 172</th>\n",
       "      <th>...</th>\n",
       "      <th>5303 7658</th>\n",
       "      <th>9961 3078</th>\n",
       "      <th>1866 1061</th>\n",
       "      <th>7723 5667</th>\n",
       "      <th>9666 833</th>\n",
       "      <th>1528 50</th>\n",
       "      <th>2612 6611</th>\n",
       "      <th>8188 8761</th>\n",
       "      <th>7272 1070</th>\n",
       "      <th>9711 2269</th>\n",
       "    </tr>\n",
       "  </thead>\n",
       "  <tbody>\n",
       "    <tr>\n",
       "      <th>PDZ4450</th>\n",
       "      <td>0.0</td>\n",
       "      <td>1.0</td>\n",
       "      <td>0.0</td>\n",
       "      <td>0.0</td>\n",
       "      <td>0.0</td>\n",
       "      <td>0.0</td>\n",
       "      <td>0.0</td>\n",
       "      <td>0.0</td>\n",
       "      <td>0.0</td>\n",
       "      <td>0.0</td>\n",
       "      <td>...</td>\n",
       "      <td>0.0</td>\n",
       "      <td>0.0</td>\n",
       "      <td>0.0</td>\n",
       "      <td>0.0</td>\n",
       "      <td>0.0</td>\n",
       "      <td>0.0</td>\n",
       "      <td>0.0</td>\n",
       "      <td>0.0</td>\n",
       "      <td>0.0</td>\n",
       "      <td>0.0</td>\n",
       "    </tr>\n",
       "    <tr>\n",
       "      <th>NPO9969</th>\n",
       "      <td>0.0</td>\n",
       "      <td>0.0</td>\n",
       "      <td>0.0</td>\n",
       "      <td>0.0</td>\n",
       "      <td>0.0</td>\n",
       "      <td>0.0</td>\n",
       "      <td>0.0</td>\n",
       "      <td>0.0</td>\n",
       "      <td>0.0</td>\n",
       "      <td>0.0</td>\n",
       "      <td>...</td>\n",
       "      <td>0.0</td>\n",
       "      <td>0.0</td>\n",
       "      <td>0.0</td>\n",
       "      <td>0.0</td>\n",
       "      <td>0.0</td>\n",
       "      <td>0.0</td>\n",
       "      <td>0.0</td>\n",
       "      <td>0.0</td>\n",
       "      <td>0.0</td>\n",
       "      <td>0.0</td>\n",
       "    </tr>\n",
       "    <tr>\n",
       "      <th>JOR9912</th>\n",
       "      <td>0.0</td>\n",
       "      <td>0.0</td>\n",
       "      <td>0.0</td>\n",
       "      <td>0.0</td>\n",
       "      <td>0.0</td>\n",
       "      <td>0.0</td>\n",
       "      <td>0.0</td>\n",
       "      <td>0.0</td>\n",
       "      <td>0.0</td>\n",
       "      <td>0.0</td>\n",
       "      <td>...</td>\n",
       "      <td>0.0</td>\n",
       "      <td>0.0</td>\n",
       "      <td>0.0</td>\n",
       "      <td>0.0</td>\n",
       "      <td>0.0</td>\n",
       "      <td>0.0</td>\n",
       "      <td>0.0</td>\n",
       "      <td>0.0</td>\n",
       "      <td>0.0</td>\n",
       "      <td>0.0</td>\n",
       "    </tr>\n",
       "    <tr>\n",
       "      <th>PFM6271</th>\n",
       "      <td>0.0</td>\n",
       "      <td>0.0</td>\n",
       "      <td>0.0</td>\n",
       "      <td>0.0</td>\n",
       "      <td>0.0</td>\n",
       "      <td>0.0</td>\n",
       "      <td>0.0</td>\n",
       "      <td>0.0</td>\n",
       "      <td>0.0</td>\n",
       "      <td>0.0</td>\n",
       "      <td>...</td>\n",
       "      <td>0.0</td>\n",
       "      <td>0.0</td>\n",
       "      <td>0.0</td>\n",
       "      <td>0.0</td>\n",
       "      <td>0.0</td>\n",
       "      <td>0.0</td>\n",
       "      <td>0.0</td>\n",
       "      <td>0.0</td>\n",
       "      <td>0.0</td>\n",
       "      <td>0.0</td>\n",
       "    </tr>\n",
       "    <tr>\n",
       "      <th>HRK1662</th>\n",
       "      <td>0.0</td>\n",
       "      <td>0.0</td>\n",
       "      <td>0.0</td>\n",
       "      <td>0.0</td>\n",
       "      <td>0.0</td>\n",
       "      <td>0.0</td>\n",
       "      <td>0.0</td>\n",
       "      <td>0.0</td>\n",
       "      <td>0.0</td>\n",
       "      <td>0.0</td>\n",
       "      <td>...</td>\n",
       "      <td>0.0</td>\n",
       "      <td>0.0</td>\n",
       "      <td>0.0</td>\n",
       "      <td>0.0</td>\n",
       "      <td>0.0</td>\n",
       "      <td>0.0</td>\n",
       "      <td>0.0</td>\n",
       "      <td>0.0</td>\n",
       "      <td>0.0</td>\n",
       "      <td>0.0</td>\n",
       "    </tr>\n",
       "  </tbody>\n",
       "</table>\n",
       "<p>5 rows × 195 columns</p>\n",
       "</div>"
      ],
      "text/plain": [
       "         9988 1800  3366 9194  4738 6727  4332 2860  8053 4258  638 3103  \\\n",
       "PDZ4450        0.0        1.0        0.0        0.0        0.0       0.0   \n",
       "NPO9969        0.0        0.0        0.0        0.0        0.0       0.0   \n",
       "JOR9912        0.0        0.0        0.0        0.0        0.0       0.0   \n",
       "PFM6271        0.0        0.0        0.0        0.0        0.0       0.0   \n",
       "HRK1662        0.0        0.0        0.0        0.0        0.0       0.0   \n",
       "\n",
       "         7210 1962  1412 9134  5880 8554  2422 172    ...      5303 7658  \\\n",
       "PDZ4450        0.0        0.0        0.0       0.0    ...            0.0   \n",
       "NPO9969        0.0        0.0        0.0       0.0    ...            0.0   \n",
       "JOR9912        0.0        0.0        0.0       0.0    ...            0.0   \n",
       "PFM6271        0.0        0.0        0.0       0.0    ...            0.0   \n",
       "HRK1662        0.0        0.0        0.0       0.0    ...            0.0   \n",
       "\n",
       "         9961 3078  1866 1061  7723 5667  9666 833  1528 50  2612 6611  \\\n",
       "PDZ4450        0.0        0.0        0.0       0.0      0.0        0.0   \n",
       "NPO9969        0.0        0.0        0.0       0.0      0.0        0.0   \n",
       "JOR9912        0.0        0.0        0.0       0.0      0.0        0.0   \n",
       "PFM6271        0.0        0.0        0.0       0.0      0.0        0.0   \n",
       "HRK1662        0.0        0.0        0.0       0.0      0.0        0.0   \n",
       "\n",
       "         8188 8761  7272 1070  9711 2269  \n",
       "PDZ4450        0.0        0.0        0.0  \n",
       "NPO9969        0.0        0.0        0.0  \n",
       "JOR9912        0.0        0.0        0.0  \n",
       "PFM6271        0.0        0.0        0.0  \n",
       "HRK1662        0.0        0.0        0.0  \n",
       "\n",
       "[5 rows x 195 columns]"
      ]
     },
     "metadata": {},
     "output_type": "display_data"
    }
   ],
   "source": [
    "display(data_validacao_prev.head(n=5))"
   ]
  },
  {
   "cell_type": "code",
   "execution_count": 254,
   "metadata": {},
   "outputs": [
    {
     "name": "stdout",
     "output_type": "stream",
     "text": [
      "195\n",
      "78\n"
     ]
    }
   ],
   "source": [
    "# Encontra as colunas que nao foram treinadas com o conjunto principal de dados\n",
    "colunas_nao_treinadas = list(data_validacao_prev.columns)\n",
    "print len(colunas_nao_treinadas)\n",
    "\n",
    "for loc in data.columns:\n",
    "    if loc in colunas_nao_treinadas:\n",
    "        colunas_nao_treinadas.remove(loc)\n",
    "print len(colunas_nao_treinadas)"
   ]
  },
  {
   "cell_type": "code",
   "execution_count": 257,
   "metadata": {},
   "outputs": [
    {
     "data": {
      "text/plain": [
       "(2068, 135)"
      ]
     },
     "metadata": {},
     "output_type": "display_data"
    },
    {
     "name": "stdout",
     "output_type": "stream",
     "text": [
      "['5613 8278', '3444 967', '1278 569', '6967 855', '2324 8727', '2486 1840', '4880 550', '8444 528', '5556 9333', '9999 0', '9999 9999', '4316 706', '2256 9146', '2088 6750', '3596 4244', '1010 9237', '9388 472', '388 3833']\n",
      "Tamanho do data frame:\n"
     ]
    },
    {
     "data": {
      "text/plain": [
       "(2458, 135)"
      ]
     },
     "metadata": {},
     "output_type": "display_data"
    },
    {
     "name": "stdout",
     "output_type": "stream",
     "text": [
      "O data frame final possui 2068 veículos passando nos 135 pontos treinados\n"
     ]
    }
   ],
   "source": [
    "#Retira as colunas não treinadas \n",
    "data_validacao = data_validacao_prev.drop(colunas_nao_treinadas, axis = 1)\n",
    "display(data_restricao.shape)\n",
    "\n",
    "colunas_faltantes = list()\n",
    "for c in data.columns:\n",
    "    if c in data_validacao.columns:\n",
    "        None\n",
    "    else:\n",
    "        colunas_faltantes.append(c)\n",
    "print colunas_faltantes\n",
    "\n",
    "colunas_faltantes_frame = np.zeros(shape=(len(data_validacao.index),len(colunas_faltantes)))\n",
    "colunas_faltantes_df=pd.DataFrame(colunas_faltantes_frame, index = data_validacao.index, columns=[colunas_faltantes])\n",
    "data_validacao=pd.concat([data_validacao, colunas_faltantes_df], axis=1)\n",
    "print \"Tamanho do data frame:\" \n",
    "display(data_validacao.shape)\n",
    "data_validacao.fillna(0, inplace = True)\n",
    "\n",
    "#removendo os veículos que nao passaram por nenhum ponto treinado\n",
    "data_validacao = data_validacao.loc[(data_validacao!=0).any(axis=1)]\n",
    "\n",
    "print \"O data frame final possui {} veículos passando nos {} pontos treinados\" .format(*data_restricao.shape)"
   ]
  },
  {
   "cell_type": "markdown",
   "metadata": {},
   "source": [
    "Aplicação de PCA nos dados de validação, predição nos clusteres e calculando a frequencia em cada cluster"
   ]
  },
  {
   "cell_type": "code",
   "execution_count": 198,
   "metadata": {
    "collapsed": true
   },
   "outputs": [],
   "source": [
    "data_validacao_pca = pca.transform(data_validacao) #aplica PCA\n",
    "data_validacao_pca = pd.DataFrame(data_validacao_pca, columns = pca_dimensions) #coloca os dados em um DataFrame"
   ]
  },
  {
   "cell_type": "code",
   "execution_count": 200,
   "metadata": {},
   "outputs": [
    {
     "name": "stderr",
     "output_type": "stream",
     "text": [
      "/Users/tamara/anaconda2/lib/python2.7/site-packages/ipykernel_launcher.py:14: RuntimeWarning: divide by zero encountered in log\n",
      "  \n"
     ]
    },
    {
     "data": {
      "image/png": "[encoded data removed]",
      "text/plain": [
       "<matplotlib.figure.Figure at 0x1a1ae00550>"
      ]
     },
     "metadata": {},
     "output_type": "display_data"
    }
   ],
   "source": [
    "#Ajusta os dados de validacao ao best_clusterer\n",
    "        \n",
    "data_validacao_pred = best_clusterer.predict(data_validacao_pca) #predição dos dados alvo nos clusteres treinados\n",
    "freq_validacao = np.bincount(data_validacao_pred) #distribuição de frequência por clusters dos dados alvo\n",
    "        \n",
    "a = best_freq_labels.shape[0] - freq_validacao.shape[0]        #ajusta o tamanho de freq_validacao\n",
    "freq_validacao = np.append(freq_validacao, np.zeros(a))   #ao tamanho de best_freq_labels\n",
    "\n",
    "validacao_ratio=np.divide(freq_validacao.astype(float),best_freq_labels)\n",
    "validacao_score = np.multiply(freq_validacao, validacao_ratio)\n",
    "perc_max_validacao=100*freq_validacao[np.argmax(freq_validacao)]/np.sum(freq_validacao)\n",
    "\n",
    "log_best_freq = np.log(best_freq_labels)\n",
    "log_freq_validacao = np.log(freq_validacao)\n",
    "\n",
    "x_best_labels =  np.arange(0, (1+best_labels.max()))\n",
    "\n",
    "plot_thwo_bars_graph(log_best_freq, log_freq_validacao, title = \"Comparativo veiculos geral e veiculos com restricao por segmento\", y_label = \"log\", x_label = \"Segmentos\")"
   ]
  },
  {
   "cell_type": "code",
   "execution_count": 264,
   "metadata": {},
   "outputs": [
    {
     "name": "stdout",
     "output_type": "stream",
     "text": [
      "O Segmento 18 é o segmento com maior taxa de veículos com restricao, 0.0076\n"
     ]
    },
    {
     "data": {
      "image/png": "[encoded data removed]",
      "text/plain": [
       "<matplotlib.figure.Figure at 0x1a1a5e0350>"
      ]
     },
     "metadata": {},
     "output_type": "display_data"
    }
   ],
   "source": [
    "plot_bar_graph(validacao_ratio, x_best_labels, cor='red', x_label = \"Segmentos\", y_label = \"\", title = \"Taxa de veiculos com restricao em cada segmento\")\n",
    "print \"O Segmento {} é o segmento com maior taxa de veículos com restricao, {:.4f}\" .format(np.argmax(validacao_ratio), np.max(validacao_ratio))"
   ]
  },
  {
   "cell_type": "code",
   "execution_count": 265,
   "metadata": {},
   "outputs": [
    {
     "name": "stdout",
     "output_type": "stream",
     "text": [
      "O Segmento 18 é o segmento com maior score, 11.3441.\n",
      "Esse seguimento possui 71.75% dos veículos com restricao\n",
      "O segmento 18 representa 31.33% dos veículos em geral.\n"
     ]
    },
    {
     "data": {
      "image/png": "[encoded data removed]",
      "text/plain": [
       "<matplotlib.figure.Figure at 0x1a1aac2990>"
      ]
     },
     "metadata": {},
     "output_type": "display_data"
    }
   ],
   "source": [
    "plot_bar_graph(validacao_score, x_best_labels, cor='green', x_label = \"Segmentos\", y_label = \"\", title = \"Score em cada segmento\")\n",
    "print \"O Segmento {} é o segmento com maior score, {:.4f}.\" .format(np.argmax(validacao_score), np.max(validacao_score))\n",
    "print \"Esse seguimento possui {:.2f}% dos veículos com restricao\" .format(perc_max_validacao)\n",
    "perc_max_labels=100*best_freq_labels[np.argmax(freq_validacao)].astype(float)/np.sum(best_freq_labels)\n",
    "print \"O segmento {} representa {:.2f}% dos veículos em geral.\" .format(np.argmax(freq_validacao), perc_max_labels)"
   ]
  }
 ],
 "metadata": {
  "kernelspec": {
   "display_name": "Python 2",
   "language": "python",
   "name": "python2"
  },
  "language_info": {
   "codemirror_mode": {
    "name": "ipython",
    "version": 2
   },
   "file_extension": ".py",
   "mimetype": "text/x-python",
   "name": "python",
   "nbconvert_exporter": "python",
   "pygments_lexer": "ipython2",
   "version": "2.7.13"
  }
 },
 "nbformat": 4,
 "nbformat_minor": 1
}
